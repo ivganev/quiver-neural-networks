{
 "cells": [
  {
   "cell_type": "code",
   "execution_count": 1,
   "metadata": {
    "ExecuteTime": {
     "end_time": "2022-03-10T03:39:07.818433Z",
     "start_time": "2022-03-10T03:39:06.805707Z"
    }
   },
   "outputs": [
    {
     "name": "stdout",
     "output_type": "stream",
     "text": [
      "Running on: cuda:0\n"
     ]
    }
   ],
   "source": [
    "from typing import List, Dict, Tuple\n",
    "import torch\n",
    "import torch.nn as nn\n",
    "import torch.nn.functional as F\n",
    "import matplotlib.pyplot as plt\n",
    "%matplotlib inline\n",
    "from torchvision import datasets\n",
    "import torchvision.transforms as transforms\n",
    "import numpy as np\n",
    "dev = 'cpu'\n",
    "if torch.cuda.is_available():\n",
    "    dev = 'cuda:0'\n",
    "print(\"Running on:\",dev)\n",
    "device = torch.device(dev)"
   ]
  },
  {
   "cell_type": "markdown",
   "metadata": {},
   "source": [
    "# Quivers and quiver representations"
   ]
  },
  {
   "cell_type": "markdown",
   "metadata": {},
   "source": [
    "The quiver class is designed to define an acyclic quiver with no double edges. The initial quiver is not required to have a bias vertex; such a vertex can be added with the ```add_bias()``` method.\n",
    "\n",
    "The input list of vertices is meant to be a list of strings, one for each vertex. It is best to avoid the label ```bias``` among the vertices. \n",
    "\n",
    "The input list of edges is meant to be a tuple ```e = (e[0], e[1])``` where ```e[0]``` is the source and ```e[1]``` is the target. No double edges or loops are allowed."
   ]
  },
  {
   "cell_type": "code",
   "execution_count": 2,
   "metadata": {
    "ExecuteTime": {
     "end_time": "2022-03-10T03:39:08.143331Z",
     "start_time": "2022-03-10T03:39:08.128176Z"
    }
   },
   "outputs": [],
   "source": [
    "class quiver:\n",
    "    \"\"\"Quiver class. Vertices are given as a list of strings. Edges are given as a list of pairs.\n",
    "    \n",
    "    Attributes and Methods.\n",
    "    \"\"\"\n",
    "    def __init__(self, vertices : List[str], edges : List[Tuple[str]]):\n",
    "        self.vertices = vertices\n",
    "        # Add assert to check no repeated vertices\n",
    "        # E.g. assert len(set(vertices)) == len(vertices)\n",
    "        # Assert there is no bias initially, or if there is, it has the desired properties\n",
    "        \n",
    "        self.edges = edges\n",
    "        # Add assert to check that edges is a list of pairs\n",
    "        # First entry of the pair is the sourse, second is the target\n",
    "        # Source and target of each edge should be in the vertex set      \n",
    "        # Separate class for edges? vertices?\n",
    "        \n",
    "        # Get the sources and sinks\n",
    "        sources = set(self.vertices)\n",
    "        sinks = set(self.vertices)\n",
    "        for e in self.edges:\n",
    "            sources.discard(e[1])\n",
    "            sinks.discard(e[0])\n",
    "        self.sources = sources\n",
    "        self.sinks = sinks\n",
    "    \n",
    "    # Check that the quiver is acyclic\n",
    "    def check_acyclic(self):\n",
    "        None\n",
    "        # One way: find all sources, do depth-first search\n",
    "        \n",
    "    # Check that the vertices are in topological order    \n",
    "    def check_top_order(self):\n",
    "        indices = {}\n",
    "        for i,v in enumerate(self.vertices):\n",
    "            indices[v] = i\n",
    "        return all([indices[e[0]] <  indices[e[1]] for e in self.edges])\n",
    "        \n",
    "    # Get the incoming edges for every vertex\n",
    "    def get_incoming(self, vertex):\n",
    "        assert vertex in self.vertices, \"No such vertex found\"\n",
    "        return [e for e in self.edges if e[1] == vertex]\n",
    "        # Can get the incoming neighbors as [e[1] for e in self.get_incoming(vertex)]\n",
    "        \n",
    "    # Add a bias vertex. Considering alternatives to this ... \n",
    "    def add_bias(self):\n",
    "        # Add bias vertex. This will not disturb the topological order.\n",
    "        for v in self.vertices:\n",
    "            if v not in self.sources:\n",
    "                self.edges.append(('bias', v))\n",
    "        self.vertices = ['bias'] + self.vertices\n",
    "        return\n",
    "    \n",
    "    ######\n",
    "    # Check if a vertex is a sink (Don't really need this any more)\n",
    "    def is_sink(self, vertex):\n",
    "        assert vertex in self.vertices, \"No such vertex found\"\n",
    "        return all([e[0] != vertex for e in self.edges])\n",
    "    \n"
   ]
  },
  {
   "cell_type": "code",
   "execution_count": 3,
   "metadata": {
    "ExecuteTime": {
     "end_time": "2022-03-10T03:39:08.737445Z",
     "start_time": "2022-03-10T03:39:08.708218Z"
    }
   },
   "outputs": [],
   "source": [
    "class quiver_rep:\n",
    "    \"\"\"Quiver representation class. Input a quiver with dimension vector and a matrix for each edge.\"\"\"\n",
    "    def __init__(self, quiver: quiver, dims: Dict[str,int], matrices: Dict[str, np.array]):\n",
    "        self.quiver = quiver\n",
    "        self.dims = dims\n",
    "        self.matrices = matrices\n",
    "        \n",
    "        # Check the dimension vector\n",
    "        assert len(dims) == len(self.quiver.vertices), \"Inappropriate dimension vector\"\n",
    "        for v in dims:\n",
    "            assert v in self.quiver.vertices, \"Inappropriate dim vector\"\n",
    "            assert isinstance(dims[v], int) and dims[v] >=0, \"Dimension needs to be a positive integer\"\n",
    "        \n",
    "        if 'bias' in dims:\n",
    "            assert dims['bias'] == 1, \"Dimension at bias needs to be 1\"\n",
    "\n",
    "            \n",
    "        # Check the matrices\n",
    "        assert len(matrices) == len(self.quiver.edges), \"Matrices error\"\n",
    "        for e in matrices:\n",
    "            assert e in self.quiver.edges, \"Matrices error\"\n",
    "            assert isinstance(matrices[e], np.ndarray), \"Matrices error\" # May need fixing\n",
    "            assert np.shape(matrices[e]) == (dims[e[1]], dims[e[0]]), \"Dimension error\"\n",
    "            \n",
    "            \n",
    "    # Compute the reduced dimension vector\n",
    "    def comp_dims_red(self) -> Dict:\n",
    "        \n",
    "        assert self.quiver.check_top_order(), \"Order of the vertices is not topological\"\n",
    "\n",
    "        dims_red = {}\n",
    "        for i in self.quiver.vertices:\n",
    "            if i == 'bias' or i in self.quiver.sources or i in self.quiver.sinks:\n",
    "                dims_red[i] = self.dims[i]\n",
    "            else:\n",
    "                incoming = self.quiver.get_incoming(i)\n",
    "                dims_red[i] = min(self.dims[i], sum([dims_red[e[0]] for e in incoming]) )\n",
    "\n",
    "                    \n",
    "        self.dims_red = dims_red        \n",
    "        return dims_red\n",
    "    \n",
    "    \n",
    "    # Auxiliary function\n",
    "    def padzeros(self, M, newrows, newcols = None):\n",
    "        oldrows, oldcols = M.shape\n",
    "        if newcols == None:\n",
    "            newcols = oldcols\n",
    "        return np.pad(M,((0,newrows-oldrows),(0,newcols-oldcols)),mode=\"constant\")\n",
    " \n",
    "    \n",
    "    # QR dimensional reduction algorithm\n",
    "    def QRDimRed(self, verbose : bool = False ):\n",
    "        dims = self.dims\n",
    "        matrices = self.matrices\n",
    "        quiver = self.quiver\n",
    "        vertices = quiver.vertices\n",
    "        edges = quiver.edges\n",
    "\n",
    "        # Check that vertices are in a topological order\n",
    "        assert quiver.check_top_order(), \"Order of the vertices is not topological\"\n",
    "\n",
    "        # Compute the reduced dimension vector\n",
    "        dims_red = self.comp_dims_red()\n",
    "        # print(dims, dims_red)\n",
    "\n",
    "        # Q = dictionary mapping each vertex to an orthogonal matrix\n",
    "        Q = {}\n",
    "\n",
    "        # Vmatrices = matrices of the reduced representation V, mapping each edge to a matrix\n",
    "        Vmatrices = {}\n",
    "\n",
    "        if verbose:\n",
    "            print(quiver.edges)\n",
    "            print(quiver.vertices)\n",
    "\n",
    "        for i in vertices:\n",
    "            incoming = quiver.get_incoming(i)\n",
    "\n",
    "            # Case of a source vertex\n",
    "            if incoming == []:\n",
    "                Q[i] = np.eye(dims[i])\n",
    "\n",
    "            # Case of a hidden vertex    \n",
    "            elif i not in quiver.sinks:\n",
    "\n",
    "                # Compute the matrix to be QR-decomposed\n",
    "                M = np.array([])\n",
    "                for e in incoming:\n",
    "                    # Transform weights on incoming edges\n",
    "                    Qj = Q[e[0]]\n",
    "                    Me = matrices[e] @ Qj[:,:dims_red[e[0]]]\n",
    "                    if np.shape(M) == (0,):\n",
    "                        M = Me\n",
    "                    else:\n",
    "                        M = np.hstack((M, Me))\n",
    "\n",
    "                Q[i], R = np.linalg.qr(M, mode=\"complete\")\n",
    "\n",
    "                # Case of reduction \n",
    "                if dims_red[i] < dims[i]: \n",
    "                    R = R[:dims_red[i]]\n",
    "\n",
    "                # Process and add to the dictionaries\n",
    "                for e in incoming:                       \n",
    "                    # Extract V_e from R_i for all incoming edges e\n",
    "                    Vmatrices[e] = R[:,:dims_red[e[0]]]\n",
    "                    R = R[:,dims_red[e[0]]:]\n",
    "\n",
    "            # Case of a sink (no reduction)\n",
    "            else:\n",
    "                Q[i] = np.eye(dims[i])\n",
    "                for e in incoming:\n",
    "                    # Transform weights on incoming edges\n",
    "                    Qj = Q[e[0]]\n",
    "                    Vmatrices[e] = matrices[e] @ Qj[:,:dims_red[e[0]]]                \n",
    "\n",
    "\n",
    "        # Make V into a representation\n",
    "        V = quiver_rep(quiver, dims_red, Vmatrices)\n",
    "\n",
    "        # Verify that V is a subrepresentation of Q^{-1} W  \n",
    "        for e in quiver.edges:\n",
    "            Qi = Q[e[0]]\n",
    "            Qj = Q[e[1]]\n",
    "            max_diff = np.max(np.abs(np.transpose(Qj) @ matrices[e] @ Qi[:,:dims_red[e[0]]] \n",
    "                         - self.padzeros(Vmatrices[e], dims[e[1]])))\n",
    "            assert max_diff < 1e-10, \"Error in the algorithm\"\n",
    "\n",
    "        return Q, V\n",
    "    \n",
    "    \n",
    "    def reduced_representation(self, verbose : bool = False ):\n",
    "        return self.QRDimRed(verbose)[1]\n",
    "                \n",
    "    def transformed_representation(self):\n",
    "        Q, V = self.QRDimRed()\n",
    "        transformed_mat_dict = {}\n",
    "        for e in self.quiver.edges:\n",
    "            transformed_mat_dict[e] = np.transpose(Q[e[1]]) @ self.matrices[e] @ Q[e[0]]\n",
    "        \n",
    "        Q_inv_W = quiver_rep(self.quiver, self.dims, transformed_mat_dict)\n",
    "        \n",
    "        return Q_inv_W"
   ]
  },
  {
   "cell_type": "markdown",
   "metadata": {
    "ExecuteTime": {
     "end_time": "2022-03-01T00:41:27.213007Z",
     "start_time": "2022-03-01T00:41:27.206820Z"
    }
   },
   "source": [
    "### Linear Feedforward Function"
   ]
  },
  {
   "cell_type": "code",
   "execution_count": 4,
   "metadata": {
    "ExecuteTime": {
     "end_time": "2022-03-10T03:39:09.691327Z",
     "start_time": "2022-03-10T03:39:09.673643Z"
    }
   },
   "outputs": [],
   "source": [
    "# Linear feedforward function, ignoring biases\n",
    "# Might turn out not to be super necessary\n",
    "\n",
    "def lin_ff(W : quiver_rep) -> np.array:\n",
    "    dims = W.dims\n",
    "    matrices = W.matrices\n",
    "    quiver = W.quiver\n",
    "    vertices = quiver.vertices\n",
    "    edges = quiver.edges\n",
    "    \n",
    "    assert quiver.check_top_order(), \"Order of the vertices is not topological\"\n",
    "    \n",
    "    # Dictionary for partial feedforward functions:\n",
    "    partial = {}\n",
    "    input_dim = 0\n",
    "    # input_dim = sum( [dims[i] for i in quiver.sources])\n",
    "    \n",
    "    for i in quiver.vertices:\n",
    "        incoming = quiver.get_incoming(i)\n",
    "        \n",
    "        # Case of a source\n",
    "        if i in quiver.sources:\n",
    "            \n",
    "            # Update matrices already defined\n",
    "            for j in partial:\n",
    "                partial[j] = np.hstack((partial[j], np.zeros((dims[j],dims[i]))))\n",
    "                \n",
    "            # Define the new matrix as a projection matrix\n",
    "            if input_dim == 0:\n",
    "                partial[i] = np.eye(dims[i])\n",
    "            else:\n",
    "                partial[i] = np.hstack((np.zeros((dims[i], input_dim)), np.eye(dims[i])))\n",
    "            input_dim += dims[i]\n",
    "\n",
    "        # Case of a hidden vertex or a sink\n",
    "        else:\n",
    "            \n",
    "            # Compute the matrix to be added\n",
    "            A = np.zeros((dims[i], input_dim))\n",
    "            for e in incoming:\n",
    "                # Ignore biases for now\n",
    "                if e[0] != 'bias':\n",
    "                    A += matrices[e] @ partial[e[0]]\n",
    "            partial[i] = A\n",
    "         \n",
    "    # Compute the final output matrix by stacking the matrices for sinks\n",
    "    result = np.array([])\n",
    "    for i in quiver.sinks:\n",
    "        if np.shape(result) == (0,):\n",
    "            result = partial[i]\n",
    "        else:\n",
    "            result = np.vstack((result, partial[i]))\n",
    "                        \n",
    "    return result"
   ]
  },
  {
   "cell_type": "markdown",
   "metadata": {},
   "source": [
    "# Dimensional reduction algorithm"
   ]
  },
  {
   "cell_type": "code",
   "execution_count": 5,
   "metadata": {
    "ExecuteTime": {
     "end_time": "2022-03-10T03:39:10.624768Z",
     "start_time": "2022-03-10T03:39:10.621627Z"
    }
   },
   "outputs": [],
   "source": [
    "# Auxiliary function\n",
    "\n",
    "def padzeros(M,newrows,newcols = None):\n",
    "    oldrows, oldcols = M.shape\n",
    "    if newcols == None:\n",
    "        newcols = oldcols\n",
    "    return np.pad(M,((0,newrows-oldrows),(0,newcols-oldcols)),mode=\"constant\")"
   ]
  },
  {
   "cell_type": "code",
   "execution_count": 6,
   "metadata": {
    "ExecuteTime": {
     "end_time": "2022-03-10T03:39:11.100556Z",
     "start_time": "2022-03-10T03:39:11.079482Z"
    }
   },
   "outputs": [],
   "source": [
    "# QR dimensional reduction algorithm\n",
    "# This is incorporated in the quiver_rep class\n",
    "\n",
    "def QRDimRed(W : quiver_rep, verbose : bool = False ):\n",
    "    dims = W.dims\n",
    "    matrices = W.matrices\n",
    "    quiver = W.quiver\n",
    "    vertices = quiver.vertices\n",
    "    edges = quiver.edges\n",
    "    \n",
    "    # Check that vertices are in a topological order\n",
    "    assert quiver.check_top_order(), \"Order of the vertices is not topological\"\n",
    "    \n",
    "    # Compute the reduced dimension vector\n",
    "    dims_red = W.comp_dims_red()\n",
    "    # print(dims, dims_red)\n",
    "    \n",
    "    # Q = dictionary mapping each vertex to an orthogonal matrix\n",
    "    Q = {}\n",
    "    \n",
    "    # Vmatrices = matrices of the reduced representation V, mapping each edge to a matrix\n",
    "    Vmatrices = {}\n",
    "    \n",
    "    if verbose:\n",
    "        print(quiver.edges)\n",
    "        print(quiver.vertices)\n",
    "    \n",
    "    for i in vertices:\n",
    "        incoming = quiver.get_incoming(i)\n",
    "        \n",
    "        # Case of a source vertex\n",
    "        if incoming == []:\n",
    "            Q[i] = np.eye(dims[i])\n",
    "            \n",
    "        # Case of a hidden vertex    \n",
    "        elif i not in quiver.sinks:\n",
    "            \n",
    "            # Compute the matrix to be QR-decomposed\n",
    "            M = np.array([])\n",
    "            for e in incoming:\n",
    "                # Transform weights on incoming edges\n",
    "                Qj = Q[e[0]]\n",
    "                Me = matrices[e] @ Qj[:,:dims_red[e[0]]]\n",
    "                if np.shape(M) == (0,):\n",
    "                    M = Me\n",
    "                else:\n",
    "                    M = np.hstack((M, Me))\n",
    "                    \n",
    "            Q[i], R = np.linalg.qr(M, mode=\"complete\")\n",
    "\n",
    "            # Case of reduction \n",
    "            if dims_red[i] < dims[i]: \n",
    "                R = R[:dims_red[i]]\n",
    "                \n",
    "            # Process and add to the dictionaries\n",
    "            for e in incoming:                       \n",
    "                # Extract V_e from R_i for all incoming edges e\n",
    "                Vmatrices[e] = R[:,:dims_red[e[0]]]\n",
    "                R = R[:,dims_red[e[0]]:]\n",
    "                \n",
    "        # Case of a sink (no reduction)\n",
    "        else:\n",
    "            Q[i] = np.eye(dims[i])\n",
    "            for e in incoming:\n",
    "                # Transform weights on incoming edges\n",
    "                Qj = Q[e[0]]\n",
    "                Vmatrices[e] = matrices[e] @ Qj[:,:dims_red[e[0]]]                \n",
    "\n",
    "    \n",
    "    # Make V into a representation\n",
    "    V = quiver_rep(quiver, dims_red, Vmatrices)\n",
    "\n",
    "    # Verify that V is a subrepresentation of Q^{-1} W  \n",
    "    for e in quiver.edges:\n",
    "        Qi = Q[e[0]]\n",
    "        Qj = Q[e[1]]\n",
    "        max_diff = np.max(np.abs(np.transpose(Qj) @ matrices[e] @ Qi[:,:dims_red[e[0]]] \n",
    "                     - padzeros(Vmatrices[e], dims[e[1]])))\n",
    "        assert max_diff < 1e-10, \"Error in the algorithm\"\n",
    "\n",
    "    return Q, V"
   ]
  },
  {
   "cell_type": "markdown",
   "metadata": {},
   "source": [
    "# Example 1"
   ]
  },
  {
   "cell_type": "code",
   "execution_count": 7,
   "metadata": {
    "ExecuteTime": {
     "end_time": "2022-03-10T03:44:34.607962Z",
     "start_time": "2022-03-10T03:44:34.602274Z"
    }
   },
   "outputs": [
    {
     "name": "stdout",
     "output_type": "stream",
     "text": [
      "[] [('a', 'b')] [('a', 'c'), ('b', 'c')] [('c', 'd')]\n",
      "False False False True\n",
      "True\n",
      "{'a'}\n",
      "['bias', 'a', 'b', 'c', 'd']\n",
      "[('a', 'b'), ('a', 'c'), ('b', 'c'), ('c', 'd'), ('bias', 'b'), ('bias', 'c'), ('bias', 'd')]\n"
     ]
    }
   ],
   "source": [
    "# EXAMPLE\n",
    "# Quiver with skip connections and no bias\n",
    "\n",
    "vertex_list = ['a', 'b', 'c', 'd']\n",
    "edge_list = [('a', 'b'), ('a','c'), ('b','c'), ('c', 'd')]\n",
    "\n",
    "quiv_ex = quiver(vertex_list, edge_list)\n",
    "# print(Q.vertices, Q.edges)\n",
    "\n",
    "# Test the methods\n",
    "print(quiv_ex.get_incoming('a'), quiv_ex.get_incoming('b'), quiv_ex.get_incoming('c'), quiv_ex.get_incoming('d'))\n",
    "print(quiv_ex.is_sink('a'), quiv_ex.is_sink('b'), quiv_ex.is_sink('c'), quiv_ex.is_sink('d'))\n",
    "print(quiv_ex.check_top_order())\n",
    "print(quiv_ex.sources)\n",
    "quiv_ex.add_bias()\n",
    "print(quiv_ex.vertices)\n",
    "print(quiv_ex.edges)"
   ]
  },
  {
   "cell_type": "code",
   "execution_count": 8,
   "metadata": {
    "ExecuteTime": {
     "end_time": "2022-03-10T03:44:34.707229Z",
     "start_time": "2022-03-10T03:44:34.702497Z"
    }
   },
   "outputs": [
    {
     "name": "stdout",
     "output_type": "stream",
     "text": [
      "{'bias': 1, 'a': 2, 'b': 3, 'c': 6, 'd': 2}\n"
     ]
    }
   ],
   "source": [
    "# Representation of this quiver\n",
    "\n",
    "dim_vector = {'bias' : 1, 'a': 2, 'b': 4, 'c': 8, 'd': 2 }\n",
    "\n",
    "maps = {('a', 'b') : np.random.rand(4, 2), \n",
    "        ('a', 'c') : np.random.rand(8, 2), \n",
    "        ('b', 'c') : np.random.rand(8, 4),\n",
    "        ('c', 'd') : np.random.rand(2, 8),\n",
    "        ('bias', 'b') : np.random.rand(4, 1),\n",
    "        ('bias', 'c') : np.random.rand(8, 1),\n",
    "        ('bias', 'd') : np.random.rand(2, 1)}\n",
    "\n",
    "ex_rep = quiver_rep(quiv_ex, dim_vector, maps)\n",
    "print(ex_rep.comp_dims_red())"
   ]
  },
  {
   "cell_type": "code",
   "execution_count": 9,
   "metadata": {
    "ExecuteTime": {
     "end_time": "2022-03-10T03:44:35.192444Z",
     "start_time": "2022-03-10T03:44:35.149173Z"
    }
   },
   "outputs": [
    {
     "name": "stdout",
     "output_type": "stream",
     "text": [
      "{'bias': 1, 'a': 2, 'b': 3, 'c': 6, 'd': 2}\n",
      "[(1, 1), (2, 2), (4, 4), (8, 8), (2, 2)]\n",
      "[(3, 2), (3, 1), (6, 2), (6, 3), (6, 1), (2, 6), (2, 1)]\n"
     ]
    }
   ],
   "source": [
    "# Check the algorithm\n",
    "\n",
    "Q_ex ,V_ex = QRDimRed(ex_rep)\n",
    "print(ex_rep.comp_dims_red())\n",
    "print([np.shape(Q_ex[i]) for i in Q_ex])\n",
    "print([np.shape(V_ex.matrices[e]) for e in V_ex.matrices])"
   ]
  },
  {
   "cell_type": "code",
   "execution_count": 10,
   "metadata": {
    "ExecuteTime": {
     "end_time": "2022-03-10T03:44:35.577256Z",
     "start_time": "2022-03-10T03:44:35.570738Z"
    },
    "scrolled": true
   },
   "outputs": [
    {
     "data": {
      "text/plain": [
       "array([[5.95817439, 4.59999754],\n",
       "       [8.08465361, 6.86323408]])"
      ]
     },
     "execution_count": 10,
     "metadata": {},
     "output_type": "execute_result"
    }
   ],
   "source": [
    "lin_ff(ex_rep)"
   ]
  },
  {
   "cell_type": "code",
   "execution_count": 11,
   "metadata": {
    "ExecuteTime": {
     "end_time": "2022-03-10T03:44:36.012130Z",
     "start_time": "2022-03-10T03:44:36.006740Z"
    }
   },
   "outputs": [
    {
     "data": {
      "text/plain": [
       "array([[5.95817439, 4.59999754],\n",
       "       [8.08465361, 6.86323408]])"
      ]
     },
     "execution_count": 11,
     "metadata": {},
     "output_type": "execute_result"
    }
   ],
   "source": [
    "ex_rep.matrices[('c','d')] @ ( ex_rep.matrices[('a','c')] + ex_rep.matrices[('b','c')] @ ex_rep.matrices[('a','b')] )"
   ]
  },
  {
   "cell_type": "code",
   "execution_count": 12,
   "metadata": {
    "ExecuteTime": {
     "end_time": "2022-03-10T03:44:36.476596Z",
     "start_time": "2022-03-10T03:44:36.471132Z"
    }
   },
   "outputs": [
    {
     "data": {
      "text/plain": [
       "array([[5.95817439, 4.59999754],\n",
       "       [8.08465361, 6.86323408]])"
      ]
     },
     "execution_count": 12,
     "metadata": {},
     "output_type": "execute_result"
    }
   ],
   "source": [
    "lin_ff(V_ex)"
   ]
  },
  {
   "cell_type": "markdown",
   "metadata": {},
   "source": [
    "# Example 2"
   ]
  },
  {
   "cell_type": "code",
   "execution_count": 13,
   "metadata": {
    "ExecuteTime": {
     "end_time": "2022-03-10T03:44:37.416465Z",
     "start_time": "2022-03-10T03:44:37.409662Z"
    }
   },
   "outputs": [
    {
     "name": "stdout",
     "output_type": "stream",
     "text": [
      "[] [] [('a', 'c'), ('b', 'c')] [('c', 'd')] [('c', 'e')]\n",
      "False False False True True\n",
      "True\n",
      "{'b', 'a'}\n",
      "['bias', 'a', 'b', 'c', 'd', 'e']\n",
      "[('a', 'c'), ('b', 'c'), ('c', 'd'), ('c', 'e'), ('bias', 'c'), ('bias', 'd'), ('bias', 'e')]\n"
     ]
    }
   ],
   "source": [
    "# EXAMPLE\n",
    "# Quiver with multiple inputs and outputs\n",
    "\n",
    "vertex_list2 = ['a', 'b', 'c', 'd', 'e']\n",
    "edge_list2 = [('a', 'c'), ('b','c'), ('c','d'), ('c', 'e')]\n",
    "\n",
    "quiv_ex2 = quiver(vertex_list2, edge_list2)\n",
    "# print(Q.vertices, Q.edges)\n",
    "\n",
    "# Test the methods\n",
    "print(quiv_ex2.get_incoming('a'), quiv_ex2.get_incoming('b'), quiv_ex2.get_incoming('c'), \n",
    "      quiv_ex2.get_incoming('d'), quiv_ex2.get_incoming('e'))\n",
    "print(quiv_ex2.is_sink('a'), quiv_ex2.is_sink('b'), quiv_ex2.is_sink('c'), \n",
    "      quiv_ex2.is_sink('d'), quiv_ex2.is_sink('e'))\n",
    "print(quiv_ex2.check_top_order())\n",
    "print(quiv_ex2.sources)\n",
    "quiv_ex2.add_bias()\n",
    "print(quiv_ex2.vertices)\n",
    "print(quiv_ex2.edges)"
   ]
  },
  {
   "cell_type": "code",
   "execution_count": 14,
   "metadata": {
    "ExecuteTime": {
     "end_time": "2022-03-10T03:44:37.781859Z",
     "start_time": "2022-03-10T03:44:37.772630Z"
    }
   },
   "outputs": [
    {
     "name": "stdout",
     "output_type": "stream",
     "text": [
      "{'bias': 1, 'a': 1, 'b': 2, 'c': 4, 'd': 2, 'e': 6}\n"
     ]
    }
   ],
   "source": [
    "# Representation of this quiver\n",
    "\n",
    "dim_vector2 = {'bias' : 1, 'a': 1, 'b': 2, 'c': 8, 'd': 2 , 'e': 6}\n",
    "\n",
    "maps2 = {('a', 'c') : np.random.rand(8, 1), \n",
    "        ('b', 'c') : np.random.rand(8, 2), \n",
    "        ('c', 'd') : np.random.rand(2, 8),\n",
    "        ('c', 'e') : np.random.rand(6, 8),\n",
    "        ('bias', 'c') : np.random.rand(8, 1),\n",
    "        ('bias', 'd') : np.random.rand(2, 1),\n",
    "        ('bias', 'e') : np.random.rand(6, 1)}\n",
    "\n",
    "ex_rep2 = quiver_rep(quiv_ex2, dim_vector2, maps2)\n",
    "print(ex_rep2.comp_dims_red())"
   ]
  },
  {
   "cell_type": "code",
   "execution_count": 15,
   "metadata": {
    "ExecuteTime": {
     "end_time": "2022-03-10T03:44:37.994105Z",
     "start_time": "2022-03-10T03:44:37.982322Z"
    }
   },
   "outputs": [
    {
     "name": "stdout",
     "output_type": "stream",
     "text": [
      "{'bias': 1, 'a': 1, 'b': 2, 'c': 4, 'd': 2, 'e': 6}\n",
      "[(1, 1), (1, 1), (2, 2), (8, 8), (2, 2), (6, 6)]\n",
      "[(4, 1), (4, 2), (4, 1), (2, 4), (2, 1), (6, 4), (6, 1)]\n"
     ]
    }
   ],
   "source": [
    "# Check the algorithm\n",
    "\n",
    "Q_ex2 ,V_ex2 = QRDimRed(ex_rep2)\n",
    "print(ex_rep2.comp_dims_red())\n",
    "print([np.shape(Q_ex2[i]) for i in Q_ex2])\n",
    "print([np.shape(V_ex2.matrices[e]) for e in V_ex2.matrices])"
   ]
  },
  {
   "cell_type": "code",
   "execution_count": 16,
   "metadata": {
    "ExecuteTime": {
     "end_time": "2022-03-10T03:44:38.463329Z",
     "start_time": "2022-03-10T03:44:38.457473Z"
    }
   },
   "outputs": [
    {
     "data": {
      "text/plain": [
       "array([[1.66152724, 1.74987359, 1.44190946],\n",
       "       [2.04171944, 2.58814022, 2.05977306],\n",
       "       [1.07196466, 1.538612  , 1.22838496],\n",
       "       [1.37538827, 2.17526718, 1.81517588],\n",
       "       [1.82060893, 2.02816392, 1.48761302],\n",
       "       [0.6892437 , 0.99630152, 0.8128901 ],\n",
       "       [2.0021928 , 2.08370878, 1.6845578 ],\n",
       "       [1.59726749, 2.10524116, 1.9179118 ]])"
      ]
     },
     "execution_count": 16,
     "metadata": {},
     "output_type": "execute_result"
    }
   ],
   "source": [
    "lin_ff(ex_rep2)"
   ]
  },
  {
   "cell_type": "code",
   "execution_count": 17,
   "metadata": {
    "ExecuteTime": {
     "end_time": "2022-03-10T03:44:38.894210Z",
     "start_time": "2022-03-10T03:44:38.888217Z"
    }
   },
   "outputs": [
    {
     "data": {
      "text/plain": [
       "array([[1.66152724, 1.74987359, 1.44190946],\n",
       "       [2.04171944, 2.58814022, 2.05977306],\n",
       "       [1.07196466, 1.538612  , 1.22838496],\n",
       "       [1.37538827, 2.17526718, 1.81517588],\n",
       "       [1.82060893, 2.02816392, 1.48761302],\n",
       "       [0.6892437 , 0.99630152, 0.8128901 ],\n",
       "       [2.0021928 , 2.08370878, 1.6845578 ],\n",
       "       [1.59726749, 2.10524116, 1.9179118 ]])"
      ]
     },
     "execution_count": 17,
     "metadata": {},
     "output_type": "execute_result"
    }
   ],
   "source": [
    "lin_ff(V_ex2)"
   ]
  },
  {
   "cell_type": "markdown",
   "metadata": {
    "ExecuteTime": {
     "end_time": "2022-03-01T18:07:37.311622Z",
     "start_time": "2022-03-01T18:07:37.306316Z"
    }
   },
   "source": [
    "# Example 3"
   ]
  },
  {
   "cell_type": "code",
   "execution_count": 18,
   "metadata": {
    "ExecuteTime": {
     "end_time": "2022-03-10T03:44:39.880455Z",
     "start_time": "2022-03-10T03:44:39.874512Z"
    }
   },
   "outputs": [
    {
     "name": "stdout",
     "output_type": "stream",
     "text": [
      "{'a': 2, 'b': 2, 'c': 2, 'd': 4, 'e': 2}\n"
     ]
    }
   ],
   "source": [
    "\n",
    "vertex_list2 = ['a', 'b', 'c', 'd', 'e']\n",
    "edge_list2 = [('a', 'b'), ('a','c'), ('b','d'), ('c', 'd'),('d','e')]\n",
    "\n",
    "quiv_ex2 = quiver(vertex_list2, edge_list2)\n",
    "\n",
    "dim_vector2 = {'a': 2, 'b': 3, 'c': 3, 'd': 6 , 'e': 2}\n",
    "\n",
    "maps2 = {('a', 'b') : np.random.rand(3, 2), \n",
    "        ('a', 'c') : np.random.rand(3, 2), \n",
    "        ('b', 'd') : np.random.rand(6, 3),\n",
    "        ('c', 'd') : np.random.rand(6, 3),\n",
    "        ('d', 'e') : np.random.rand(2, 6)}\n",
    "\n",
    "ex_rep2 = quiver_rep(quiv_ex2, dim_vector2, maps2)\n",
    "print(ex_rep2.comp_dims_red())\n",
    "\n",
    "Q_ex2 ,V_ex2 = QRDimRed(ex_rep2)"
   ]
  },
  {
   "cell_type": "code",
   "execution_count": 19,
   "metadata": {
    "ExecuteTime": {
     "end_time": "2022-03-10T03:44:40.357704Z",
     "start_time": "2022-03-10T03:44:40.348330Z"
    }
   },
   "outputs": [
    {
     "name": "stdout",
     "output_type": "stream",
     "text": [
      "\n",
      "('a', 'b')\n",
      "[[-1.33648655 -1.05916072]\n",
      " [ 0.          0.70506802]]\n",
      "\n",
      "('a', 'c')\n",
      "[[-1.25498372 -0.27715954]\n",
      " [ 0.         -0.33243532]]\n",
      "\n",
      "('b', 'd')\n",
      "[[ 2.18305337 -0.32096639]\n",
      " [ 0.          0.63855978]\n",
      " [ 0.          0.        ]\n",
      " [ 0.          0.        ]]\n",
      "\n",
      "('c', 'd')\n",
      "[[ 2.18548751  0.44363642]\n",
      " [-0.37805592 -0.19246729]\n",
      " [-1.17928227 -0.08126134]\n",
      " [ 0.         -0.18064971]]\n",
      "\n",
      "('d', 'e')\n",
      "[[-1.63873489  0.09450069  0.3401442  -0.28454947]\n",
      " [-0.95967006  0.42877689  0.48298921 -0.07968425]]\n"
     ]
    }
   ],
   "source": [
    "for e in V_ex2.quiver.edges:\n",
    "    print()\n",
    "    print(e)\n",
    "    print(V_ex2.matrices[e])"
   ]
  },
  {
   "cell_type": "markdown",
   "metadata": {},
   "source": [
    "# Quiver Neural Networks"
   ]
  },
  {
   "cell_type": "code",
   "execution_count": 20,
   "metadata": {
    "ExecuteTime": {
     "end_time": "2022-03-10T03:44:41.676756Z",
     "start_time": "2022-03-10T03:44:41.672961Z"
    }
   },
   "outputs": [],
   "source": [
    "class RadAct(nn.Module):\n",
    "    def __init__(self, eta = F.relu):\n",
    "        super().__init__()\n",
    "        self.eta = eta\n",
    "        self.shift = 0 \n",
    "        # Add internal bias/shift later\n",
    "        \n",
    "    def forward(self,x):\n",
    "        # x: [Batch x Channel]\n",
    "        # Radial activations\n",
    "        r = torch.linalg.norm(x, dim=-1) \n",
    "        if torch.min(r) < 1e-6:\n",
    "            r += 1e-6\n",
    "        scalar = self.eta(r + self.shift) / r\n",
    "        return x * scalar.unsqueeze(-1)   "
   ]
  },
  {
   "cell_type": "code",
   "execution_count": 21,
   "metadata": {
    "ExecuteTime": {
     "end_time": "2022-03-10T03:44:42.328569Z",
     "start_time": "2022-03-10T03:44:42.316719Z"
    }
   },
   "outputs": [],
   "source": [
    "class QuiverNN(nn.Module):\n",
    "    \n",
    "    def __init__(self, eta: float , quiver: quiver, dims: Dict[str,int] ):\n",
    "        super().__init__()\n",
    "        self.eta = eta\n",
    "        self.quiver = quiver\n",
    "        self.dims = dims\n",
    "        self.matrices = nn.ModuleDict()\n",
    "        for e in quiver.edges:\n",
    "            self.matrices[self.edge_tup_to_str(e)] = nn.Linear(self.dims[e[0]], self.dims[e[1]], bias = False)\n",
    "        \n",
    "        assert quiver.check_top_order(), \"Vertices not in topological order.\"\n",
    "        \n",
    "        self.act = RadAct(self.eta)\n",
    "        #self.quiver_rep = quiver_rep()\n",
    "        \n",
    "        # Assert statement to check that dims is a dimension vector for Q\n",
    "        \n",
    "        # Reduced dimension vector\n",
    "    \n",
    "    def edge_tup_to_str(self,e):\n",
    "        (t,h) = e\n",
    "        return t + \" to \" + h\n",
    "    \n",
    "    def get_matrix(self,e):\n",
    "        return self.matrices[self.edge_tup_to_str(e)].weight\n",
    "\n",
    "    def edge_str_to_tup(self,e):\n",
    "        t,to,h = e.split()\n",
    "        return (t,h)\n",
    "\n",
    "    def forward(self, x, non_linear = True):\n",
    "        \n",
    "        #Initialize Data Flow\n",
    "        h = {}\n",
    "        h['bias'] = torch.tensor(1.0)\n",
    "        for v in self.quiver.sources:\n",
    "            h[v] = x[v]\n",
    "            batch_size = x[v].shape[0]\n",
    "        \n",
    "        #Assert batchsize is same for all sources \n",
    "        \n",
    "        for v in self.quiver.vertices:\n",
    "            if v not in self.quiver.sources:\n",
    "                h[v] = torch.zeros(batch_size,self.dims[v])\n",
    "                for e in self.quiver.get_incoming(v):\n",
    "                    e_lin = self.matrices[self.edge_tup_to_str(e)]\n",
    "                    h[e[1]] += e_lin(h[e[0]])\n",
    "                if non_linear:\n",
    "                    h[v] = self.act(h[v])\n",
    "        \n",
    "        out = {}\n",
    "        for v in self.quiver.sinks:\n",
    "            out[v] = h[v]\n",
    "            \n",
    "        return out\n",
    "            \n",
    "    \n",
    "    def set_weights(self, new_weights: quiver_rep):\n",
    "        assert new_weights.quiver == self.quiver, \"weights have different quiver\"\n",
    "        \n",
    "        for e in self.quiver.edges:\n",
    "            self.matrices[self.edge_tup_to_str(e)].weight = \\\n",
    "                torch.nn.Parameter(torch.tensor(new_weights.matrices[e],dtype = torch.float))\n",
    "        self.dims = new_weights.dims\n",
    "    \n",
    "    def set_activation_biases(self, new_biases: List[float]):    \n",
    "        None\n",
    "\n",
    "    def export_weights(self) -> quiver_rep:\n",
    "        quiver_rep_matrix_dict = {}\n",
    "        for e in self.quiver.edges:\n",
    "            quiver_rep_matrix_dict[e] = self.matrices[self.edge_tup_to_str(e)].weight.detach().cpu().numpy()\n",
    "        return quiver_rep(self.quiver, self.dims, quiver_rep_matrix_dict)\n",
    "    \n",
    "    def export_activation_biases(self) -> List[float]:\n",
    "        None\n",
    "    \n",
    "    def export_reduced_weights(self) -> quiver_rep:\n",
    "        exported_rep = self.export_weights()\n",
    "        return exported_rep.reduced_representation()\n",
    "    \n",
    "    def transformed_network(self):\n",
    "        exported_rep = self.export_weights()\n",
    "        rep_transformed = exported_rep.transformed_representation()\n",
    "        net_trans = QuiverNN(self.eta, self.quiver, self.dims)\n",
    "        net_trans.set_weights(rep_transformed)\n",
    "        #net_trans.set_activation_biases(self.export_activation_biases())\n",
    "        return net_trans\n",
    "        \n",
    "    def reduced_network(self):\n",
    "        reduced_rep = self.export_reduced_weights()\n",
    "        net_reduced = QuiverNN(self.eta, self.quiver, reduced_rep.dims)\n",
    "        net_reduced.set_weights(reduced_rep)\n",
    "        #net_trans.set_activation_biases(self.export_activation_biases())\n",
    "        return net_reduced"
   ]
  },
  {
   "cell_type": "markdown",
   "metadata": {},
   "source": [
    "## Example"
   ]
  },
  {
   "cell_type": "code",
   "execution_count": 36,
   "metadata": {
    "ExecuteTime": {
     "end_time": "2022-03-10T03:51:56.274217Z",
     "start_time": "2022-03-10T03:51:56.262193Z"
    }
   },
   "outputs": [
    {
     "name": "stdout",
     "output_type": "stream",
     "text": [
      "{'bias': 1, 'a': 1, 'b': 2, 'c': 4, 'd': 2, 'e': 6}\n"
     ]
    }
   ],
   "source": [
    "vertex_list2 = ['a', 'b', 'c', 'd', 'e']\n",
    "edge_list2 = [('a', 'c'), ('b','c'), ('c','d'), ('c', 'e')]\n",
    "dim_vector2 = {'bias' : 1, 'a': 1, 'b': 2, 'c': 8, 'd': 2 , 'e': 6}\n",
    "quiv_ex2 = quiver(vertex_list2, edge_list2)\n",
    "quiv_ex2.add_bias()\n",
    "\n",
    "quiverNN = QuiverNN(eta = F.relu, quiver = quiv_ex2, dims = dim_vector2)\n",
    "\n",
    "# Representation of this quiver\n",
    "\n",
    "maps2 = {('a', 'c') : np.random.rand(8, 1), \n",
    "        ('b', 'c') : np.random.rand(8, 2), \n",
    "        ('c', 'd') : np.random.rand(2, 8),\n",
    "        ('c', 'e') : np.random.rand(6, 8),\n",
    "        ('bias', 'c') : np.random.rand(8, 1),\n",
    "        ('bias', 'd') : np.random.rand(2, 1),\n",
    "        ('bias', 'e') : np.random.rand(6, 1)}\n",
    "\n",
    "ex_rep2 = quiver_rep(quiv_ex2, dim_vector2, maps2)\n",
    "print(ex_rep2.comp_dims_red())\n",
    "\n",
    "quiverNN.set_weights(ex_rep2)"
   ]
  },
  {
   "cell_type": "code",
   "execution_count": 37,
   "metadata": {
    "ExecuteTime": {
     "end_time": "2022-03-10T03:51:56.713198Z",
     "start_time": "2022-03-10T03:51:56.702475Z"
    }
   },
   "outputs": [
    {
     "data": {
      "text/plain": [
       "{'d': tensor([[5.0966, 4.9975]], grad_fn=<MulBackward0>),\n",
       " 'e': tensor([[6.1732, 7.2030, 7.0809, 6.3950, 3.4121, 4.5367]],\n",
       "        grad_fn=<MulBackward0>)}"
      ]
     },
     "execution_count": 37,
     "metadata": {},
     "output_type": "execute_result"
    }
   ],
   "source": [
    "x = {'a': torch.tensor([[1.0]]),'b': torch.tensor([[1.0,1.0]])}\n",
    "quiverNN(x)"
   ]
  },
  {
   "cell_type": "code",
   "execution_count": 38,
   "metadata": {
    "ExecuteTime": {
     "end_time": "2022-03-10T03:51:57.123123Z",
     "start_time": "2022-03-10T03:51:57.117508Z"
    }
   },
   "outputs": [
    {
     "data": {
      "text/plain": [
       "<__main__.quiver_rep at 0x7f50bd6e0490>"
      ]
     },
     "execution_count": 38,
     "metadata": {},
     "output_type": "execute_result"
    }
   ],
   "source": [
    "quiverNN.export_weights()"
   ]
  },
  {
   "cell_type": "code",
   "execution_count": 39,
   "metadata": {
    "ExecuteTime": {
     "end_time": "2022-03-10T03:51:57.636298Z",
     "start_time": "2022-03-10T03:51:57.623200Z"
    }
   },
   "outputs": [
    {
     "data": {
      "text/plain": [
       "<__main__.quiver_rep at 0x7f50c6043e10>"
      ]
     },
     "execution_count": 39,
     "metadata": {},
     "output_type": "execute_result"
    }
   ],
   "source": [
    "quiverNN.export_reduced_weights()"
   ]
  },
  {
   "cell_type": "code",
   "execution_count": 40,
   "metadata": {
    "ExecuteTime": {
     "end_time": "2022-03-10T03:51:58.079049Z",
     "start_time": "2022-03-10T03:51:58.070921Z"
    }
   },
   "outputs": [
    {
     "data": {
      "text/plain": [
       "{'bias': 1, 'a': 1, 'b': 2, 'c': 4, 'd': 2, 'e': 6}"
      ]
     },
     "execution_count": 40,
     "metadata": {},
     "output_type": "execute_result"
    }
   ],
   "source": [
    "quiverNN.export_weights().comp_dims_red()"
   ]
  },
  {
   "cell_type": "code",
   "execution_count": 41,
   "metadata": {
    "ExecuteTime": {
     "end_time": "2022-03-10T03:51:58.710882Z",
     "start_time": "2022-03-10T03:51:58.689771Z"
    }
   },
   "outputs": [
    {
     "data": {
      "text/plain": [
       "QuiverNN(\n",
       "  (matrices): ModuleDict(\n",
       "    (a to c): Linear(in_features=1, out_features=4, bias=False)\n",
       "    (b to c): Linear(in_features=2, out_features=4, bias=False)\n",
       "    (c to d): Linear(in_features=4, out_features=2, bias=False)\n",
       "    (c to e): Linear(in_features=4, out_features=6, bias=False)\n",
       "    (bias to c): Linear(in_features=1, out_features=4, bias=False)\n",
       "    (bias to d): Linear(in_features=1, out_features=2, bias=False)\n",
       "    (bias to e): Linear(in_features=1, out_features=6, bias=False)\n",
       "  )\n",
       "  (act): RadAct()\n",
       ")"
      ]
     },
     "execution_count": 41,
     "metadata": {},
     "output_type": "execute_result"
    }
   ],
   "source": [
    "red_quiverNN = quiverNN.reduced_network()\n",
    "red_quiverNN"
   ]
  },
  {
   "cell_type": "code",
   "execution_count": 42,
   "metadata": {
    "ExecuteTime": {
     "end_time": "2022-03-10T03:52:00.885534Z",
     "start_time": "2022-03-10T03:52:00.877440Z"
    }
   },
   "outputs": [
    {
     "data": {
      "text/plain": [
       "{'d': tensor([[5.0966, 4.9975]], grad_fn=<MulBackward0>),\n",
       " 'e': tensor([[6.1732, 7.2030, 7.0809, 6.3950, 3.4121, 4.5367]],\n",
       "        grad_fn=<MulBackward0>)}"
      ]
     },
     "execution_count": 42,
     "metadata": {},
     "output_type": "execute_result"
    }
   ],
   "source": [
    "red_quiverNN = quiverNN.reduced_network()\n",
    "x = {'a': torch.tensor([[1.0]]),'b': torch.tensor([[1.0,1.0]])}\n",
    "red_quiverNN(x)"
   ]
  },
  {
   "cell_type": "markdown",
   "metadata": {},
   "source": [
    "## Test Theorem"
   ]
  },
  {
   "cell_type": "code",
   "execution_count": 63,
   "metadata": {
    "ExecuteTime": {
     "end_time": "2022-03-10T04:23:20.109483Z",
     "start_time": "2022-03-10T04:23:20.097838Z"
    }
   },
   "outputs": [],
   "source": [
    "W = quiverNN.export_weights()\n",
    "T = quiverNN.transformed_network()\n",
    "Q,V = quiverNN.export_weights().QRDimRed()"
   ]
  },
  {
   "cell_type": "code",
   "execution_count": 64,
   "metadata": {
    "ExecuteTime": {
     "end_time": "2022-03-10T04:23:20.562077Z",
     "start_time": "2022-03-10T04:23:20.545596Z"
    }
   },
   "outputs": [
    {
     "name": "stdout",
     "output_type": "stream",
     "text": [
      "{'bias': 1, 'a': 1, 'b': 2, 'c': 8, 'd': 2, 'e': 6}\n",
      "{'bias': 1, 'a': 1, 'b': 2, 'c': 4, 'd': 2, 'e': 6}\n",
      "\n",
      "('a', 'c')\n",
      "[[-1.63]\n",
      " [-0.  ]\n",
      " [-0.  ]\n",
      " [ 0.  ]\n",
      " [-0.  ]\n",
      " [-0.  ]\n",
      " [ 0.  ]\n",
      " [-0.  ]]\n",
      "\n",
      "('b', 'c')\n",
      "[[-1.55 -1.59]\n",
      " [-0.81 -0.65]\n",
      " [-0.    1.22]\n",
      " [ 0.    0.  ]\n",
      " [-0.   -0.  ]\n",
      " [ 0.   -0.  ]\n",
      " [ 0.    0.  ]\n",
      " [-0.    0.  ]]\n",
      "\n",
      "('c', 'd')\n",
      "[[-0.9  -0.52  0.04 -0.1   0.17  0.21 -0.38  0.07]\n",
      " [-0.91  0.07  0.62  0.19 -0.24 -0.58 -0.1  -0.03]]\n",
      "\n",
      "('c', 'e')\n",
      "[[-0.88 -0.98  0.44  0.12 -0.46 -0.18  0.09 -0.41]\n",
      " [-1.25 -0.78  0.1   0.61 -0.42 -0.16  0.16 -0.13]\n",
      " [-1.12 -0.84  0.41  0.48  0.22 -0.15  0.18 -0.01]\n",
      " [-1.17 -0.17  0.48  0.66 -0.04 -0.67 -0.18 -0.05]\n",
      " [-0.64  0.05  0.36  0.23 -0.15 -0.37  0.24  0.01]\n",
      " [-0.79 -0.73 -0.23  0.28  0.2  -0.2  -0.32 -0.27]]\n",
      "\n",
      "('bias', 'c')\n",
      "[[-1.09]\n",
      " [-0.61]\n",
      " [ 0.45]\n",
      " [ 0.96]\n",
      " [-0.  ]\n",
      " [-0.  ]\n",
      " [ 0.  ]\n",
      " [-0.  ]]\n",
      "\n",
      "('bias', 'd')\n",
      "[[0.32]\n",
      " [0.06]]\n",
      "\n",
      "('bias', 'e')\n",
      "[[0.37]\n",
      " [0.69]\n",
      " [0.35]\n",
      " [0.75]\n",
      " [0.31]\n",
      " [0.98]]\n"
     ]
    }
   ],
   "source": [
    "print(quiverNN.dims)\n",
    "print(quiverNN.export_reduced_weights().dims)\n",
    "for e in T.quiver.edges:\n",
    "    print()\n",
    "    print(e)\n",
    "    print(T.get_matrix(e).detach().cpu().numpy().round(2))"
   ]
  },
  {
   "cell_type": "code",
   "execution_count": 65,
   "metadata": {
    "ExecuteTime": {
     "end_time": "2022-03-10T04:23:21.079605Z",
     "start_time": "2022-03-10T04:23:21.072048Z"
    }
   },
   "outputs": [],
   "source": [
    "def single_mask(red_rows, red_cols, orig_rows, orig_cols):\n",
    "    assert red_rows <= orig_rows \n",
    "    assert red_cols <= orig_cols\n",
    "    mask = torch.ones((orig_rows, orig_cols))\n",
    "    for j in range(red_rows, orig_rows):\n",
    "        mask[j][:red_cols] = 0\n",
    "    return mask"
   ]
  },
  {
   "cell_type": "code",
   "execution_count": 66,
   "metadata": {
    "ExecuteTime": {
     "end_time": "2022-03-10T04:23:21.688216Z",
     "start_time": "2022-03-10T04:23:21.680964Z"
    }
   },
   "outputs": [],
   "source": [
    "def gamma(model, x, lr):\n",
    "    \n",
    "    y = model(x)\n",
    "    \n",
    "    L = torch.tensor(0.0)\n",
    "    for k in y:\n",
    "        L += y[k].pow(2).mean()\n",
    "    L.backward()\n",
    "    \n",
    "    print(L)\n",
    "    \n",
    "    with torch.no_grad(): \n",
    "        for e in model.quiver.edges:\n",
    "            p = model.get_matrix(e)\n",
    "            p -= lr * p.grad\n",
    "    \n",
    "    \n",
    "    return model\n",
    "    \n"
   ]
  },
  {
   "cell_type": "code",
   "execution_count": 67,
   "metadata": {
    "ExecuteTime": {
     "end_time": "2022-03-10T04:23:22.288060Z",
     "start_time": "2022-03-10T04:23:22.275271Z"
    }
   },
   "outputs": [],
   "source": [
    "def gammaPGD(model, x, lr):\n",
    "    \n",
    "    y = model(x)\n",
    "    \n",
    "    dims = model.dims \n",
    "    red_dims = model.export_reduced_weights().dims\n",
    "    \n",
    "    L = torch.tensor(0.0)\n",
    "    for k in y:\n",
    "        L += y[k].pow(2).mean()\n",
    "    L.backward()\n",
    "\n",
    "    print(L)\n",
    "    \n",
    "    with torch.no_grad(): \n",
    "        for e in model.quiver.edges:\n",
    "            p = model.get_matrix(e)\n",
    "            mask_grad = single_mask(red_dims[e[1]],red_dims[e[0]],dims[e[1]],dims[e[0]])\n",
    "            p -= lr * (mask_grad * p.grad)\n",
    "    \n",
    "    return model\n",
    "    "
   ]
  },
  {
   "cell_type": "code",
   "execution_count": 68,
   "metadata": {
    "ExecuteTime": {
     "end_time": "2022-03-10T04:23:23.012204Z",
     "start_time": "2022-03-10T04:23:22.992710Z"
    }
   },
   "outputs": [
    {
     "data": {
      "text/plain": [
       "<All keys matched successfully>"
      ]
     },
     "execution_count": 68,
     "metadata": {},
     "output_type": "execute_result"
    }
   ],
   "source": [
    "gd_quiverNN = type(quiverNN)(quiverNN.eta, quiverNN.quiver, quiverNN.dims) # get a new instance\n",
    "gd_quiverNN.load_state_dict(quiverNN.state_dict())\n",
    "\n",
    "pgd_quiverNN = type(quiverNN)(quiverNN.eta, quiverNN.quiver, quiverNN.dims) # get a new instance\n",
    "pgd_quiverNN.load_state_dict(quiverNN.state_dict())\n",
    "\n",
    "gd_red_quiverNN = type(red_quiverNN)(red_quiverNN.eta, red_quiverNN.quiver, red_quiverNN.dims) # get a new instance\n",
    "gd_red_quiverNN.load_state_dict(red_quiverNN.state_dict())"
   ]
  },
  {
   "cell_type": "code",
   "execution_count": 69,
   "metadata": {
    "ExecuteTime": {
     "end_time": "2022-03-10T04:23:23.856046Z",
     "start_time": "2022-03-10T04:23:23.848381Z"
    }
   },
   "outputs": [
    {
     "data": {
      "text/plain": [
       "<All keys matched successfully>"
      ]
     },
     "execution_count": 69,
     "metadata": {},
     "output_type": "execute_result"
    }
   ],
   "source": [
    "pgd_T = type(T)(T.eta, T.quiver, T.dims) # get a new instance\n",
    "pgd_T.load_state_dict(T.state_dict())"
   ]
  },
  {
   "cell_type": "code",
   "execution_count": 70,
   "metadata": {
    "ExecuteTime": {
     "end_time": "2022-03-10T04:23:24.668801Z",
     "start_time": "2022-03-10T04:23:24.663759Z"
    }
   },
   "outputs": [],
   "source": [
    "lr = 0.001\n",
    "x = {'a': torch.tensor([[1.0]]),'b': torch.tensor([[1.0,1.0]])}"
   ]
  },
  {
   "cell_type": "code",
   "execution_count": 75,
   "metadata": {
    "ExecuteTime": {
     "end_time": "2022-03-10T04:23:38.465662Z",
     "start_time": "2022-03-10T04:23:38.453924Z"
    }
   },
   "outputs": [
    {
     "name": "stdout",
     "output_type": "stream",
     "text": [
      "tensor(57.2242, grad_fn=<AddBackward0>)\n"
     ]
    }
   ],
   "source": [
    "gamma(gd_quiverNN, x, lr);"
   ]
  },
  {
   "cell_type": "code",
   "execution_count": 76,
   "metadata": {
    "ExecuteTime": {
     "end_time": "2022-03-10T04:23:39.193486Z",
     "start_time": "2022-03-10T04:23:39.175869Z"
    }
   },
   "outputs": [
    {
     "name": "stdout",
     "output_type": "stream",
     "text": [
      "tensor(58.0665, grad_fn=<AddBackward0>)\n"
     ]
    }
   ],
   "source": [
    "gammaPGD(pgd_quiverNN, x, lr);"
   ]
  },
  {
   "cell_type": "code",
   "execution_count": 77,
   "metadata": {
    "ExecuteTime": {
     "end_time": "2022-03-10T04:23:39.663795Z",
     "start_time": "2022-03-10T04:23:39.656109Z"
    }
   },
   "outputs": [
    {
     "name": "stdout",
     "output_type": "stream",
     "text": [
      "tensor(57.3265, grad_fn=<AddBackward0>)\n"
     ]
    }
   ],
   "source": [
    "gamma(gd_red_quiverNN, x, lr);"
   ]
  },
  {
   "cell_type": "code",
   "execution_count": 78,
   "metadata": {
    "ExecuteTime": {
     "end_time": "2022-03-10T04:23:40.189848Z",
     "start_time": "2022-03-10T04:23:40.180174Z"
    }
   },
   "outputs": [
    {
     "name": "stdout",
     "output_type": "stream",
     "text": [
      "tensor(57.3265, grad_fn=<AddBackward0>)\n"
     ]
    }
   ],
   "source": [
    "gammaPGD(pgd_T, x, lr);"
   ]
  },
  {
   "cell_type": "code",
   "execution_count": null,
   "metadata": {},
   "outputs": [],
   "source": [
    "# gamma(W) = Q gamma(T)\n",
    "# gammaP(T) = gamma(V) + T-V"
   ]
  },
  {
   "cell_type": "code",
   "execution_count": 79,
   "metadata": {
    "ExecuteTime": {
     "end_time": "2022-03-10T04:24:32.049651Z",
     "start_time": "2022-03-10T04:24:32.044653Z"
    }
   },
   "outputs": [],
   "source": [
    "# ToDo: Add Q action on network\n",
    "# Add padding function for comparison "
   ]
  },
  {
   "cell_type": "markdown",
   "metadata": {},
   "source": [
    "## Old Code"
   ]
  },
  {
   "cell_type": "code",
   "execution_count": 158,
   "metadata": {
    "ExecuteTime": {
     "end_time": "2022-03-01T04:28:14.191343Z",
     "start_time": "2022-03-01T04:28:14.162307Z"
    }
   },
   "outputs": [],
   "source": [
    "#################################\n",
    "## Loss function (mean square error)\n",
    "#################################\n",
    "\n",
    "def loss_fn(y_predict, y_train):\n",
    "    squared_diffs = (y_predict - y_train)**2\n",
    "    return squared_diffs.mean()\n",
    "\n",
    "\n",
    "#################################\n",
    "## Masks used in projected gradient descent\n",
    "#################################\n",
    "\n",
    "def single_mask(red_rows, red_cols, orig_rows, orig_cols):\n",
    "    assert red_rows <= orig_rows \n",
    "    assert red_cols <= orig_cols\n",
    "    mask = torch.ones((orig_rows, orig_cols))\n",
    "    for j in range(red_rows, orig_rows):\n",
    "        mask[j][:red_cols] = 0\n",
    "    return mask\n",
    "\n",
    "def masks(reduced_dims, orig_dims):\n",
    "    N = len(reduced_dims)\n",
    "    assert N == len(orig_dims), \\\n",
    "    \"Lengths must match\"\n",
    "    assert all([reduced_dims[i] <= orig_dims[i] for i in range(N)]), \\\n",
    "        \"Reduced dimension vector must not be larger in any coordinate\"\n",
    "    \n",
    "    masks = []\n",
    "    \n",
    "    # Add masks in order corresponding to the parameters\n",
    "    for i in range(N-1):\n",
    "        masks.append(single_mask(reduced_dims[i+1], reduced_dims[i], orig_dims[i+1], orig_dims[i]))\n",
    "        masks.append(torch.transpose(single_mask(reduced_dims[i+1], 1, orig_dims[i+1],1 ), 0,1).reshape(orig_dims[i+1]))\n",
    "    \n",
    "    return(masks)\n",
    "\n",
    "\n",
    "#################################\n",
    "## Training loop with usual gradient descent\n",
    "## Optimizer excluded to remove randomness\n",
    "#################################\n",
    "\n",
    "def training_loop(n_epochs, learning_rate, model, params, x_train, y_train, verbose=True):\n",
    "    for epoch in range(1, n_epochs + 1):\n",
    "        for p in params:\n",
    " \n",
    "          if p.grad is not None: \n",
    "                p.grad.zero_()\n",
    "        \n",
    "        y_pred = model(x_train) \n",
    "        loss = loss_fn(y_pred, y_train)            \n",
    "        loss.backward()\n",
    "        \n",
    "        with torch.no_grad(): \n",
    "            for p in params:\n",
    "                p -= learning_rate * p.grad\n",
    "                \n",
    "        if verbose:\n",
    "            if epoch ==1 or epoch % 500 == 0:\n",
    "                print('Epoch %d, Loss %f' % (epoch, float(loss)))\n",
    "            \n",
    "    return model\n",
    "\n",
    "\n",
    "#################################\n",
    "## Training loop with projected gradient descent\n",
    "## Optimizer excluded to remove randomness\n",
    "#################################\n",
    "\n",
    "def training_loop_proj_GD(n_epochs, learning_rate, model, params, original_dimensions, reduced_dimensions, \\\n",
    "                          x_train, y_train, verbose=True):\n",
    "    \n",
    "    param_masks = masks(reduced_dimensions, original_dimensions)\n",
    "    \n",
    "    for epoch in range(1, n_epochs + 1):\n",
    "        for p in params:\n",
    "            if p.grad is not None: \n",
    "                p.grad.zero_()\n",
    "        \n",
    "        y_pred = model(x_train) \n",
    "        loss = loss_fn(y_pred, y_train)            \n",
    "        loss.backward()\n",
    "        \n",
    "        with torch.no_grad(): \n",
    "            for p,m in zip(params, param_masks):\n",
    "                assert p.shape == m.shape, \"Parameter shape and mask shape don't match\"\n",
    "                \n",
    "                # Use the mask to zero out gradients that will not be updated\n",
    "                p -= learning_rate * (p.grad * m)\n",
    "                \n",
    "        if verbose:\n",
    "            if epoch ==1 or epoch % 500 == 0:\n",
    "                print('Epoch %d, Loss %f' % (epoch, float(loss)))\n",
    "            \n",
    "    return model"
   ]
  },
  {
   "cell_type": "markdown",
   "metadata": {},
   "source": [
    "# Scraps"
   ]
  },
  {
   "cell_type": "code",
   "execution_count": null,
   "metadata": {},
   "outputs": [],
   "source": []
  },
  {
   "cell_type": "code",
   "execution_count": null,
   "metadata": {
    "ExecuteTime": {
     "end_time": "2022-02-18T19:15:45.683291Z",
     "start_time": "2022-02-18T19:15:44.729Z"
    }
   },
   "outputs": [],
   "source": [
    "class vertex:\n",
    "    def __init__(self):\n",
    "        None"
   ]
  },
  {
   "cell_type": "code",
   "execution_count": null,
   "metadata": {
    "ExecuteTime": {
     "end_time": "2022-02-18T19:15:45.683918Z",
     "start_time": "2022-02-18T19:15:44.730Z"
    }
   },
   "outputs": [],
   "source": [
    "a = vertex()"
   ]
  },
  {
   "cell_type": "code",
   "execution_count": null,
   "metadata": {},
   "outputs": [],
   "source": []
  },
  {
   "cell_type": "code",
   "execution_count": null,
   "metadata": {},
   "outputs": [],
   "source": []
  },
  {
   "cell_type": "code",
   "execution_count": null,
   "metadata": {
    "ExecuteTime": {
     "end_time": "2022-02-18T19:15:45.684576Z",
     "start_time": "2022-02-18T19:15:44.734Z"
    }
   },
   "outputs": [],
   "source": [
    "# Troubleshooting\n",
    "\n",
    "W1 = np.random.rand(4, 2)\n",
    "print(type(W1))\n",
    "print(isinstance(W1, np.ndarray))"
   ]
  },
  {
   "cell_type": "code",
   "execution_count": null,
   "metadata": {},
   "outputs": [],
   "source": []
  },
  {
   "cell_type": "code",
   "execution_count": null,
   "metadata": {},
   "outputs": [],
   "source": []
  },
  {
   "cell_type": "code",
   "execution_count": null,
   "metadata": {
    "ExecuteTime": {
     "end_time": "2022-02-18T19:15:45.685171Z",
     "start_time": "2022-02-18T19:15:44.737Z"
    }
   },
   "outputs": [],
   "source": [
    "a = np.random.rand(4,2)\n",
    "b = np.random.rand(4,4)\n",
    "a, b"
   ]
  },
  {
   "cell_type": "code",
   "execution_count": null,
   "metadata": {
    "ExecuteTime": {
     "end_time": "2022-02-18T19:15:45.685709Z",
     "start_time": "2022-02-18T19:15:44.737Z"
    }
   },
   "outputs": [],
   "source": [
    "c = np.hstack((a,b))\n",
    "np.shape(c)"
   ]
  },
  {
   "cell_type": "code",
   "execution_count": null,
   "metadata": {
    "ExecuteTime": {
     "end_time": "2022-02-18T19:15:45.686275Z",
     "start_time": "2022-02-18T19:15:44.739Z"
    }
   },
   "outputs": [],
   "source": [
    "b"
   ]
  },
  {
   "cell_type": "code",
   "execution_count": null,
   "metadata": {
    "ExecuteTime": {
     "end_time": "2022-02-18T19:15:45.686990Z",
     "start_time": "2022-02-18T19:15:44.740Z"
    },
    "scrolled": true
   },
   "outputs": [],
   "source": [
    "b[:,:2]"
   ]
  },
  {
   "cell_type": "code",
   "execution_count": null,
   "metadata": {
    "ExecuteTime": {
     "end_time": "2022-02-18T19:15:45.687633Z",
     "start_time": "2022-02-18T19:15:44.741Z"
    }
   },
   "outputs": [],
   "source": [
    "b[:,2:]"
   ]
  },
  {
   "cell_type": "code",
   "execution_count": null,
   "metadata": {
    "ExecuteTime": {
     "end_time": "2022-02-18T19:15:45.688326Z",
     "start_time": "2022-02-18T19:15:44.743Z"
    }
   },
   "outputs": [],
   "source": [
    "np.shape(b[:,:2])"
   ]
  },
  {
   "cell_type": "code",
   "execution_count": null,
   "metadata": {
    "ExecuteTime": {
     "end_time": "2022-02-18T19:15:45.689007Z",
     "start_time": "2022-02-18T19:15:44.744Z"
    }
   },
   "outputs": [],
   "source": [
    "np.shape(np.array([]))"
   ]
  },
  {
   "cell_type": "code",
   "execution_count": 186,
   "metadata": {
    "ExecuteTime": {
     "end_time": "2022-03-01T12:58:12.661152Z",
     "start_time": "2022-03-01T12:58:12.642219Z"
    }
   },
   "outputs": [
    {
     "ename": "TypeError",
     "evalue": "tensor() got an unexpected keyword argument 'name'",
     "output_type": "error",
     "traceback": [
      "\u001b[0;31m---------------------------------------------------------------------------\u001b[0m",
      "\u001b[0;31mTypeError\u001b[0m                                 Traceback (most recent call last)",
      "\u001b[0;32m<ipython-input-186-af1b9ec111c6>\u001b[0m in \u001b[0;36m<module>\u001b[0;34m\u001b[0m\n\u001b[0;32m----> 1\u001b[0;31m \u001b[0mtorch\u001b[0m\u001b[0;34m.\u001b[0m\u001b[0mnn\u001b[0m\u001b[0;34m.\u001b[0m\u001b[0mParameter\u001b[0m\u001b[0;34m(\u001b[0m\u001b[0mtorch\u001b[0m\u001b[0;34m.\u001b[0m\u001b[0mtensor\u001b[0m\u001b[0;34m(\u001b[0m\u001b[0;34m[\u001b[0m\u001b[0;34m[\u001b[0m\u001b[0;36m1.0\u001b[0m\u001b[0;34m]\u001b[0m\u001b[0;34m]\u001b[0m\u001b[0;34m,\u001b[0m\u001b[0mdtype\u001b[0m \u001b[0;34m=\u001b[0m \u001b[0mtorch\u001b[0m\u001b[0;34m.\u001b[0m\u001b[0mfloat\u001b[0m\u001b[0;34m,\u001b[0m\u001b[0mname\u001b[0m\u001b[0;34m=\u001b[0m\u001b[0;34m\"a to b\"\u001b[0m\u001b[0;34m)\u001b[0m\u001b[0;34m)\u001b[0m\u001b[0;34m\u001b[0m\u001b[0;34m\u001b[0m\u001b[0m\n\u001b[0m",
      "\u001b[0;31mTypeError\u001b[0m: tensor() got an unexpected keyword argument 'name'"
     ]
    }
   ],
   "source": [
    "torch.nn.Parameter(torch.tensor([[1.0]],dtype = torch.float,name=\"a to b\"))"
   ]
  },
  {
   "cell_type": "code",
   "execution_count": null,
   "metadata": {},
   "outputs": [],
   "source": []
  }
 ],
 "metadata": {
  "kernelspec": {
   "display_name": "tf-gpu",
   "language": "python",
   "name": "tf-gpu"
  },
  "language_info": {
   "codemirror_mode": {
    "name": "ipython",
    "version": 3
   },
   "file_extension": ".py",
   "mimetype": "text/x-python",
   "name": "python",
   "nbconvert_exporter": "python",
   "pygments_lexer": "ipython3",
   "version": "3.7.7"
  }
 },
 "nbformat": 4,
 "nbformat_minor": 5
}
