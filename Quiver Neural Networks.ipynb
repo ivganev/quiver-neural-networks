{
 "cells": [
  {
   "cell_type": "code",
   "execution_count": 1,
   "id": "martial-irish",
   "metadata": {},
   "outputs": [
    {
     "name": "stdout",
     "output_type": "stream",
     "text": [
      "Running on: cpu\n"
     ]
    }
   ],
   "source": [
    "from typing import List, Dict\n",
    "import torch\n",
    "import torch.nn as nn\n",
    "import torch.nn.functional as F\n",
    "import matplotlib.pyplot as plt\n",
    "%matplotlib inline\n",
    "from torchvision import datasets\n",
    "import torchvision.transforms as transforms\n",
    "import numpy as np\n",
    "dev = 'cpu'\n",
    "if torch.cuda.is_available():\n",
    "    dev = 'cuda:0'\n",
    "print(\"Running on:\",dev)\n",
    "device = torch.device(dev)"
   ]
  },
  {
   "cell_type": "markdown",
   "id": "discrete-gossip",
   "metadata": {},
   "source": [
    "# Quivers and quiver representations"
   ]
  },
  {
   "cell_type": "code",
   "execution_count": 2,
   "id": "allied-salad",
   "metadata": {},
   "outputs": [],
   "source": [
    "class quiver:\n",
    "    def __init__(self, vertices : List, edges : List):\n",
    "        self.vertices = vertices\n",
    "        # Add assert to check no repeated vertices\n",
    "        # E.g. assert len(set(vertices)) == len(vertices)\n",
    "        \n",
    "        self.edges = edges\n",
    "        # Add assert to check that edges is a list of pairs\n",
    "        # First entry of the pair is the sourse, second is the target\n",
    "        # Source and target of each edge should be in the vertex set      \n",
    "        # Separate class for edges? vertices?\n",
    "        \n",
    "    def check_acyclic(self):\n",
    "        None\n",
    "        # One way: find all sources, do depth-first search\n",
    "        \n",
    "    def check_top_order(self):\n",
    "        indices = {}\n",
    "        for i,v in enumerate(self.vertices):\n",
    "            indices[v] = i\n",
    "        for e in self.edges:\n",
    "            if indices[e[0]] > indices[e[1]]:\n",
    "                return False\n",
    "        return True\n",
    "        \n",
    "    \n",
    "    def get_incoming(self, vertex):\n",
    "        assert vertex in self.vertices, \"No such vertex found\"\n",
    "        return [e for e in self.edges if e[1] == vertex]\n",
    "        # Can get the incoming neighbors as [e[1] for e in self.get_incoming(vertex)]\n",
    "        \n",
    "    def is_sink(self, vertex):\n",
    "        assert vertex in self.vertices, \"No such vertex found\"\n",
    "        return all([e[0] != vertex for e in self.edges])\n",
    "\n",
    "        "
   ]
  },
  {
   "cell_type": "code",
   "execution_count": 3,
   "id": "armed-graduate",
   "metadata": {},
   "outputs": [],
   "source": [
    "class quiver_rep:\n",
    "    def __init__(self, quiver: quiver, dims: Dict, matrices: Dict):\n",
    "        self.Q = quiver\n",
    "        self.dims = dims\n",
    "        self.matrices = matrices\n",
    "        \n",
    "        # Check the dimension vector\n",
    "        assert len(dims) == len(Q.vertices), \"Inappropriate dimension vector\"\n",
    "        for v in dims:\n",
    "            assert v in Q.vertices, \"Inappropriate dim vector\"\n",
    "            assert isinstance(dims[v], int) and dims[v] >=0, \"Inappropriate dim vector\"\n",
    "            \n",
    "        # Check the matrices\n",
    "        assert len(matrices) == len(Q.edges), \"Matrices error\"\n",
    "        for e in matrices:\n",
    "            assert e in Q.edges, \"Matrices error\"\n",
    "            assert isinstance(matrices[e], np.ndarray), \"Matrices error\" # May need fixing\n",
    "            assert np.shape(matrices[e]) == (dims[e[1]], dims[e[0]]), \"Dimension error\"\n",
    "            \n",
    "            \n",
    "    def dims_red(self) -> Dict:\n",
    "        \n",
    "        assert Q.check_top_order(), \"Order of the vertices is not topological\"\n",
    "\n",
    "        d_red = {}\n",
    "        for i in Q.vertices:\n",
    "            if Q.is_sink(i):\n",
    "                d_red[i] = self.dims[i]\n",
    "                \n",
    "            else:\n",
    "                incoming = Q.get_incoming(i)\n",
    "                if incoming:\n",
    "                    d_red[i] = min(self.dims[i], sum([d_red[e[0]] for e in incoming]) )\n",
    "                else:\n",
    "                    d_red[i] = self.dims[i]\n",
    "                \n",
    "        return d_red\n",
    "        "
   ]
  },
  {
   "cell_type": "code",
   "execution_count": null,
   "id": "aging-mason",
   "metadata": {},
   "outputs": [],
   "source": []
  },
  {
   "cell_type": "code",
   "execution_count": 4,
   "id": "israeli-feeling",
   "metadata": {},
   "outputs": [],
   "source": [
    "# EXAMPLE\n",
    "# Quiver with skip connections and no bias\n",
    "\n",
    "vertex_list = ['a', 'b', 'c', 'd']\n",
    "edge_list = [('a', 'b'), ('a','c'), ('b','c'), ('c', 'd')]\n",
    "\n",
    "Q = quiver(vertex_list, edge_list)\n",
    "# print(Q.vertices, Q.edges)"
   ]
  },
  {
   "cell_type": "code",
   "execution_count": 5,
   "id": "potential-interface",
   "metadata": {},
   "outputs": [
    {
     "name": "stdout",
     "output_type": "stream",
     "text": [
      "[] [('a', 'b')] [('a', 'c'), ('b', 'c')] [('c', 'd')]\n",
      "False False False True\n",
      "True\n"
     ]
    }
   ],
   "source": [
    "# Test the methods\n",
    "\n",
    "print(Q.get_incoming('a'), Q.get_incoming('b'), Q.get_incoming('c'), Q.get_incoming('d'))\n",
    "print(Q.is_sink('a'), Q.is_sink('b'), Q.is_sink('c'), Q.is_sink('d'))\n",
    "print(Q.check_top_order())"
   ]
  },
  {
   "cell_type": "code",
   "execution_count": 6,
   "id": "dependent-patio",
   "metadata": {},
   "outputs": [
    {
     "name": "stdout",
     "output_type": "stream",
     "text": [
      "{'a': 2, 'b': 2, 'c': 4, 'd': 2}\n"
     ]
    }
   ],
   "source": [
    "# Representation of this quiver\n",
    "\n",
    "dim_vector = {'a': 2, 'b': 4, 'c': 8, 'd': 2 }\n",
    "\n",
    "maps = {('a', 'b') : np.random.rand(4, 2), \n",
    "        ('a', 'c') : np.random.rand(8, 2), \n",
    "        ('b', 'c') : np.random.rand(8, 4),\n",
    "        ('c', 'd') : np.random.rand(2, 8)}\n",
    "\n",
    "ex_rep = quiver_rep(Q, dim_vector, maps)\n",
    "print(ex_rep.dims_red())"
   ]
  },
  {
   "cell_type": "code",
   "execution_count": null,
   "id": "indie-louisiana",
   "metadata": {},
   "outputs": [],
   "source": []
  },
  {
   "cell_type": "code",
   "execution_count": 7,
   "id": "plain-owner",
   "metadata": {},
   "outputs": [
    {
     "name": "stdout",
     "output_type": "stream",
     "text": [
      "<class 'numpy.ndarray'>\n",
      "True\n"
     ]
    }
   ],
   "source": [
    "# Troubleshooting\n",
    "\n",
    "W1 = np.random.rand(4, 2)\n",
    "print(type(W1))\n",
    "print(isinstance(W1, np.ndarray))"
   ]
  },
  {
   "cell_type": "code",
   "execution_count": null,
   "id": "prime-burlington",
   "metadata": {},
   "outputs": [],
   "source": []
  },
  {
   "cell_type": "code",
   "execution_count": null,
   "id": "fitted-smile",
   "metadata": {},
   "outputs": [],
   "source": []
  },
  {
   "cell_type": "markdown",
   "id": "north-simpson",
   "metadata": {},
   "source": [
    "# Dimensional reduction algorithm"
   ]
  },
  {
   "cell_type": "code",
   "execution_count": 8,
   "id": "laughing-windsor",
   "metadata": {},
   "outputs": [],
   "source": [
    "# This will eventually be incorporated in the quiver_rep class\n",
    "\n",
    "def QRDimRed(W : quiver_rep) -> quiver_rep:\n",
    "    dims = W.dims\n",
    "    matrices = W.matrices\n",
    "    quiver = W.Q\n",
    "    vertices = quiver.vertices\n",
    "    edges = quiver.edges\n",
    "    \n",
    "    dims_red = W.dims_red()\n",
    "    # print(dims, dims_red)\n",
    "    \n",
    "    assert quiver.check_top_order(), \"Order of the vertices is not topological\"\n",
    "    \n",
    "    # Q will be a dictionary mapping each vertex to an orthogonal matrix\n",
    "    Q = {}\n",
    "    \n",
    "    # V wil be the matrices of a representation, mapping each edge to a matrix\n",
    "    V = {}\n",
    "    \n",
    "    print(quiver.edges)\n",
    "    print(quiver.vertices)\n",
    "    \n",
    "    for i in vertices:\n",
    "        incoming = quiver.get_incoming(i)\n",
    "        \n",
    "        if incoming == []:\n",
    "            print(i, \" is a source vertex\")\n",
    "            Q_cur = np.eye(dims[i])\n",
    "            \n",
    "        else:\n",
    "            M = np.array([])\n",
    "            for e in incoming:\n",
    "                None\n",
    "                # Transform weights on incoming edges\n",
    "                # M_e = W_e @ Q_j @ inc_j\n",
    "                # Extend M = [M M_e]\n",
    "            \n",
    "            if dims_red[i] < dims[i]: \n",
    "                print(\"Reduce at vertex \", i)\n",
    "                # Q_cur,R_cur = np.linalg.qr(M, mode=\"complete\")\n",
    "                None\n",
    "                \n",
    "            elif not quiver.is_sink(i):\n",
    "                print(i, \" is not a sink\")\n",
    "                # Q_cur,R_cur = np.linalg.qr(M)\n",
    "                None\n",
    "                \n",
    "            else:\n",
    "                print(i, \" is a sink\")\n",
    "                Q_cur = np.eye(dims[i])\n",
    "                # R_cur = M\n",
    "                None\n",
    "                \n",
    "            # Process and add to the dictionaries\n",
    "            # Q[i] = Q_cur\n",
    "            for e in incoming:\n",
    "                None                       \n",
    "                # Extract V_e from R_i for all incoming edges e\n",
    "                # V[e] = V_e\n",
    "                \n",
    "                \n",
    "    # return Q, V\n",
    "\n",
    "    None\n"
   ]
  },
  {
   "cell_type": "code",
   "execution_count": 9,
   "id": "prime-hobby",
   "metadata": {},
   "outputs": [
    {
     "name": "stdout",
     "output_type": "stream",
     "text": [
      "[('a', 'b'), ('a', 'c'), ('b', 'c'), ('c', 'd')]\n",
      "['a', 'b', 'c', 'd']\n",
      "a  is a source vertex\n",
      "Reduce at vertex  b\n",
      "Reduce at vertex  c\n",
      "d  is a sink\n"
     ]
    }
   ],
   "source": [
    "# Back to the running example\n",
    "\n",
    "QRDimRed(ex_rep)"
   ]
  },
  {
   "cell_type": "code",
   "execution_count": null,
   "id": "electronic-vaccine",
   "metadata": {},
   "outputs": [],
   "source": []
  },
  {
   "cell_type": "code",
   "execution_count": null,
   "id": "available-possible",
   "metadata": {},
   "outputs": [],
   "source": []
  },
  {
   "cell_type": "markdown",
   "id": "educated-beijing",
   "metadata": {},
   "source": [
    "# Quiver Neural Networks"
   ]
  },
  {
   "cell_type": "code",
   "execution_count": 10,
   "id": "united-finance",
   "metadata": {},
   "outputs": [],
   "source": [
    "class RadAct(nn.Module):\n",
    "    def __init__(self, eta = F.relu):\n",
    "        super().__init__()\n",
    "        self.eta = eta\n",
    "        self.shift = 0 \n",
    "        # Add internal bias/shift later\n",
    "        \n",
    "    def forward(self,x):\n",
    "        # x: [Batch x Channel]\n",
    "        r = torch.linalg.norm(x, dim=-1) \n",
    "        if torch.min(r) < 1e-6:\n",
    "            r += 1e-6\n",
    "        scalar = self.eta(r + self.shift) / r\n",
    "        return x * scalar.unsqueeze(-1)   "
   ]
  },
  {
   "cell_type": "code",
   "execution_count": 11,
   "id": "willing-potential",
   "metadata": {},
   "outputs": [],
   "source": [
    "class QuiverNN(nn.Module):\n",
    "    \n",
    "    def __init__(self, eta:float , Q: quiver, dims: Dict ):\n",
    "        super().__init__()\n",
    "        self.eta = eta\n",
    "        self.Q = Q\n",
    "        sefl.dims = dims\n",
    "        # Assert statement to check that dims is a dimension vector for Q\n",
    "        \n",
    "        # Reduced dimension vector\n",
    "        # self.dims_red = [self.dims[0]]\n",
    "\n",
    "\n",
    "    def forward(self, x):\n",
    "        h = x\n",
    "        for lin,act in zip(self.layers[:-1], self.act_fns):\n",
    "            h = act(lin(h))\n",
    "        return self.output_layer(h)\n",
    "    \n",
    "    def set_weights(self, new_weights: quiver_rep):\n",
    "        None \n",
    "    \n",
    "    def set_activation_biases(self, new_biases: List[float]):    \n",
    "        None\n",
    "\n",
    "    def export_weights(self) -> quiver_rep:\n",
    "        None\n",
    "    \n",
    "    def export_activation_biases(self) -> List[float]:\n",
    "        None\n",
    "    \n",
    "    def export_reduced_weights(self) -> quiver_rep:\n",
    "        None\n",
    "    \n",
    "    def transformed_network(self):\n",
    "        None\n",
    "        \n",
    "    def reduced_network(self):\n",
    "        None"
   ]
  },
  {
   "cell_type": "code",
   "execution_count": null,
   "id": "therapeutic-census",
   "metadata": {},
   "outputs": [],
   "source": []
  },
  {
   "cell_type": "code",
   "execution_count": null,
   "id": "documentary-triumph",
   "metadata": {},
   "outputs": [],
   "source": []
  },
  {
   "cell_type": "code",
   "execution_count": null,
   "id": "thermal-scanner",
   "metadata": {},
   "outputs": [],
   "source": []
  },
  {
   "cell_type": "code",
   "execution_count": null,
   "id": "sexual-supplier",
   "metadata": {},
   "outputs": [],
   "source": []
  },
  {
   "cell_type": "markdown",
   "id": "sapphire-stanley",
   "metadata": {},
   "source": [
    "# Scraps"
   ]
  },
  {
   "cell_type": "code",
   "execution_count": 12,
   "id": "fifteen-disaster",
   "metadata": {},
   "outputs": [],
   "source": [
    "class vertex:\n",
    "    def __init__(self):\n",
    "        None"
   ]
  },
  {
   "cell_type": "code",
   "execution_count": 13,
   "id": "pleased-hindu",
   "metadata": {},
   "outputs": [],
   "source": [
    "a = vertex()"
   ]
  }
 ],
 "metadata": {
  "kernelspec": {
   "display_name": "Python 3",
   "language": "python",
   "name": "python3"
  },
  "language_info": {
   "codemirror_mode": {
    "name": "ipython",
    "version": 3
   },
   "file_extension": ".py",
   "mimetype": "text/x-python",
   "name": "python",
   "nbconvert_exporter": "python",
   "pygments_lexer": "ipython3",
   "version": "3.8.2"
  }
 },
 "nbformat": 4,
 "nbformat_minor": 5
}
