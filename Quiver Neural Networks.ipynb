{
 "cells": [
  {
   "cell_type": "code",
   "execution_count": 1,
   "id": "martial-irish",
   "metadata": {},
   "outputs": [
    {
     "name": "stdout",
     "output_type": "stream",
     "text": [
      "Running on: cpu\n"
     ]
    }
   ],
   "source": [
    "from typing import List, Dict\n",
    "import torch\n",
    "import torch.nn as nn\n",
    "import torch.nn.functional as F\n",
    "import matplotlib.pyplot as plt\n",
    "%matplotlib inline\n",
    "from torchvision import datasets\n",
    "import torchvision.transforms as transforms\n",
    "import numpy as np\n",
    "dev = 'cpu'\n",
    "if torch.cuda.is_available():\n",
    "    dev = 'cuda:0'\n",
    "print(\"Running on:\",dev)\n",
    "device = torch.device(dev)"
   ]
  },
  {
   "cell_type": "markdown",
   "id": "discrete-gossip",
   "metadata": {},
   "source": [
    "# Quivers and quiver representations"
   ]
  },
  {
   "cell_type": "code",
   "execution_count": 3,
   "id": "allied-salad",
   "metadata": {},
   "outputs": [],
   "source": [
    "class quiver:\n",
    "    def __init__(self, vertices : List, edges : List):\n",
    "        self.vertices = vertices\n",
    "        # Add assert to check no repeated vertices\n",
    "        # E.g. assert len(set(vertices)) == len(vertices)\n",
    "        \n",
    "        self.edges = edges\n",
    "        # Add assert to check that edges is a list of pairs\n",
    "        # First entry of the pair is the sourse, second is the target\n",
    "        # Source and target of each edge should be in the vertex set      \n",
    "        # Separate class for edges? vertices?\n",
    "    \n",
    "    # Check that the quiver is acyclic\n",
    "    def check_acyclic(self):\n",
    "        None\n",
    "        # One way: find all sources, do depth-first search\n",
    "        \n",
    "    # Check that the vertices are in topological order    \n",
    "    def check_top_order(self):\n",
    "        indices = {}\n",
    "        for i,v in enumerate(self.vertices):\n",
    "            indices[v] = i\n",
    "        for e in self.edges:\n",
    "            if indices[e[0]] > indices[e[1]]:\n",
    "                return False\n",
    "        return True\n",
    "        \n",
    "    # Get the incoming edges for every vertex\n",
    "    # Incoming vertices can easily be extracted\n",
    "    def get_incoming(self, vertex):\n",
    "        assert vertex in self.vertices, \"No such vertex found\"\n",
    "        return [e for e in self.edges if e[1] == vertex]\n",
    "        # Can get the incoming neighbors as [e[1] for e in self.get_incoming(vertex)]\n",
    "        \n",
    "    # Check if a vertex is a sink\n",
    "    def is_sink(self, vertex):\n",
    "        assert vertex in self.vertices, \"No such vertex found\"\n",
    "        return all([e[0] != vertex for e in self.edges])\n",
    "\n",
    "        "
   ]
  },
  {
   "cell_type": "code",
   "execution_count": 6,
   "id": "armed-graduate",
   "metadata": {},
   "outputs": [],
   "source": [
    "class quiver_rep:\n",
    "    def __init__(self, quiver: quiver, dims: Dict, matrices: Dict):\n",
    "        self.Q = quiver\n",
    "        self.dims = dims\n",
    "        self.matrices = matrices\n",
    "        \n",
    "        # Check the dimension vector\n",
    "        assert len(dims) == len(Q.vertices), \"Inappropriate dimension vector\"\n",
    "        for v in dims:\n",
    "            assert v in Q.vertices, \"Inappropriate dim vector\"\n",
    "            assert isinstance(dims[v], int) and dims[v] >=0, \"Inappropriate dim vector\"\n",
    "            \n",
    "        # Check the matrices\n",
    "        assert len(matrices) == len(Q.edges), \"Matrices error\"\n",
    "        for e in matrices:\n",
    "            assert e in Q.edges, \"Matrices error\"\n",
    "            assert isinstance(matrices[e], np.ndarray), \"Matrices error\" # May need fixing\n",
    "            assert np.shape(matrices[e]) == (dims[e[1]], dims[e[0]]), \"Dimension error\"\n",
    "            \n",
    "            \n",
    "    # Compute the reduced dimension vector\n",
    "    def dims_red(self) -> Dict:\n",
    "        \n",
    "        assert Q.check_top_order(), \"Order of the vertices is not topological\"\n",
    "\n",
    "        d_red = {}\n",
    "        for i in Q.vertices:\n",
    "            if Q.is_sink(i):\n",
    "                d_red[i] = self.dims[i]\n",
    "            else:\n",
    "                incoming = Q.get_incoming(i)\n",
    "                if incoming:\n",
    "                    d_red[i] = min(self.dims[i], sum([d_red[e[0]] for e in incoming]) )\n",
    "                else:\n",
    "                    d_red[i] = self.dims[i]\n",
    "                \n",
    "        return d_red\n",
    "        "
   ]
  },
  {
   "cell_type": "code",
   "execution_count": null,
   "id": "aging-mason",
   "metadata": {},
   "outputs": [],
   "source": []
  },
  {
   "cell_type": "code",
   "execution_count": 8,
   "id": "israeli-feeling",
   "metadata": {},
   "outputs": [],
   "source": [
    "# EXAMPLE\n",
    "# Quiver with skip connections and no bias\n",
    "\n",
    "vertex_list = ['a', 'b', 'c', 'd']\n",
    "edge_list = [('a', 'b'), ('a','c'), ('b','c'), ('c', 'd')]\n",
    "\n",
    "Q = quiver(vertex_list, edge_list)\n",
    "# print(Q.vertices, Q.edges)"
   ]
  },
  {
   "cell_type": "code",
   "execution_count": 9,
   "id": "potential-interface",
   "metadata": {},
   "outputs": [
    {
     "name": "stdout",
     "output_type": "stream",
     "text": [
      "[] [('a', 'b')] [('a', 'c'), ('b', 'c')] [('c', 'd')]\n",
      "False False False True\n",
      "True\n"
     ]
    }
   ],
   "source": [
    "# Test the methods\n",
    "\n",
    "print(Q.get_incoming('a'), Q.get_incoming('b'), Q.get_incoming('c'), Q.get_incoming('d'))\n",
    "print(Q.is_sink('a'), Q.is_sink('b'), Q.is_sink('c'), Q.is_sink('d'))\n",
    "print(Q.check_top_order())"
   ]
  },
  {
   "cell_type": "code",
   "execution_count": 10,
   "id": "dependent-patio",
   "metadata": {},
   "outputs": [
    {
     "name": "stdout",
     "output_type": "stream",
     "text": [
      "{'a': 2, 'b': 2, 'c': 4, 'd': 2}\n"
     ]
    }
   ],
   "source": [
    "# Representation of this quiver\n",
    "\n",
    "dim_vector = {'a': 2, 'b': 4, 'c': 8, 'd': 2 }\n",
    "\n",
    "maps = {('a', 'b') : np.random.rand(4, 2), \n",
    "        ('a', 'c') : np.random.rand(8, 2), \n",
    "        ('b', 'c') : np.random.rand(8, 4),\n",
    "        ('c', 'd') : np.random.rand(2, 8)}\n",
    "\n",
    "ex_rep = quiver_rep(Q, dim_vector, maps)\n",
    "print(ex_rep.dims_red())"
   ]
  },
  {
   "cell_type": "code",
   "execution_count": null,
   "id": "indie-louisiana",
   "metadata": {},
   "outputs": [],
   "source": []
  },
  {
   "cell_type": "code",
   "execution_count": 11,
   "id": "plain-owner",
   "metadata": {},
   "outputs": [
    {
     "name": "stdout",
     "output_type": "stream",
     "text": [
      "<class 'numpy.ndarray'>\n",
      "True\n"
     ]
    }
   ],
   "source": [
    "# Troubleshooting\n",
    "\n",
    "W1 = np.random.rand(4, 2)\n",
    "print(type(W1))\n",
    "print(isinstance(W1, np.ndarray))"
   ]
  },
  {
   "cell_type": "code",
   "execution_count": null,
   "id": "prime-burlington",
   "metadata": {},
   "outputs": [],
   "source": []
  },
  {
   "cell_type": "code",
   "execution_count": 12,
   "id": "traditional-office",
   "metadata": {},
   "outputs": [],
   "source": [
    "# Linear feedforward function \n",
    "# Might turn out not to be super necessary\n",
    "\n",
    "def lin_ff(W : quiver_rep) -> np.array:\n",
    "    dims = W.dims\n",
    "    matrices = W.matrices\n",
    "    quiver = W.Q\n",
    "    vertices = quiver.vertices\n",
    "    edges = quiver.edges\n",
    "    \n",
    "    assert quiver.check_top_order(), \"Order of the vertices is not topological\"\n",
    "    \n",
    "    # Dictionary for partial feedforward functions:\n",
    "    # partial = {}\n",
    "    \n",
    "    for i in quiver.vertices:\n",
    "        incoming = quiver.get_incoming(i)\n",
    "        if incoming == []:\n",
    "            # partial[i] = projection matrix\n",
    "            None\n",
    "        else:\n",
    "            for e in incoming:\n",
    "                # Add matrices[e] @ partial[e[0]]\n",
    "                None\n",
    "        None\n",
    "    \n",
    "    None\n",
    "\n",
    "# Unfinished!"
   ]
  },
  {
   "cell_type": "code",
   "execution_count": 13,
   "id": "fitted-smile",
   "metadata": {},
   "outputs": [],
   "source": [
    "lin_ff(ex_rep)"
   ]
  },
  {
   "cell_type": "markdown",
   "id": "north-simpson",
   "metadata": {},
   "source": [
    "# Dimensional reduction algorithm"
   ]
  },
  {
   "cell_type": "code",
   "execution_count": 59,
   "id": "natural-julian",
   "metadata": {},
   "outputs": [],
   "source": [
    "def padzeros(M,newrows,newcols = None):\n",
    "    oldrows, oldcols = M.shape\n",
    "    if newcols == None:\n",
    "        newcols = oldcols\n",
    "    return np.pad(M,((0,newrows-oldrows),(0,newcols-oldcols)),mode=\"constant\")"
   ]
  },
  {
   "cell_type": "code",
   "execution_count": 118,
   "id": "laughing-windsor",
   "metadata": {},
   "outputs": [],
   "source": [
    "# This will eventually be incorporated in the quiver_rep class\n",
    "\n",
    "def QRDimRed(W : quiver_rep):\n",
    "    dims = W.dims\n",
    "    matrices = W.matrices\n",
    "    quiver = W.Q\n",
    "    vertices = quiver.vertices\n",
    "    edges = quiver.edges\n",
    "    \n",
    "    # Compute the reduced dimension vector\n",
    "    dims_red = W.dims_red()\n",
    "    # print(dims, dims_red)\n",
    "    \n",
    "    # Check that vertices are in a topological order\n",
    "    assert quiver.check_top_order(), \"Order of the vertices is not topological\"\n",
    "    \n",
    "    # Q = dictionary mapping each vertex to an orthogonal matrix\n",
    "    Q = {}\n",
    "    \n",
    "    # Vmatrices = matrices of the reduced representation V, mapping each edge to a matrix\n",
    "    Vmatrices = {}\n",
    "    \n",
    "    print(quiver.edges)\n",
    "    print(quiver.vertices)\n",
    "    \n",
    "    for i in vertices:\n",
    "        incoming = quiver.get_incoming(i)\n",
    "        \n",
    "        # Case of a source vertex\n",
    "        if incoming == []:\n",
    "            print(i, \" is a source vertex\")\n",
    "            Q_cur = np.eye(dims[i])\n",
    "            Q[i] = Q_cur\n",
    "            \n",
    "        else:\n",
    "            # Compute the matrices to vertex i\n",
    "            M = np.array([])\n",
    "            for e in incoming:\n",
    "                We = matrices[e] \n",
    "                Qj = Q[e[0]]\n",
    "                Me = We @ Qj[:,:dims_red[e[0]]]\n",
    "                if np.shape(M) == (0,):\n",
    "                    M = Me\n",
    "                else:\n",
    "                    M = np.hstack((M,Me))\n",
    "                # Transform weights on incoming edges\n",
    "                # Me = matrices[e] @ Q[e[0]] @ inc_j\n",
    "                # Extend M = [M M_e]\n",
    "            \n",
    "            # Case of reduction\n",
    "            if dims_red[i] < dims[i]: \n",
    "                print(\"Reduce at vertex \", i)\n",
    "                Q_cur, R = np.linalg.qr(M, mode=\"complete\")\n",
    "                R = R[:dims_red[i]]\n",
    "                print(np.shape(Q_cur))\n",
    "                Q[i] = Q_cur\n",
    "                \n",
    "            # Case of no reduction\n",
    "            elif not quiver.is_sink(i):\n",
    "                print(i, \" is not a sink\")\n",
    "                Q_cur, R = np.linalg.qr(M, mode=\"complete\")\n",
    "                Q[i] = Q_cur\n",
    "                \n",
    "            # Case of a sink\n",
    "            else:\n",
    "                print(i, \" is a sink\")\n",
    "                Q_cur = np.eye(dims[i])\n",
    "                Q[i] = Q_cur\n",
    "                R = M\n",
    "                \n",
    "            # Process and add to the dictionaries\n",
    "            # Q[i] = Q_cur\n",
    "            for e in incoming:                       \n",
    "                # Extract V_e from R_i for all incoming edges e\n",
    "                Vmatrices[e] = R[:,:dims_red[e[0]]]\n",
    "                R = R[:,dims_red[e[0]]:]\n",
    "    \n",
    "    # Make V into a representation\n",
    "    V = quiver_rep(quiver, dims_red, Vmatrices)\n",
    "    # print([np.shape(q) for q in Q])\n",
    "    print(dims_red)\n",
    "    print([np.shape(m) for m in Vmatrices.values()])\n",
    "    \n",
    "    \n",
    "    print(Q['b'])\n",
    "    print(Q['c'])\n",
    "    \n",
    "    # Verify that V is a subrepresentation of Q^{-1} W  \n",
    "    for e in quiver.edges:\n",
    "        Qi = Q[e[0]]\n",
    "        Qj = Q[e[1]]\n",
    "        max_diff = np.max(np.abs(np.transpose(Qj) @ matrices[e] @ Qi[:,:dims_red[e[0]]] \n",
    "                     - padzeros(Vmatrices[e], dims[e[1]])))\n",
    "        assert max_diff < 1e-10\n",
    "        # print(\"Qi has shape:\", np.shape(Qi), e[0])\n",
    "        # print(np.shape(np.transpose(Qj) @ matrices[e] @ Qi[:,:dims_red[e[0]]]))\n",
    "        # print(np.shape(padzeros(Vmatrices[e], dims[e[1]])))\n",
    "        # assert (max([np.max( np.abs(w1 - w2)) for w1, w2 in zip(QinvW, Vext)] )   )\n",
    "\n",
    "    return\n",
    "    return Q, V\n"
   ]
  },
  {
   "cell_type": "code",
   "execution_count": 117,
   "id": "prime-hobby",
   "metadata": {},
   "outputs": [
    {
     "name": "stdout",
     "output_type": "stream",
     "text": [
      "[('a', 'b'), ('a', 'c'), ('b', 'c'), ('c', 'd')]\n",
      "['a', 'b', 'c', 'd']\n",
      "a  is a source vertex\n",
      "Reduce at vertex  b\n",
      "(4, 4)\n",
      "Reduce at vertex  c\n",
      "(8, 8)\n",
      "d  is a sink\n",
      "{'a': 2, 'b': 2, 'c': 4, 'd': 2}\n",
      "[(2, 2), (4, 2), (4, 2), (2, 4)]\n",
      "[[-0.20415483  0.13354433 -0.02854758 -0.96936668]\n",
      " [-0.26665853 -0.23216342 -0.933982    0.05168163]\n",
      " [-0.32278669 -0.89186218  0.31030866 -0.06402452]\n",
      " [-0.88488575  0.36448307  0.17484618  0.23142627]]\n",
      "[[-0.10363193 -0.52977264  0.47867242  0.30695811 -0.06097888 -0.57704926\n",
      "  -0.18197932 -0.12421778]\n",
      " [-0.23148968 -0.23135116 -0.30131202  0.63994432 -0.08312253  0.13979387\n",
      "   0.33106808  0.50647187]\n",
      " [-0.06957588 -0.62680322 -0.29859331 -0.31780227 -0.50470766  0.31608273\n",
      "  -0.19842306 -0.13457651]\n",
      " [-0.35081472 -0.1644433   0.27939318 -0.10912287  0.14861523  0.2440495\n",
      "   0.70087998 -0.43248086]\n",
      " [-0.30290971 -0.25365348 -0.44048233 -0.05131933  0.74458282 -0.07174324\n",
      "  -0.26181707 -0.13837778]\n",
      " [-0.47547729  0.23288105  0.31376799  0.31462416 -0.06226391  0.4947482\n",
      "  -0.50426673 -0.13896595]\n",
      " [-0.43328333  0.35451522 -0.42395707  0.08033243 -0.39144384 -0.45534453\n",
      "   0.0618076  -0.36878791]\n",
      " [-0.54972156  0.0404845   0.20162004 -0.52465852 -0.03236141 -0.17533353\n",
      "   0.00443966  0.59028907]]\n"
     ]
    }
   ],
   "source": [
    "# Back to the running example\n",
    "\n",
    "QRDimRed(ex_rep)"
   ]
  },
  {
   "cell_type": "code",
   "execution_count": 58,
   "id": "electronic-vaccine",
   "metadata": {},
   "outputs": [
    {
     "ename": "IndentationError",
     "evalue": "expected an indented block (<ipython-input-58-526a7c20fab9>, line 9)",
     "output_type": "error",
     "traceback": [
      "\u001b[0;36m  File \u001b[0;32m\"<ipython-input-58-526a7c20fab9>\"\u001b[0;36m, line \u001b[0;32m9\u001b[0m\n\u001b[0;31m    None\u001b[0m\n\u001b[0m    ^\u001b[0m\n\u001b[0;31mIndentationError\u001b[0m\u001b[0;31m:\u001b[0m expected an indented block\n"
     ]
    }
   ],
   "source": [
    "# Verify that V is a subrepresentation of Q^{-1} W\n",
    "\n",
    "def verify(W : quiver_rep, V : quiver_rep, Q : Dict) -> bool:\n",
    "    \n",
    "    for e in quiver.edges:\n",
    "        # if Q[e[1]]^{-1} @ W[e] @ Q[e[0]] @ inc_{e[0]} != inc_{e[1]} @ V[e]\n",
    "        # return False\n",
    "    \n",
    "    None\n",
    "\n"
   ]
  },
  {
   "cell_type": "code",
   "execution_count": null,
   "id": "analyzed-machinery",
   "metadata": {},
   "outputs": [],
   "source": []
  },
  {
   "cell_type": "code",
   "execution_count": null,
   "id": "completed-measure",
   "metadata": {},
   "outputs": [],
   "source": []
  },
  {
   "cell_type": "code",
   "execution_count": null,
   "id": "superb-sport",
   "metadata": {},
   "outputs": [],
   "source": []
  },
  {
   "cell_type": "code",
   "execution_count": 27,
   "id": "infrared-convertible",
   "metadata": {},
   "outputs": [
    {
     "data": {
      "text/plain": [
       "(array([[0.86051847, 0.75893567],\n",
       "        [0.69781306, 0.28613325],\n",
       "        [0.47965771, 0.5217031 ],\n",
       "        [0.98026197, 0.17913154]]),\n",
       " array([[0.48804237, 0.94519595, 0.91748875, 0.8042133 ],\n",
       "        [0.95439805, 0.67268898, 0.86469542, 0.40744969],\n",
       "        [0.19802128, 0.65475544, 0.87432165, 0.50406587],\n",
       "        [0.80589343, 0.55356225, 0.95174127, 0.95748327]]))"
      ]
     },
     "execution_count": 27,
     "metadata": {},
     "output_type": "execute_result"
    }
   ],
   "source": [
    "a = np.random.rand(4,2)\n",
    "b = np.random.rand(4,4)\n",
    "a, b"
   ]
  },
  {
   "cell_type": "code",
   "execution_count": 28,
   "id": "available-possible",
   "metadata": {},
   "outputs": [
    {
     "data": {
      "text/plain": [
       "(4, 6)"
      ]
     },
     "execution_count": 28,
     "metadata": {},
     "output_type": "execute_result"
    }
   ],
   "source": [
    "c = np.hstack((a,b))\n",
    "np.shape(c)"
   ]
  },
  {
   "cell_type": "code",
   "execution_count": 29,
   "id": "signed-drive",
   "metadata": {},
   "outputs": [
    {
     "data": {
      "text/plain": [
       "array([[0.48804237, 0.94519595, 0.91748875, 0.8042133 ],\n",
       "       [0.95439805, 0.67268898, 0.86469542, 0.40744969],\n",
       "       [0.19802128, 0.65475544, 0.87432165, 0.50406587],\n",
       "       [0.80589343, 0.55356225, 0.95174127, 0.95748327]])"
      ]
     },
     "execution_count": 29,
     "metadata": {},
     "output_type": "execute_result"
    }
   ],
   "source": [
    "b"
   ]
  },
  {
   "cell_type": "code",
   "execution_count": 30,
   "id": "digital-harassment",
   "metadata": {},
   "outputs": [
    {
     "data": {
      "text/plain": [
       "array([[0.48804237, 0.94519595],\n",
       "       [0.95439805, 0.67268898],\n",
       "       [0.19802128, 0.65475544],\n",
       "       [0.80589343, 0.55356225]])"
      ]
     },
     "execution_count": 30,
     "metadata": {},
     "output_type": "execute_result"
    }
   ],
   "source": [
    "b[:,:2]"
   ]
  },
  {
   "cell_type": "code",
   "execution_count": 31,
   "id": "surprising-words",
   "metadata": {},
   "outputs": [
    {
     "data": {
      "text/plain": [
       "array([[0.91748875, 0.8042133 ],\n",
       "       [0.86469542, 0.40744969],\n",
       "       [0.87432165, 0.50406587],\n",
       "       [0.95174127, 0.95748327]])"
      ]
     },
     "execution_count": 31,
     "metadata": {},
     "output_type": "execute_result"
    }
   ],
   "source": [
    "b[:,2:]"
   ]
  },
  {
   "cell_type": "code",
   "execution_count": 32,
   "id": "tough-sister",
   "metadata": {},
   "outputs": [
    {
     "data": {
      "text/plain": [
       "(4, 2)"
      ]
     },
     "execution_count": 32,
     "metadata": {},
     "output_type": "execute_result"
    }
   ],
   "source": [
    "np.shape(b[:,:2])"
   ]
  },
  {
   "cell_type": "code",
   "execution_count": 19,
   "id": "stock-bride",
   "metadata": {},
   "outputs": [
    {
     "data": {
      "text/plain": [
       "(0,)"
      ]
     },
     "execution_count": 19,
     "metadata": {},
     "output_type": "execute_result"
    }
   ],
   "source": [
    "np.shape(np.array([]))"
   ]
  },
  {
   "cell_type": "markdown",
   "id": "educated-beijing",
   "metadata": {},
   "source": [
    "# Quiver Neural Networks"
   ]
  },
  {
   "cell_type": "code",
   "execution_count": 10,
   "id": "united-finance",
   "metadata": {},
   "outputs": [],
   "source": [
    "class RadAct(nn.Module):\n",
    "    def __init__(self, eta = F.relu):\n",
    "        super().__init__()\n",
    "        self.eta = eta\n",
    "        self.shift = 0 \n",
    "        # Add internal bias/shift later\n",
    "        \n",
    "    def forward(self,x):\n",
    "        # x: [Batch x Channel]\n",
    "        r = torch.linalg.norm(x, dim=-1) \n",
    "        if torch.min(r) < 1e-6:\n",
    "            r += 1e-6\n",
    "        scalar = self.eta(r + self.shift) / r\n",
    "        return x * scalar.unsqueeze(-1)   "
   ]
  },
  {
   "cell_type": "code",
   "execution_count": 11,
   "id": "willing-potential",
   "metadata": {},
   "outputs": [],
   "source": [
    "class QuiverNN(nn.Module):\n",
    "    \n",
    "    def __init__(self, eta:float , Q: quiver, dims: Dict ):\n",
    "        super().__init__()\n",
    "        self.eta = eta\n",
    "        self.Q = Q\n",
    "        sefl.dims = dims\n",
    "        # Assert statement to check that dims is a dimension vector for Q\n",
    "        \n",
    "        # Reduced dimension vector\n",
    "        # self.dims_red = [self.dims[0]]\n",
    "\n",
    "\n",
    "    def forward(self, x):\n",
    "        h = x\n",
    "        for lin,act in zip(self.layers[:-1], self.act_fns):\n",
    "            h = act(lin(h))\n",
    "        return self.output_layer(h)\n",
    "    \n",
    "    def set_weights(self, new_weights: quiver_rep):\n",
    "        None \n",
    "    \n",
    "    def set_activation_biases(self, new_biases: List[float]):    \n",
    "        None\n",
    "\n",
    "    def export_weights(self) -> quiver_rep:\n",
    "        None\n",
    "    \n",
    "    def export_activation_biases(self) -> List[float]:\n",
    "        None\n",
    "    \n",
    "    def export_reduced_weights(self) -> quiver_rep:\n",
    "        None\n",
    "    \n",
    "    def transformed_network(self):\n",
    "        None\n",
    "        \n",
    "    def reduced_network(self):\n",
    "        None"
   ]
  },
  {
   "cell_type": "code",
   "execution_count": null,
   "id": "therapeutic-census",
   "metadata": {},
   "outputs": [],
   "source": []
  },
  {
   "cell_type": "code",
   "execution_count": null,
   "id": "documentary-triumph",
   "metadata": {},
   "outputs": [],
   "source": []
  },
  {
   "cell_type": "code",
   "execution_count": null,
   "id": "thermal-scanner",
   "metadata": {},
   "outputs": [],
   "source": []
  },
  {
   "cell_type": "code",
   "execution_count": null,
   "id": "sexual-supplier",
   "metadata": {},
   "outputs": [],
   "source": []
  },
  {
   "cell_type": "markdown",
   "id": "sapphire-stanley",
   "metadata": {},
   "source": [
    "# Scraps"
   ]
  },
  {
   "cell_type": "code",
   "execution_count": 12,
   "id": "fifteen-disaster",
   "metadata": {},
   "outputs": [],
   "source": [
    "class vertex:\n",
    "    def __init__(self):\n",
    "        None"
   ]
  },
  {
   "cell_type": "code",
   "execution_count": 13,
   "id": "pleased-hindu",
   "metadata": {},
   "outputs": [],
   "source": [
    "a = vertex()"
   ]
  }
 ],
 "metadata": {
  "kernelspec": {
   "display_name": "Python 3",
   "language": "python",
   "name": "python3"
  },
  "language_info": {
   "codemirror_mode": {
    "name": "ipython",
    "version": 3
   },
   "file_extension": ".py",
   "mimetype": "text/x-python",
   "name": "python",
   "nbconvert_exporter": "python",
   "pygments_lexer": "ipython3",
   "version": "3.8.2"
  }
 },
 "nbformat": 4,
 "nbformat_minor": 5
}
