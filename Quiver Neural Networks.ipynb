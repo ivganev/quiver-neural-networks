{
 "cells": [
  {
   "cell_type": "code",
   "execution_count": 284,
   "metadata": {
    "ExecuteTime": {
     "end_time": "2022-03-01T00:40:56.011424Z",
     "start_time": "2022-03-01T00:40:56.001261Z"
    }
   },
   "outputs": [
    {
     "name": "stdout",
     "output_type": "stream",
     "text": [
      "Running on: cuda:0\n"
     ]
    }
   ],
   "source": [
    "from typing import List, Dict, Tuple\n",
    "import torch\n",
    "import torch.nn as nn\n",
    "import torch.nn.functional as F\n",
    "import matplotlib.pyplot as plt\n",
    "%matplotlib inline\n",
    "from torchvision import datasets\n",
    "import torchvision.transforms as transforms\n",
    "import numpy as np\n",
    "dev = 'cpu'\n",
    "if torch.cuda.is_available():\n",
    "    dev = 'cuda:0'\n",
    "print(\"Running on:\",dev)\n",
    "device = torch.device(dev)"
   ]
  },
  {
   "cell_type": "markdown",
   "metadata": {},
   "source": [
    "# Quivers and quiver representations"
   ]
  },
  {
   "cell_type": "markdown",
   "metadata": {},
   "source": [
    "The quiver class is designed to define an acyclic quiver with no double edges. The initial quiver is not required to have a bias vertex; such a vertex can be added with the ```add_bias()``` method.\n",
    "\n",
    "The input list of vertices is meant to be a list of strings, one for each vertex. It is best to avoid the label ```bias``` among the vertices. \n",
    "\n",
    "The input list of edges is meant to be a tuple ```e = (e[0], e[1])``` where ```e[0]``` is the source and ```e[1]``` is the target. No double edges or loops are allowed."
   ]
  },
  {
   "cell_type": "code",
   "execution_count": 285,
   "metadata": {
    "ExecuteTime": {
     "end_time": "2022-03-01T00:40:57.310178Z",
     "start_time": "2022-03-01T00:40:57.301738Z"
    }
   },
   "outputs": [],
   "source": [
    "class quiver:\n",
    "    \"\"\"Quiver class. Vertices are given as a list of strings. Edges are given as a list of pairs.\n",
    "    \n",
    "    Attributes and Methods.\n",
    "    \"\"\"\n",
    "    def __init__(self, vertices : List[str], edges : List[Tuple[str]]):\n",
    "        self.vertices = vertices\n",
    "        # Add assert to check no repeated vertices\n",
    "        # E.g. assert len(set(vertices)) == len(vertices)\n",
    "        # Assert there is no bias initially, or if there is, it has the desired properties\n",
    "        \n",
    "        self.edges = edges\n",
    "        # Add assert to check that edges is a list of pairs\n",
    "        # First entry of the pair is the sourse, second is the target\n",
    "        # Source and target of each edge should be in the vertex set      \n",
    "        # Separate class for edges? vertices?\n",
    "        \n",
    "        # Get the sources and sinks\n",
    "        sources = set(self.vertices)\n",
    "        sinks = set(self.vertices)\n",
    "        for e in self.edges:\n",
    "            sources.discard(e[1])\n",
    "            sinks.discard(e[0])\n",
    "        self.sources = sources\n",
    "        self.sinks = sinks\n",
    "    \n",
    "    # Check that the quiver is acyclic\n",
    "    def check_acyclic(self):\n",
    "        None\n",
    "        # One way: find all sources, do depth-first search\n",
    "        \n",
    "    # Check that the vertices are in topological order    \n",
    "    def check_top_order(self):\n",
    "        indices = {}\n",
    "        for i,v in enumerate(self.vertices):\n",
    "            indices[v] = i\n",
    "        return all([indices[e[0]] <  indices[e[1]] for e in self.edges])\n",
    "        \n",
    "    # Get the incoming edges for every vertex\n",
    "    def get_incoming(self, vertex):\n",
    "        assert vertex in self.vertices, \"No such vertex found\"\n",
    "        return [e for e in self.edges if e[1] == vertex]\n",
    "        # Can get the incoming neighbors as [e[1] for e in self.get_incoming(vertex)]\n",
    "        \n",
    "    # Add a bias vertex. Considering alternatives to this ... \n",
    "    def add_bias(self):\n",
    "        # Add bias vertex. This will not disturb the topological order.\n",
    "        for v in self.vertices:\n",
    "            if v not in self.sources:\n",
    "                self.edges.append(('bias', v))\n",
    "        self.vertices = ['bias'] + self.vertices\n",
    "        return\n",
    "    \n",
    "    ######\n",
    "    # Check if a vertex is a sink (Don't really need this any more)\n",
    "    def is_sink(self, vertex):\n",
    "        assert vertex in self.vertices, \"No such vertex found\"\n",
    "        return all([e[0] != vertex for e in self.edges])\n",
    "    \n"
   ]
  },
  {
   "cell_type": "code",
   "execution_count": 289,
   "metadata": {
    "ExecuteTime": {
     "end_time": "2022-03-01T00:46:22.270723Z",
     "start_time": "2022-03-01T00:46:22.248293Z"
    }
   },
   "outputs": [],
   "source": [
    "class quiver_rep:\n",
    "    \"\"\"Quiver representation class. Input a quiver with dimension vector and a matrix for each edge.\"\"\"\n",
    "    def __init__(self, quiver: quiver, dims: Dict[str,int], matrices: Dict[str, np.array]):\n",
    "        self.quiver = quiver\n",
    "        self.dims = dims\n",
    "        self.matrices = matrices\n",
    "        \n",
    "        # Check the dimension vector\n",
    "        assert len(dims) == len(self.quiver.vertices), \"Inappropriate dimension vector\"\n",
    "        for v in dims:\n",
    "            assert v in self.quiver.vertices, \"Inappropriate dim vector\"\n",
    "            assert isinstance(dims[v], int) and dims[v] >=0, \"Dimension needs to be a positive integer\"\n",
    "        assert dims['bias'] == 1, \"Dimension at bias needs to be 1\"\n",
    "\n",
    "            \n",
    "        # Check the matrices\n",
    "        assert len(matrices) == len(self.quiver.edges), \"Matrices error\"\n",
    "        for e in matrices:\n",
    "            assert e in self.quiver.edges, \"Matrices error\"\n",
    "            assert isinstance(matrices[e], np.ndarray), \"Matrices error\" # May need fixing\n",
    "            assert np.shape(matrices[e]) == (dims[e[1]], dims[e[0]]), \"Dimension error\"\n",
    "            \n",
    "            \n",
    "    # Compute the reduced dimension vector\n",
    "    def comp_dims_red(self) -> Dict:\n",
    "        \n",
    "        assert self.quiver.check_top_order(), \"Order of the vertices is not topological\"\n",
    "\n",
    "        dims_red = {}\n",
    "        for i in self.quiver.vertices:\n",
    "            if i == 'bias' or i in self.quiver.sources or i in self.quiver.sinks:\n",
    "                dims_red[i] = self.dims[i]\n",
    "            else:\n",
    "                incoming = self.quiver.get_incoming(i)\n",
    "                dims_red[i] = min(self.dims[i], sum([dims_red[e[0]] for e in incoming]) )\n",
    "\n",
    "                    \n",
    "        self.dims_red = dims_red        \n",
    "        return dims_red\n",
    "    \n",
    "    \n",
    "    # Auxiliary function\n",
    "    def padzeros(self, M, newrows, newcols = None):\n",
    "        oldrows, oldcols = M.shape\n",
    "        if newcols == None:\n",
    "            newcols = oldcols\n",
    "        return np.pad(M,((0,newrows-oldrows),(0,newcols-oldcols)),mode=\"constant\")\n",
    " \n",
    "    \n",
    "    # QR dimensional reduction algorithm\n",
    "    def QRDimRed(self, verbose : bool = False ):\n",
    "        dims = self.dims\n",
    "        matrices = self.matrices\n",
    "        quiver = self.quiver\n",
    "        vertices = quiver.vertices\n",
    "        edges = quiver.edges\n",
    "\n",
    "        # Check that vertices are in a topological order\n",
    "        assert quiver.check_top_order(), \"Order of the vertices is not topological\"\n",
    "\n",
    "        # Compute the reduced dimension vector\n",
    "        dims_red = self.comp_dims_red()\n",
    "        # print(dims, dims_red)\n",
    "\n",
    "        # Q = dictionary mapping each vertex to an orthogonal matrix\n",
    "        Q = {}\n",
    "\n",
    "        # Vmatrices = matrices of the reduced representation V, mapping each edge to a matrix\n",
    "        Vmatrices = {}\n",
    "\n",
    "        if verbose:\n",
    "            print(quiver.edges)\n",
    "            print(quiver.vertices)\n",
    "\n",
    "        for i in vertices:\n",
    "            incoming = quiver.get_incoming(i)\n",
    "\n",
    "            # Case of a source vertex\n",
    "            if incoming == []:\n",
    "                Q[i] = np.eye(dims[i])\n",
    "\n",
    "            # Case of a hidden vertex    \n",
    "            elif i not in quiver.sinks:\n",
    "\n",
    "                # Compute the matrix to be QR-decomposed\n",
    "                M = np.array([])\n",
    "                for e in incoming:\n",
    "                    # Transform weights on incoming edges\n",
    "                    Qj = Q[e[0]]\n",
    "                    Me = matrices[e] @ Qj[:,:dims_red[e[0]]]\n",
    "                    if np.shape(M) == (0,):\n",
    "                        M = Me\n",
    "                    else:\n",
    "                        M = np.hstack((M, Me))\n",
    "\n",
    "                Q[i], R = np.linalg.qr(M, mode=\"complete\")\n",
    "\n",
    "                # Case of reduction \n",
    "                if dims_red[i] < dims[i]: \n",
    "                    R = R[:dims_red[i]]\n",
    "\n",
    "                # Process and add to the dictionaries\n",
    "                for e in incoming:                       \n",
    "                    # Extract V_e from R_i for all incoming edges e\n",
    "                    Vmatrices[e] = R[:,:dims_red[e[0]]]\n",
    "                    R = R[:,dims_red[e[0]]:]\n",
    "\n",
    "            # Case of a sink (no reduction)\n",
    "            else:\n",
    "                Q[i] = np.eye(dims[i])\n",
    "                for e in incoming:\n",
    "                    # Transform weights on incoming edges\n",
    "                    Qj = Q[e[0]]\n",
    "                    Vmatrices[e] = matrices[e] @ Qj[:,:dims_red[e[0]]]                \n",
    "\n",
    "\n",
    "        # Make V into a representation\n",
    "        V = quiver_rep(quiver, dims_red, Vmatrices)\n",
    "\n",
    "        # Verify that V is a subrepresentation of Q^{-1} W  \n",
    "        for e in quiver.edges:\n",
    "            Qi = Q[e[0]]\n",
    "            Qj = Q[e[1]]\n",
    "            max_diff = np.max(np.abs(np.transpose(Qj) @ matrices[e] @ Qi[:,:dims_red[e[0]]] \n",
    "                         - self.padzeros(Vmatrices[e], dims[e[1]])))\n",
    "            assert max_diff < 1e-10, \"Error in the algorithm\"\n",
    "\n",
    "        return Q, V\n",
    "    \n",
    "    \n",
    "    def reduced_representation(self, verbose : bool = False ):\n",
    "        return self.QRDimRed(verbose)[1]\n",
    "                \n",
    "    def transformed_representation(self):\n",
    "        Q, V = self.QRDimRed()\n",
    "        transformed_mat_dict = {}\n",
    "        for e in self.quiver.edges:\n",
    "            breakpoint()\n",
    "            transformed_mat_dict[e] = np.transpose(Q[e[1]]) @ self.matrices[e] @ Q[e[0]]\n",
    "        \n",
    "        Q_inv_W = quiver_rep(self.quiver, self.dims, transformed_mat_dict)\n",
    "        \n",
    "        return Q_inv_W"
   ]
  },
  {
   "cell_type": "markdown",
   "metadata": {
    "ExecuteTime": {
     "end_time": "2022-03-01T00:41:27.213007Z",
     "start_time": "2022-03-01T00:41:27.206820Z"
    },
    "heading_collapsed": true
   },
   "source": [
    "### Linear Feedforward Function"
   ]
  },
  {
   "cell_type": "code",
   "execution_count": null,
   "metadata": {
    "ExecuteTime": {
     "end_time": "2022-03-01T00:40:52.573895Z",
     "start_time": "2022-03-01T00:40:02.394Z"
    },
    "hidden": true
   },
   "outputs": [],
   "source": [
    "# Linear feedforward function, ignoring biases\n",
    "# Might turn out not to be super necessary\n",
    "\n",
    "def lin_ff(W : quiver_rep) -> np.array:\n",
    "    dims = W.dims\n",
    "    matrices = W.matrices\n",
    "    quiver = W.quiver\n",
    "    vertices = quiver.vertices\n",
    "    edges = quiver.edges\n",
    "    \n",
    "    assert quiver.check_top_order(), \"Order of the vertices is not topological\"\n",
    "    \n",
    "    # Dictionary for partial feedforward functions:\n",
    "    partial = {}\n",
    "    input_dim = 0\n",
    "    # input_dim = sum( [dims[i] for i in quiver.sources])\n",
    "    \n",
    "    for i in quiver.vertices:\n",
    "        incoming = quiver.get_incoming(i)\n",
    "        \n",
    "        # Case of a source\n",
    "        if i in quiver.sources:\n",
    "            \n",
    "            # Update matrices already defined\n",
    "            for j in partial:\n",
    "                partial[j] = np.hstack((partial[j], np.zeros((dims[j],dims[i]))))\n",
    "                \n",
    "            # Define the new matrix as a projection matrix\n",
    "            if input_dim == 0:\n",
    "                partial[i] = np.eye(dims[i])\n",
    "            else:\n",
    "                partial[i] = np.hstack((np.zeros((dims[i], input_dim)), np.eye(dims[i])))\n",
    "            input_dim += dims[i]\n",
    "\n",
    "        # Case of a hidden vertex or a sink\n",
    "        else:\n",
    "            \n",
    "            # Compute the matrix to be added\n",
    "            A = np.zeros((dims[i], input_dim))\n",
    "            for e in incoming:\n",
    "                # Ignore biases for now\n",
    "                if e[0] != 'bias':\n",
    "                    A += matrices[e] @ partial[e[0]]\n",
    "            partial[i] = A\n",
    "         \n",
    "    # Compute the final output matrix by stacking the matrices for sinks\n",
    "    result = np.array([])\n",
    "    for i in quiver.sinks:\n",
    "        if np.shape(result) == (0,):\n",
    "            result = partial[i]\n",
    "        else:\n",
    "            result = np.vstack((result, partial[i]))\n",
    "                        \n",
    "    return result"
   ]
  },
  {
   "cell_type": "markdown",
   "metadata": {
    "heading_collapsed": true
   },
   "source": [
    "# Dimensional reduction algorithm"
   ]
  },
  {
   "cell_type": "code",
   "execution_count": 178,
   "metadata": {
    "ExecuteTime": {
     "end_time": "2022-02-28T23:38:55.822031Z",
     "start_time": "2022-02-28T23:38:55.807678Z"
    },
    "hidden": true
   },
   "outputs": [],
   "source": [
    "# Auxiliary function\n",
    "\n",
    "def padzeros(M,newrows,newcols = None):\n",
    "    oldrows, oldcols = M.shape\n",
    "    if newcols == None:\n",
    "        newcols = oldcols\n",
    "    return np.pad(M,((0,newrows-oldrows),(0,newcols-oldcols)),mode=\"constant\")"
   ]
  },
  {
   "cell_type": "code",
   "execution_count": 179,
   "metadata": {
    "ExecuteTime": {
     "end_time": "2022-02-28T23:38:56.170953Z",
     "start_time": "2022-02-28T23:38:56.150814Z"
    },
    "hidden": true
   },
   "outputs": [],
   "source": [
    "# QR dimensional reduction algorithm\n",
    "# This is incorporated in the quiver_rep class\n",
    "\n",
    "def QRDimRed(W : quiver_rep, verbose : bool = False ):\n",
    "    dims = W.dims\n",
    "    matrices = W.matrices\n",
    "    quiver = W.quiver\n",
    "    vertices = quiver.vertices\n",
    "    edges = quiver.edges\n",
    "    \n",
    "    # Check that vertices are in a topological order\n",
    "    assert quiver.check_top_order(), \"Order of the vertices is not topological\"\n",
    "    \n",
    "    # Compute the reduced dimension vector\n",
    "    dims_red = W.comp_dims_red()\n",
    "    # print(dims, dims_red)\n",
    "    \n",
    "    # Q = dictionary mapping each vertex to an orthogonal matrix\n",
    "    Q = {}\n",
    "    \n",
    "    # Vmatrices = matrices of the reduced representation V, mapping each edge to a matrix\n",
    "    Vmatrices = {}\n",
    "    \n",
    "    if verbose:\n",
    "        print(quiver.edges)\n",
    "        print(quiver.vertices)\n",
    "    \n",
    "    for i in vertices:\n",
    "        incoming = quiver.get_incoming(i)\n",
    "        \n",
    "        # Case of a source vertex\n",
    "        if incoming == []:\n",
    "            Q[i] = np.eye(dims[i])\n",
    "            \n",
    "        # Case of a hidden vertex    \n",
    "        elif i not in quiver.sinks:\n",
    "            \n",
    "            # Compute the matrix to be QR-decomposed\n",
    "            M = np.array([])\n",
    "            for e in incoming:\n",
    "                # Transform weights on incoming edges\n",
    "                Qj = Q[e[0]]\n",
    "                Me = matrices[e] @ Qj[:,:dims_red[e[0]]]\n",
    "                if np.shape(M) == (0,):\n",
    "                    M = Me\n",
    "                else:\n",
    "                    M = np.hstack((M, Me))\n",
    "                    \n",
    "            Q[i], R = np.linalg.qr(M, mode=\"complete\")\n",
    "\n",
    "            # Case of reduction \n",
    "            if dims_red[i] < dims[i]: \n",
    "                R = R[:dims_red[i]]\n",
    "                \n",
    "            # Process and add to the dictionaries\n",
    "            for e in incoming:                       \n",
    "                # Extract V_e from R_i for all incoming edges e\n",
    "                Vmatrices[e] = R[:,:dims_red[e[0]]]\n",
    "                R = R[:,dims_red[e[0]]:]\n",
    "                \n",
    "        # Case of a sink (no reduction)\n",
    "        else:\n",
    "            Q[i] = np.eye(dims[i])\n",
    "            for e in incoming:\n",
    "                # Transform weights on incoming edges\n",
    "                Qj = Q[e[0]]\n",
    "                Vmatrices[e] = matrices[e] @ Qj[:,:dims_red[e[0]]]                \n",
    "\n",
    "    \n",
    "    # Make V into a representation\n",
    "    V = quiver_rep(quiver, dims_red, Vmatrices)\n",
    "\n",
    "    # Verify that V is a subrepresentation of Q^{-1} W  \n",
    "    for e in quiver.edges:\n",
    "        Qi = Q[e[0]]\n",
    "        Qj = Q[e[1]]\n",
    "        max_diff = np.max(np.abs(np.transpose(Qj) @ matrices[e] @ Qi[:,:dims_red[e[0]]] \n",
    "                     - padzeros(Vmatrices[e], dims[e[1]])))\n",
    "        assert max_diff < 1e-10, \"Error in the algorithm\"\n",
    "\n",
    "    return Q, V"
   ]
  },
  {
   "cell_type": "markdown",
   "metadata": {
    "heading_collapsed": true
   },
   "source": [
    "# Example 1"
   ]
  },
  {
   "cell_type": "code",
   "execution_count": 155,
   "metadata": {
    "ExecuteTime": {
     "end_time": "2022-02-28T23:33:36.074709Z",
     "start_time": "2022-02-28T23:33:36.058387Z"
    },
    "hidden": true
   },
   "outputs": [
    {
     "name": "stdout",
     "output_type": "stream",
     "text": [
      "[] [('a', 'b')] [('a', 'c'), ('b', 'c')] [('c', 'd')]\n",
      "False False False True\n",
      "True\n",
      "{'a'}\n",
      "['bias', 'a', 'b', 'c', 'd']\n",
      "[('a', 'b'), ('a', 'c'), ('b', 'c'), ('c', 'd'), ('bias', 'b'), ('bias', 'c'), ('bias', 'd')]\n"
     ]
    }
   ],
   "source": [
    "# EXAMPLE\n",
    "# Quiver with skip connections and no bias\n",
    "\n",
    "vertex_list = ['a', 'b', 'c', 'd']\n",
    "edge_list = [('a', 'b'), ('a','c'), ('b','c'), ('c', 'd')]\n",
    "\n",
    "quiv_ex = quiver(vertex_list, edge_list)\n",
    "# print(Q.vertices, Q.edges)\n",
    "\n",
    "# Test the methods\n",
    "print(quiv_ex.get_incoming('a'), quiv_ex.get_incoming('b'), quiv_ex.get_incoming('c'), quiv_ex.get_incoming('d'))\n",
    "print(quiv_ex.is_sink('a'), quiv_ex.is_sink('b'), quiv_ex.is_sink('c'), quiv_ex.is_sink('d'))\n",
    "print(quiv_ex.check_top_order())\n",
    "print(quiv_ex.sources)\n",
    "quiv_ex.add_bias()\n",
    "print(quiv_ex.vertices)\n",
    "print(quiv_ex.edges)"
   ]
  },
  {
   "cell_type": "code",
   "execution_count": 10,
   "metadata": {
    "ExecuteTime": {
     "end_time": "2022-02-28T22:34:00.796644Z",
     "start_time": "2022-02-28T22:34:00.791668Z"
    },
    "hidden": true
   },
   "outputs": [
    {
     "name": "stdout",
     "output_type": "stream",
     "text": [
      "{'bias': 1, 'a': 2, 'b': 3, 'c': 6, 'd': 2}\n"
     ]
    }
   ],
   "source": [
    "# Representation of this quiver\n",
    "\n",
    "dim_vector = {'bias' : 1, 'a': 2, 'b': 4, 'c': 8, 'd': 2 }\n",
    "\n",
    "maps = {('a', 'b') : np.random.rand(4, 2), \n",
    "        ('a', 'c') : np.random.rand(8, 2), \n",
    "        ('b', 'c') : np.random.rand(8, 4),\n",
    "        ('c', 'd') : np.random.rand(2, 8),\n",
    "        ('bias', 'b') : np.random.rand(4, 1),\n",
    "        ('bias', 'c') : np.random.rand(8, 1),\n",
    "        ('bias', 'd') : np.random.rand(2, 1)}\n",
    "\n",
    "ex_rep = quiver_rep(quiv_ex, dim_vector, maps)\n",
    "print(ex_rep.comp_dims_red())"
   ]
  },
  {
   "cell_type": "code",
   "execution_count": 11,
   "metadata": {
    "ExecuteTime": {
     "end_time": "2022-02-28T22:34:00.979180Z",
     "start_time": "2022-02-28T22:34:00.943775Z"
    },
    "hidden": true
   },
   "outputs": [
    {
     "name": "stdout",
     "output_type": "stream",
     "text": [
      "{'bias': 1, 'a': 2, 'b': 3, 'c': 6, 'd': 2}\n",
      "[(1, 1), (2, 2), (4, 4), (8, 8), (2, 2)]\n",
      "[(3, 2), (3, 1), (6, 2), (6, 3), (6, 1), (2, 6), (2, 1)]\n"
     ]
    }
   ],
   "source": [
    "# Check the algorithm\n",
    "\n",
    "Q_ex ,V_ex = QRDimRed(ex_rep)\n",
    "print(ex_rep.comp_dims_red())\n",
    "print([np.shape(Q_ex[i]) for i in Q_ex])\n",
    "print([np.shape(V_ex.matrices[e]) for e in V_ex.matrices])"
   ]
  },
  {
   "cell_type": "code",
   "execution_count": 12,
   "metadata": {
    "ExecuteTime": {
     "end_time": "2022-02-28T22:34:01.100807Z",
     "start_time": "2022-02-28T22:34:01.095091Z"
    },
    "hidden": true,
    "scrolled": true
   },
   "outputs": [
    {
     "data": {
      "text/plain": [
       "array([[7.84656088, 7.27676386],\n",
       "       [6.16817118, 5.87194995]])"
      ]
     },
     "execution_count": 12,
     "metadata": {},
     "output_type": "execute_result"
    }
   ],
   "source": [
    "lin_ff(ex_rep)"
   ]
  },
  {
   "cell_type": "code",
   "execution_count": 13,
   "metadata": {
    "ExecuteTime": {
     "end_time": "2022-02-28T22:34:01.272463Z",
     "start_time": "2022-02-28T22:34:01.260708Z"
    },
    "hidden": true
   },
   "outputs": [
    {
     "data": {
      "text/plain": [
       "array([[7.84656088, 7.27676386],\n",
       "       [6.16817118, 5.87194995]])"
      ]
     },
     "execution_count": 13,
     "metadata": {},
     "output_type": "execute_result"
    }
   ],
   "source": [
    "ex_rep.matrices[('c','d')] @ ( ex_rep.matrices[('a','c')] + ex_rep.matrices[('b','c')] @ ex_rep.matrices[('a','b')] )"
   ]
  },
  {
   "cell_type": "code",
   "execution_count": 14,
   "metadata": {
    "ExecuteTime": {
     "end_time": "2022-02-28T22:34:01.409739Z",
     "start_time": "2022-02-28T22:34:01.402851Z"
    },
    "hidden": true
   },
   "outputs": [
    {
     "data": {
      "text/plain": [
       "array([[7.84656088, 7.27676386],\n",
       "       [6.16817118, 5.87194995]])"
      ]
     },
     "execution_count": 14,
     "metadata": {},
     "output_type": "execute_result"
    }
   ],
   "source": [
    "lin_ff(V_ex)"
   ]
  },
  {
   "cell_type": "markdown",
   "metadata": {},
   "source": [
    "# Example 2"
   ]
  },
  {
   "cell_type": "code",
   "execution_count": 287,
   "metadata": {
    "ExecuteTime": {
     "end_time": "2022-03-01T00:41:10.526016Z",
     "start_time": "2022-03-01T00:41:10.518836Z"
    }
   },
   "outputs": [
    {
     "name": "stdout",
     "output_type": "stream",
     "text": [
      "[] [] [('a', 'c'), ('b', 'c')] [('c', 'd')] [('c', 'e')]\n",
      "False False False True True\n",
      "True\n",
      "{'a', 'b'}\n",
      "['bias', 'a', 'b', 'c', 'd', 'e']\n",
      "[('a', 'c'), ('b', 'c'), ('c', 'd'), ('c', 'e'), ('bias', 'c'), ('bias', 'd'), ('bias', 'e')]\n"
     ]
    }
   ],
   "source": [
    "# EXAMPLE\n",
    "# Quiver with multiple inputs and outputs\n",
    "\n",
    "vertex_list2 = ['a', 'b', 'c', 'd', 'e']\n",
    "edge_list2 = [('a', 'c'), ('b','c'), ('c','d'), ('c', 'e')]\n",
    "\n",
    "quiv_ex2 = quiver(vertex_list2, edge_list2)\n",
    "# print(Q.vertices, Q.edges)\n",
    "\n",
    "# Test the methods\n",
    "print(quiv_ex2.get_incoming('a'), quiv_ex2.get_incoming('b'), quiv_ex2.get_incoming('c'), \n",
    "      quiv_ex2.get_incoming('d'), quiv_ex2.get_incoming('e'))\n",
    "print(quiv_ex2.is_sink('a'), quiv_ex2.is_sink('b'), quiv_ex2.is_sink('c'), \n",
    "      quiv_ex2.is_sink('d'), quiv_ex2.is_sink('e'))\n",
    "print(quiv_ex2.check_top_order())\n",
    "print(quiv_ex2.sources)\n",
    "quiv_ex2.add_bias()\n",
    "print(quiv_ex2.vertices)\n",
    "print(quiv_ex2.edges)"
   ]
  },
  {
   "cell_type": "code",
   "execution_count": 181,
   "metadata": {
    "ExecuteTime": {
     "end_time": "2022-02-28T23:39:01.477496Z",
     "start_time": "2022-02-28T23:39:01.462718Z"
    }
   },
   "outputs": [
    {
     "name": "stdout",
     "output_type": "stream",
     "text": [
      "{'bias': 1, 'a': 1, 'b': 2, 'c': 4, 'd': 2, 'e': 6}\n"
     ]
    }
   ],
   "source": [
    "# Representation of this quiver\n",
    "\n",
    "dim_vector2 = {'bias' : 1, 'a': 1, 'b': 2, 'c': 8, 'd': 2 , 'e': 6}\n",
    "\n",
    "maps2 = {('a', 'c') : np.random.rand(8, 1), \n",
    "        ('b', 'c') : np.random.rand(8, 2), \n",
    "        ('c', 'd') : np.random.rand(2, 8),\n",
    "        ('c', 'e') : np.random.rand(6, 8),\n",
    "        ('bias', 'c') : np.random.rand(8, 1),\n",
    "        ('bias', 'd') : np.random.rand(2, 1),\n",
    "        ('bias', 'e') : np.random.rand(6, 1)}\n",
    "\n",
    "ex_rep2 = quiver_rep(quiv_ex2, dim_vector2, maps2)\n",
    "print(ex_rep2.comp_dims_red())"
   ]
  },
  {
   "cell_type": "code",
   "execution_count": 182,
   "metadata": {
    "ExecuteTime": {
     "end_time": "2022-02-28T23:39:06.543579Z",
     "start_time": "2022-02-28T23:39:06.539147Z"
    }
   },
   "outputs": [
    {
     "name": "stdout",
     "output_type": "stream",
     "text": [
      "{'bias': 1, 'a': 1, 'b': 2, 'c': 4, 'd': 2, 'e': 6}\n",
      "[(1, 1), (1, 1), (2, 2), (8, 8), (2, 2), (6, 6)]\n",
      "[(4, 1), (4, 2), (4, 1), (2, 4), (2, 1), (6, 4), (6, 1)]\n"
     ]
    }
   ],
   "source": [
    "# Check the algorithm\n",
    "\n",
    "Q_ex2 ,V_ex2 = QRDimRed(ex_rep2)\n",
    "print(ex_rep2.comp_dims_red())\n",
    "print([np.shape(Q_ex2[i]) for i in Q_ex2])\n",
    "print([np.shape(V_ex2.matrices[e]) for e in V_ex2.matrices])"
   ]
  },
  {
   "cell_type": "code",
   "execution_count": 183,
   "metadata": {
    "ExecuteTime": {
     "end_time": "2022-02-28T23:39:07.089608Z",
     "start_time": "2022-02-28T23:39:07.078890Z"
    }
   },
   "outputs": [
    {
     "data": {
      "text/plain": [
       "array([[2.42634553, 2.59075974, 1.54111815],\n",
       "       [1.24592817, 1.21881054, 0.74666681],\n",
       "       [2.19768811, 2.39054329, 1.50132817],\n",
       "       [2.19165735, 2.38215029, 1.68995036],\n",
       "       [2.59759706, 2.41261937, 1.596163  ],\n",
       "       [1.95618287, 2.37873148, 1.21171795],\n",
       "       [1.73291241, 1.93242686, 1.04614513],\n",
       "       [2.2746769 , 2.55232039, 1.33372596]])"
      ]
     },
     "execution_count": 183,
     "metadata": {},
     "output_type": "execute_result"
    }
   ],
   "source": [
    "lin_ff(ex_rep2)"
   ]
  },
  {
   "cell_type": "code",
   "execution_count": 184,
   "metadata": {
    "ExecuteTime": {
     "end_time": "2022-02-28T23:39:07.580390Z",
     "start_time": "2022-02-28T23:39:07.573036Z"
    }
   },
   "outputs": [
    {
     "data": {
      "text/plain": [
       "array([[2.42634553, 2.59075974, 1.54111815],\n",
       "       [1.24592817, 1.21881054, 0.74666681],\n",
       "       [2.19768811, 2.39054329, 1.50132817],\n",
       "       [2.19165735, 2.38215029, 1.68995036],\n",
       "       [2.59759706, 2.41261937, 1.596163  ],\n",
       "       [1.95618287, 2.37873148, 1.21171795],\n",
       "       [1.73291241, 1.93242686, 1.04614513],\n",
       "       [2.2746769 , 2.55232039, 1.33372596]])"
      ]
     },
     "execution_count": 184,
     "metadata": {},
     "output_type": "execute_result"
    }
   ],
   "source": [
    "lin_ff(V_ex2)"
   ]
  },
  {
   "cell_type": "markdown",
   "metadata": {},
   "source": [
    "# Quiver Neural Networks"
   ]
  },
  {
   "cell_type": "code",
   "execution_count": 185,
   "metadata": {
    "ExecuteTime": {
     "end_time": "2022-02-28T23:39:14.303421Z",
     "start_time": "2022-02-28T23:39:14.300053Z"
    }
   },
   "outputs": [],
   "source": [
    "class RadAct(nn.Module):\n",
    "    def __init__(self, eta = F.relu):\n",
    "        super().__init__()\n",
    "        self.eta = eta\n",
    "        self.shift = 0 \n",
    "        # Add internal bias/shift later\n",
    "        \n",
    "    def forward(self,x):\n",
    "        # x: [Batch x Channel]\n",
    "        # Radial activations\n",
    "        r = torch.linalg.norm(x, dim=-1) \n",
    "        if torch.min(r) < 1e-6:\n",
    "            r += 1e-6\n",
    "        scalar = self.eta(r + self.shift) / r\n",
    "        return x * scalar.unsqueeze(-1)   "
   ]
  },
  {
   "cell_type": "code",
   "execution_count": 272,
   "metadata": {
    "ExecuteTime": {
     "end_time": "2022-03-01T00:35:48.268163Z",
     "start_time": "2022-03-01T00:35:48.244276Z"
    }
   },
   "outputs": [],
   "source": [
    "class QuiverNN(nn.Module):\n",
    "    \n",
    "    def __init__(self, eta: float , quiver: quiver, dims: Dict[str,int] ):\n",
    "        super().__init__()\n",
    "        self.eta = eta\n",
    "        self.quiver = quiver\n",
    "        self.dims = dims\n",
    "        self.matrices = nn.ModuleDict()\n",
    "        for e in quiver.edges:\n",
    "            self.matrices[self.edge_tup_to_str(e)] = nn.Linear(self.dims[e[0]], self.dims[e[1]], bias = False)\n",
    "        \n",
    "        assert quiver.check_top_order(), \"Vertices not in topological order.\"\n",
    "        \n",
    "        self.act = RadAct(self.eta)\n",
    "        #self.quiver_rep = quiver_rep()\n",
    "        \n",
    "        # Assert statement to check that dims is a dimension vector for Q\n",
    "        \n",
    "        # Reduced dimension vector\n",
    "    \n",
    "    def edge_tup_to_str(self,e):\n",
    "        (t,h) = e\n",
    "        return t + \" to \" + h\n",
    "\n",
    "    def edge_str_to_tup(self,e):\n",
    "        t,to,h = e.split()\n",
    "        return (t,h)\n",
    "\n",
    "    def forward(self, x, non_linear = True):\n",
    "        \n",
    "        #Initialize Data Flow\n",
    "        h = {}\n",
    "        h['bias'] = torch.tensor(1.0)\n",
    "        for v in self.quiver.sources:\n",
    "            h[v] = x[v]\n",
    "            batch_size = x[v].shape[0]\n",
    "        \n",
    "        #Assert batchsize is same for all sources \n",
    "        \n",
    "        for v in self.quiver.vertices:\n",
    "            if v not in self.quiver.sources:\n",
    "                h[v] = torch.zeros(batch_size,self.dims[v])\n",
    "                for e in self.quiver.get_incoming(v):\n",
    "                    e_lin = self.matrices[self.edge_tup_to_str(e)]\n",
    "                    h[e[1]] += e_lin(h[e[0]])\n",
    "                if non_linear:\n",
    "                    h[v] = self.act(h[v])\n",
    "        \n",
    "        out = {}\n",
    "        for v in self.quiver.sinks:\n",
    "            out[v] = h[v]\n",
    "            \n",
    "        return out\n",
    "            \n",
    "    \n",
    "    def set_weights(self, new_weights: quiver_rep):\n",
    "        assert new_weights.quiver == self.quiver, \"weights have different quiver\"\n",
    "        \n",
    "        for e in self.quiver.edges:\n",
    "            self.matrices[self.edge_tup_to_str(e)].weight = \\\n",
    "                torch.nn.Parameter(torch.tensor(new_weights.matrices[e],dtype = torch.float))\n",
    "        self.dims = new_weights.dims\n",
    "    \n",
    "    def set_activation_biases(self, new_biases: List[float]):    \n",
    "        None\n",
    "\n",
    "    def export_weights(self) -> quiver_rep:\n",
    "        quiver_rep_matrix_dict = {}\n",
    "        for e in self.quiver.edges:\n",
    "            quiver_rep_matrix_dict[e] = self.matrices[self.edge_tup_to_str(e)].weight.detach().cpu().numpy()\n",
    "        return quiver_rep(self.quiver, self.dims, quiver_rep_matrix_dict)\n",
    "    \n",
    "    def export_activation_biases(self) -> List[float]:\n",
    "        None\n",
    "    \n",
    "    def export_reduced_weights(self) -> quiver_rep:\n",
    "        exported_rep = self.export_weights()\n",
    "        return exported_rep.reduced_representation()\n",
    "    \n",
    "    def transformed_network(self):\n",
    "        exported_rep = self.export_weights()\n",
    "        rep_transformed = exported_rep.transformed_representation()\n",
    "        net_trans = QuiverNN(self.eta, self.quiver, self.dims)\n",
    "        net_trans.set_weights(rep_transformed)\n",
    "        #net_trans.set_activation_biases(self.export_activation_biases())\n",
    "        return net_trans\n",
    "        \n",
    "    def reduced_network(self):\n",
    "        reduced_rep = self.export_reduced_weights()\n",
    "        net_reduced = QuiverNN(self.eta, self.quiver, reduced_rep.dims)\n",
    "        net_reduced.set_weights(reduced_rep)\n",
    "        #net_trans.set_activation_biases(self.export_activation_biases())\n",
    "        return net_reduced"
   ]
  },
  {
   "cell_type": "code",
   "execution_count": 273,
   "metadata": {
    "ExecuteTime": {
     "end_time": "2022-03-01T00:35:48.917060Z",
     "start_time": "2022-03-01T00:35:48.910439Z"
    }
   },
   "outputs": [],
   "source": [
    "vertex_list2 = ['a', 'b', 'c', 'd', 'e']\n",
    "edge_list2 = [('a', 'c'), ('b','c'), ('c','d'), ('c', 'e')]\n",
    "dim_vector2 = {'bias' : 1, 'a': 1, 'b': 2, 'c': 8, 'd': 2 , 'e': 6}\n",
    "quiv_ex2 = quiver(vertex_list2, edge_list2)\n",
    "quiv_ex2.add_bias()\n",
    "\n",
    "quiverNN = QuiverNN(eta = F.relu, quiver = quiv_ex2, dims = dim_vector2)"
   ]
  },
  {
   "cell_type": "code",
   "execution_count": 274,
   "metadata": {
    "ExecuteTime": {
     "end_time": "2022-03-01T00:35:49.317930Z",
     "start_time": "2022-03-01T00:35:49.305220Z"
    }
   },
   "outputs": [
    {
     "data": {
      "text/plain": [
       "{'d': tensor([[-0.3187, -0.0885]], grad_fn=<MulBackward0>),\n",
       " 'e': tensor([[ 0.0246,  0.6616, -0.3427, -0.3384,  0.5883,  0.3246]],\n",
       "        grad_fn=<MulBackward0>)}"
      ]
     },
     "execution_count": 274,
     "metadata": {},
     "output_type": "execute_result"
    }
   ],
   "source": [
    "x = {'a': torch.tensor([[1.0]]),'b': torch.tensor([[1.0,1.0]])}\n",
    "quiverNN(x)"
   ]
  },
  {
   "cell_type": "code",
   "execution_count": 275,
   "metadata": {
    "ExecuteTime": {
     "end_time": "2022-03-01T00:35:49.752279Z",
     "start_time": "2022-03-01T00:35:49.744084Z"
    }
   },
   "outputs": [
    {
     "name": "stdout",
     "output_type": "stream",
     "text": [
      "{'bias': 1, 'a': 1, 'b': 2, 'c': 4, 'd': 2, 'e': 6}\n"
     ]
    }
   ],
   "source": [
    "# Representation of this quiver\n",
    "\n",
    "maps2 = {('a', 'c') : np.random.rand(8, 1), \n",
    "        ('b', 'c') : np.random.rand(8, 2), \n",
    "        ('c', 'd') : np.random.rand(2, 8),\n",
    "        ('c', 'e') : np.random.rand(6, 8),\n",
    "        ('bias', 'c') : np.random.rand(8, 1),\n",
    "        ('bias', 'd') : np.random.rand(2, 1),\n",
    "        ('bias', 'e') : np.random.rand(6, 1)}\n",
    "\n",
    "ex_rep2 = quiver_rep(quiv_ex2, dim_vector2, maps2)\n",
    "print(ex_rep2.comp_dims_red())\n",
    "\n",
    "quiverNN.set_weights(ex_rep2)"
   ]
  },
  {
   "cell_type": "code",
   "execution_count": 276,
   "metadata": {
    "ExecuteTime": {
     "end_time": "2022-03-01T00:35:51.048526Z",
     "start_time": "2022-03-01T00:35:51.045705Z"
    }
   },
   "outputs": [
    {
     "data": {
      "text/plain": [
       "<__main__.quiver_rep at 0x7f01677d9c50>"
      ]
     },
     "execution_count": 276,
     "metadata": {},
     "output_type": "execute_result"
    }
   ],
   "source": [
    "quiverNN.export_weights()"
   ]
  },
  {
   "cell_type": "code",
   "execution_count": 277,
   "metadata": {
    "ExecuteTime": {
     "end_time": "2022-03-01T00:35:51.235276Z",
     "start_time": "2022-03-01T00:35:51.220132Z"
    }
   },
   "outputs": [
    {
     "data": {
      "text/plain": [
       "<__main__.quiver_rep at 0x7f016791bbd0>"
      ]
     },
     "execution_count": 277,
     "metadata": {},
     "output_type": "execute_result"
    }
   ],
   "source": [
    "quiverNN.export_reduced_weights()"
   ]
  },
  {
   "cell_type": "code",
   "execution_count": 278,
   "metadata": {
    "ExecuteTime": {
     "end_time": "2022-03-01T00:35:51.402681Z",
     "start_time": "2022-03-01T00:35:51.392995Z"
    }
   },
   "outputs": [
    {
     "data": {
      "text/plain": [
       "{'bias': 1, 'a': 1, 'b': 2, 'c': 4, 'd': 2, 'e': 6}"
      ]
     },
     "execution_count": 278,
     "metadata": {},
     "output_type": "execute_result"
    }
   ],
   "source": [
    "quiverNN.export_weights().comp_dims_red()"
   ]
  },
  {
   "cell_type": "code",
   "execution_count": 279,
   "metadata": {
    "ExecuteTime": {
     "end_time": "2022-03-01T00:35:51.822548Z",
     "start_time": "2022-03-01T00:35:51.814536Z"
    }
   },
   "outputs": [
    {
     "data": {
      "text/plain": [
       "QuiverNN(\n",
       "  (matrices): ModuleDict(\n",
       "    (a to c): Linear(in_features=1, out_features=4, bias=False)\n",
       "    (b to c): Linear(in_features=2, out_features=4, bias=False)\n",
       "    (c to d): Linear(in_features=4, out_features=2, bias=False)\n",
       "    (c to e): Linear(in_features=4, out_features=6, bias=False)\n",
       "    (bias to c): Linear(in_features=1, out_features=4, bias=False)\n",
       "    (bias to d): Linear(in_features=1, out_features=2, bias=False)\n",
       "    (bias to e): Linear(in_features=1, out_features=6, bias=False)\n",
       "  )\n",
       "  (act): RadAct()\n",
       ")"
      ]
     },
     "execution_count": 279,
     "metadata": {},
     "output_type": "execute_result"
    }
   ],
   "source": [
    "red_quiverNN = quiverNN.reduced_network()\n",
    "red_quiverNN"
   ]
  },
  {
   "cell_type": "code",
   "execution_count": 280,
   "metadata": {
    "ExecuteTime": {
     "end_time": "2022-03-01T00:35:53.573133Z",
     "start_time": "2022-03-01T00:35:53.566334Z"
    }
   },
   "outputs": [
    {
     "data": {
      "text/plain": [
       "{'d': tensor([[5.7304, 6.0896]], grad_fn=<MulBackward0>),\n",
       " 'e': tensor([[7.7161, 5.1292, 7.7448, 7.1004, 3.9315, 7.0689]],\n",
       "        grad_fn=<MulBackward0>)}"
      ]
     },
     "execution_count": 280,
     "metadata": {},
     "output_type": "execute_result"
    }
   ],
   "source": [
    "red_quiverNN = quiverNN.reduced_network()\n",
    "x = {'a': torch.tensor([[1.0]]),'b': torch.tensor([[1.0,1.0]])}\n",
    "red_quiverNN(x)"
   ]
  },
  {
   "cell_type": "code",
   "execution_count": 283,
   "metadata": {
    "ExecuteTime": {
     "end_time": "2022-03-01T00:40:52.569565Z",
     "start_time": "2022-03-01T00:37:17.134396Z"
    }
   },
   "outputs": [
    {
     "name": "stdout",
     "output_type": "stream",
     "text": [
      "> \u001b[0;32m<ipython-input-282-3ff000e5f32d>\u001b[0m(139)\u001b[0;36mtransformed_representation\u001b[0;34m()\u001b[0m\n",
      "\u001b[0;32m    137 \u001b[0;31m        \u001b[0;32mfor\u001b[0m \u001b[0me\u001b[0m \u001b[0;32min\u001b[0m \u001b[0mself\u001b[0m\u001b[0;34m.\u001b[0m\u001b[0mquiver\u001b[0m\u001b[0;34m.\u001b[0m\u001b[0medges\u001b[0m\u001b[0;34m:\u001b[0m\u001b[0;34m\u001b[0m\u001b[0;34m\u001b[0m\u001b[0m\n",
      "\u001b[0m\u001b[0;32m    138 \u001b[0;31m            \u001b[0mbreakpoint\u001b[0m\u001b[0;34m(\u001b[0m\u001b[0;34m)\u001b[0m\u001b[0;34m\u001b[0m\u001b[0;34m\u001b[0m\u001b[0m\n",
      "\u001b[0m\u001b[0;32m--> 139 \u001b[0;31m            \u001b[0mtransformed_mat_dict\u001b[0m\u001b[0;34m[\u001b[0m\u001b[0me\u001b[0m\u001b[0;34m]\u001b[0m \u001b[0;34m=\u001b[0m \u001b[0mnp\u001b[0m\u001b[0;34m.\u001b[0m\u001b[0mtranspose\u001b[0m\u001b[0;34m(\u001b[0m\u001b[0mQ\u001b[0m\u001b[0;34m[\u001b[0m\u001b[0me\u001b[0m\u001b[0;34m[\u001b[0m\u001b[0;36m1\u001b[0m\u001b[0;34m]\u001b[0m\u001b[0;34m]\u001b[0m\u001b[0;34m)\u001b[0m \u001b[0;34m@\u001b[0m \u001b[0mV\u001b[0m\u001b[0;34m.\u001b[0m\u001b[0mmatrices\u001b[0m\u001b[0;34m[\u001b[0m\u001b[0me\u001b[0m\u001b[0;34m]\u001b[0m \u001b[0;34m@\u001b[0m \u001b[0mQ\u001b[0m\u001b[0;34m[\u001b[0m\u001b[0me\u001b[0m\u001b[0;34m[\u001b[0m\u001b[0;36m0\u001b[0m\u001b[0;34m]\u001b[0m\u001b[0;34m]\u001b[0m\u001b[0;34m\u001b[0m\u001b[0;34m\u001b[0m\u001b[0m\n",
      "\u001b[0m\u001b[0;32m    140 \u001b[0;31m\u001b[0;34m\u001b[0m\u001b[0m\n",
      "\u001b[0m\u001b[0;32m    141 \u001b[0;31m        \u001b[0mQ_inv_W\u001b[0m \u001b[0;34m=\u001b[0m \u001b[0mquiver_rep\u001b[0m\u001b[0;34m(\u001b[0m\u001b[0mself\u001b[0m\u001b[0;34m.\u001b[0m\u001b[0mquiver\u001b[0m\u001b[0;34m,\u001b[0m \u001b[0mself\u001b[0m\u001b[0;34m.\u001b[0m\u001b[0mdims\u001b[0m\u001b[0;34m,\u001b[0m \u001b[0mtransformed_mat_dict\u001b[0m\u001b[0;34m)\u001b[0m\u001b[0;34m\u001b[0m\u001b[0;34m\u001b[0m\u001b[0m\n",
      "\u001b[0m\n",
      "ipdb> e\n",
      "('a', 'c')\n",
      "ipdb> Q[e[1]]\n",
      "array([[-0.39413409, -0.3821514 , -0.0205056 , -0.00763372, -0.78661091,\n",
      "        -0.06475792, -0.18277059,  0.20441252],\n",
      "       [-0.24874292, -0.27595677,  0.09833052, -0.00526985,  0.35620878,\n",
      "         0.26617612,  0.31067713,  0.74700968],\n",
      "       [-0.57600779, -0.31349274, -0.01815573,  0.11619732,  0.38001785,\n",
      "         0.30011181, -0.34794283, -0.44784039],\n",
      "       [-0.32810272,  0.10788731,  0.39899106, -0.06215983,  0.23568079,\n",
      "        -0.78812304, -0.16636973,  0.11527785],\n",
      "       [-0.20923412,  0.47081375,  0.3658155 ,  0.71780676, -0.17385344,\n",
      "         0.21108317,  0.09979427,  0.0273486 ],\n",
      "       [-0.17161347,  0.40704072,  0.4308203 , -0.66245846, -0.11921261,\n",
      "         0.38833522, -0.12405566,  0.00190686],\n",
      "       [-0.46420227,  0.1697528 , -0.2899234 , -0.16866305, -0.07297919,\n",
      "        -0.13495084,  0.73636565, -0.27825416],\n",
      "       [-0.23374146,  0.50172408, -0.65337925, -0.00181956,  0.06809526,\n",
      "        -0.01340119, -0.39210772,  0.32888464]])\n",
      "ipdb> Q[e[1]].shape\n",
      "(8, 8)\n",
      "ipdb> self.dims\n",
      "{'bias': 1, 'a': 1, 'b': 2, 'c': 8, 'd': 2, 'e': 6}\n",
      "ipdb> V.matrices[e]\n",
      "array([[-1.73420919],\n",
      "       [ 0.        ],\n",
      "       [ 0.        ],\n",
      "       [ 0.        ]])\n",
      "ipdb> Q[e[0]].shape\n",
      "(1, 1)\n",
      "--KeyboardInterrupt--\n",
      "\n",
      "KeyboardInterrupt: Interrupted by user\n"
     ]
    },
    {
     "ename": "ValueError",
     "evalue": "matmul: Input operand 1 has a mismatch in its core dimension 0, with gufunc signature (n?,k),(k,m?)->(n?,m?) (size 4 is different from 8)",
     "output_type": "error",
     "traceback": [
      "\u001b[0;31m---------------------------------------------------------------------------\u001b[0m",
      "\u001b[0;31mValueError\u001b[0m                                Traceback (most recent call last)",
      "\u001b[0;32m<ipython-input-283-cb6efcbbf2aa>\u001b[0m in \u001b[0;36m<module>\u001b[0;34m\u001b[0m\n\u001b[0;32m----> 1\u001b[0;31m \u001b[0mquiverNN\u001b[0m\u001b[0;34m.\u001b[0m\u001b[0mtransformed_network\u001b[0m\u001b[0;34m(\u001b[0m\u001b[0;34m)\u001b[0m\u001b[0;34m\u001b[0m\u001b[0;34m\u001b[0m\u001b[0m\n\u001b[0m",
      "\u001b[0;32m<ipython-input-272-c8d1b75687d1>\u001b[0m in \u001b[0;36mtransformed_network\u001b[0;34m(self)\u001b[0m\n\u001b[1;32m     80\u001b[0m     \u001b[0;32mdef\u001b[0m \u001b[0mtransformed_network\u001b[0m\u001b[0;34m(\u001b[0m\u001b[0mself\u001b[0m\u001b[0;34m)\u001b[0m\u001b[0;34m:\u001b[0m\u001b[0;34m\u001b[0m\u001b[0;34m\u001b[0m\u001b[0m\n\u001b[1;32m     81\u001b[0m         \u001b[0mexported_rep\u001b[0m \u001b[0;34m=\u001b[0m \u001b[0mself\u001b[0m\u001b[0;34m.\u001b[0m\u001b[0mexport_weights\u001b[0m\u001b[0;34m(\u001b[0m\u001b[0;34m)\u001b[0m\u001b[0;34m\u001b[0m\u001b[0;34m\u001b[0m\u001b[0m\n\u001b[0;32m---> 82\u001b[0;31m         \u001b[0mrep_transformed\u001b[0m \u001b[0;34m=\u001b[0m \u001b[0mexported_rep\u001b[0m\u001b[0;34m.\u001b[0m\u001b[0mtransformed_representation\u001b[0m\u001b[0;34m(\u001b[0m\u001b[0;34m)\u001b[0m\u001b[0;34m\u001b[0m\u001b[0;34m\u001b[0m\u001b[0m\n\u001b[0m\u001b[1;32m     83\u001b[0m         \u001b[0mnet_trans\u001b[0m \u001b[0;34m=\u001b[0m \u001b[0mQuiverNN\u001b[0m\u001b[0;34m(\u001b[0m\u001b[0mself\u001b[0m\u001b[0;34m.\u001b[0m\u001b[0meta\u001b[0m\u001b[0;34m,\u001b[0m \u001b[0mself\u001b[0m\u001b[0;34m.\u001b[0m\u001b[0mquiver\u001b[0m\u001b[0;34m,\u001b[0m \u001b[0mself\u001b[0m\u001b[0;34m.\u001b[0m\u001b[0mdims\u001b[0m\u001b[0;34m)\u001b[0m\u001b[0;34m\u001b[0m\u001b[0;34m\u001b[0m\u001b[0m\n\u001b[1;32m     84\u001b[0m         \u001b[0mnet_trans\u001b[0m\u001b[0;34m.\u001b[0m\u001b[0mset_weights\u001b[0m\u001b[0;34m(\u001b[0m\u001b[0mrep_transformed\u001b[0m\u001b[0;34m)\u001b[0m\u001b[0;34m\u001b[0m\u001b[0;34m\u001b[0m\u001b[0m\n",
      "\u001b[0;32m<ipython-input-282-3ff000e5f32d>\u001b[0m in \u001b[0;36mtransformed_representation\u001b[0;34m(self)\u001b[0m\n\u001b[1;32m    137\u001b[0m         \u001b[0;32mfor\u001b[0m \u001b[0me\u001b[0m \u001b[0;32min\u001b[0m \u001b[0mself\u001b[0m\u001b[0;34m.\u001b[0m\u001b[0mquiver\u001b[0m\u001b[0;34m.\u001b[0m\u001b[0medges\u001b[0m\u001b[0;34m:\u001b[0m\u001b[0;34m\u001b[0m\u001b[0;34m\u001b[0m\u001b[0m\n\u001b[1;32m    138\u001b[0m             \u001b[0mbreakpoint\u001b[0m\u001b[0;34m(\u001b[0m\u001b[0;34m)\u001b[0m\u001b[0;34m\u001b[0m\u001b[0;34m\u001b[0m\u001b[0m\n\u001b[0;32m--> 139\u001b[0;31m             \u001b[0mtransformed_mat_dict\u001b[0m\u001b[0;34m[\u001b[0m\u001b[0me\u001b[0m\u001b[0;34m]\u001b[0m \u001b[0;34m=\u001b[0m \u001b[0mnp\u001b[0m\u001b[0;34m.\u001b[0m\u001b[0mtranspose\u001b[0m\u001b[0;34m(\u001b[0m\u001b[0mQ\u001b[0m\u001b[0;34m[\u001b[0m\u001b[0me\u001b[0m\u001b[0;34m[\u001b[0m\u001b[0;36m1\u001b[0m\u001b[0;34m]\u001b[0m\u001b[0;34m]\u001b[0m\u001b[0;34m)\u001b[0m \u001b[0;34m@\u001b[0m \u001b[0mV\u001b[0m\u001b[0;34m.\u001b[0m\u001b[0mmatrices\u001b[0m\u001b[0;34m[\u001b[0m\u001b[0me\u001b[0m\u001b[0;34m]\u001b[0m \u001b[0;34m@\u001b[0m \u001b[0mQ\u001b[0m\u001b[0;34m[\u001b[0m\u001b[0me\u001b[0m\u001b[0;34m[\u001b[0m\u001b[0;36m0\u001b[0m\u001b[0;34m]\u001b[0m\u001b[0;34m]\u001b[0m\u001b[0;34m\u001b[0m\u001b[0;34m\u001b[0m\u001b[0m\n\u001b[0m\u001b[1;32m    140\u001b[0m \u001b[0;34m\u001b[0m\u001b[0m\n\u001b[1;32m    141\u001b[0m         \u001b[0mQ_inv_W\u001b[0m \u001b[0;34m=\u001b[0m \u001b[0mquiver_rep\u001b[0m\u001b[0;34m(\u001b[0m\u001b[0mself\u001b[0m\u001b[0;34m.\u001b[0m\u001b[0mquiver\u001b[0m\u001b[0;34m,\u001b[0m \u001b[0mself\u001b[0m\u001b[0;34m.\u001b[0m\u001b[0mdims\u001b[0m\u001b[0;34m,\u001b[0m \u001b[0mtransformed_mat_dict\u001b[0m\u001b[0;34m)\u001b[0m\u001b[0;34m\u001b[0m\u001b[0;34m\u001b[0m\u001b[0m\n",
      "\u001b[0;31mValueError\u001b[0m: matmul: Input operand 1 has a mismatch in its core dimension 0, with gufunc signature (n?,k),(k,m?)->(n?,m?) (size 4 is different from 8)"
     ]
    }
   ],
   "source": [
    "quiverNN.transformed_network()"
   ]
  },
  {
   "cell_type": "markdown",
   "metadata": {},
   "source": [
    "# Scraps"
   ]
  },
  {
   "cell_type": "code",
   "execution_count": null,
   "metadata": {
    "ExecuteTime": {
     "end_time": "2022-02-18T19:15:45.683291Z",
     "start_time": "2022-02-18T19:15:44.729Z"
    }
   },
   "outputs": [],
   "source": [
    "class vertex:\n",
    "    def __init__(self):\n",
    "        None"
   ]
  },
  {
   "cell_type": "code",
   "execution_count": null,
   "metadata": {
    "ExecuteTime": {
     "end_time": "2022-02-18T19:15:45.683918Z",
     "start_time": "2022-02-18T19:15:44.730Z"
    }
   },
   "outputs": [],
   "source": [
    "a = vertex()"
   ]
  },
  {
   "cell_type": "code",
   "execution_count": null,
   "metadata": {},
   "outputs": [],
   "source": []
  },
  {
   "cell_type": "code",
   "execution_count": null,
   "metadata": {},
   "outputs": [],
   "source": []
  },
  {
   "cell_type": "code",
   "execution_count": null,
   "metadata": {
    "ExecuteTime": {
     "end_time": "2022-02-18T19:15:45.684576Z",
     "start_time": "2022-02-18T19:15:44.734Z"
    }
   },
   "outputs": [],
   "source": [
    "# Troubleshooting\n",
    "\n",
    "W1 = np.random.rand(4, 2)\n",
    "print(type(W1))\n",
    "print(isinstance(W1, np.ndarray))"
   ]
  },
  {
   "cell_type": "code",
   "execution_count": null,
   "metadata": {},
   "outputs": [],
   "source": []
  },
  {
   "cell_type": "code",
   "execution_count": null,
   "metadata": {},
   "outputs": [],
   "source": []
  },
  {
   "cell_type": "code",
   "execution_count": null,
   "metadata": {
    "ExecuteTime": {
     "end_time": "2022-02-18T19:15:45.685171Z",
     "start_time": "2022-02-18T19:15:44.737Z"
    }
   },
   "outputs": [],
   "source": [
    "a = np.random.rand(4,2)\n",
    "b = np.random.rand(4,4)\n",
    "a, b"
   ]
  },
  {
   "cell_type": "code",
   "execution_count": null,
   "metadata": {
    "ExecuteTime": {
     "end_time": "2022-02-18T19:15:45.685709Z",
     "start_time": "2022-02-18T19:15:44.737Z"
    }
   },
   "outputs": [],
   "source": [
    "c = np.hstack((a,b))\n",
    "np.shape(c)"
   ]
  },
  {
   "cell_type": "code",
   "execution_count": null,
   "metadata": {
    "ExecuteTime": {
     "end_time": "2022-02-18T19:15:45.686275Z",
     "start_time": "2022-02-18T19:15:44.739Z"
    }
   },
   "outputs": [],
   "source": [
    "b"
   ]
  },
  {
   "cell_type": "code",
   "execution_count": null,
   "metadata": {
    "ExecuteTime": {
     "end_time": "2022-02-18T19:15:45.686990Z",
     "start_time": "2022-02-18T19:15:44.740Z"
    },
    "scrolled": true
   },
   "outputs": [],
   "source": [
    "b[:,:2]"
   ]
  },
  {
   "cell_type": "code",
   "execution_count": null,
   "metadata": {
    "ExecuteTime": {
     "end_time": "2022-02-18T19:15:45.687633Z",
     "start_time": "2022-02-18T19:15:44.741Z"
    }
   },
   "outputs": [],
   "source": [
    "b[:,2:]"
   ]
  },
  {
   "cell_type": "code",
   "execution_count": null,
   "metadata": {
    "ExecuteTime": {
     "end_time": "2022-02-18T19:15:45.688326Z",
     "start_time": "2022-02-18T19:15:44.743Z"
    }
   },
   "outputs": [],
   "source": [
    "np.shape(b[:,:2])"
   ]
  },
  {
   "cell_type": "code",
   "execution_count": null,
   "metadata": {
    "ExecuteTime": {
     "end_time": "2022-02-18T19:15:45.689007Z",
     "start_time": "2022-02-18T19:15:44.744Z"
    }
   },
   "outputs": [],
   "source": [
    "np.shape(np.array([]))"
   ]
  }
 ],
 "metadata": {
  "kernelspec": {
   "display_name": "tf-gpu",
   "language": "python",
   "name": "tf-gpu"
  },
  "language_info": {
   "codemirror_mode": {
    "name": "ipython",
    "version": 3
   },
   "file_extension": ".py",
   "mimetype": "text/x-python",
   "name": "python",
   "nbconvert_exporter": "python",
   "pygments_lexer": "ipython3",
   "version": "3.7.7"
  }
 },
 "nbformat": 4,
 "nbformat_minor": 5
}
