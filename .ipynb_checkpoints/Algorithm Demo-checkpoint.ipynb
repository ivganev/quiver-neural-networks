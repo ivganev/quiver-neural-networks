{
 "cells": [
  {
   "cell_type": "code",
   "execution_count": 1,
   "id": "composite-consultancy",
   "metadata": {},
   "outputs": [],
   "source": [
    "import numpy as np"
   ]
  },
  {
   "cell_type": "code",
   "execution_count": 2,
   "id": "instant-leather",
   "metadata": {},
   "outputs": [],
   "source": [
    "def extend_matrix(q):\n",
    "    num_rows, num_cols = q.shape\n",
    "    assert num_rows == num_cols, \"Matrix must be square\"\n",
    "    q_ext = np.eye(num_rows + 1)\n",
    "    q_ext[1:, 1:] = q\n",
    "    return q_ext"
   ]
  },
  {
   "cell_type": "code",
   "execution_count": 3,
   "id": "light-dairy",
   "metadata": {},
   "outputs": [],
   "source": [
    "class representation:\n",
    "    def __init__(self,W):\n",
    "        self.W = W\n",
    "        self.n = [W[0].shape[1]-1] + [w.shape[0] for w in W]\n",
    "        self.L = len(self.n)-1\n",
    "        \n",
    "    def QRDecomposition(self):\n",
    "        n = self.n   \n",
    "        Q = []\n",
    "        R = []\n",
    "        U = [np.zeros((n[1],n[0]+1))]\n",
    "        W_current = self.W[0]\n",
    "        \n",
    "        for s in range(self.L-1):\n",
    "            Q_cur,R_cur = np.linalg.qr(W_current, mode=\"complete\")\n",
    "            \n",
    "            Q.append(Q_cur)\n",
    "            R.append(R_cur[:n[0]+s+1])\n",
    "\n",
    "            Q_ext = extend_matrix(Q_cur)\n",
    "            Q_ext_t = extend_matrix(np.transpose(Q_cur))\n",
    "\n",
    "            QP = np.copy(Q_ext)\n",
    "            QP[:,:n[0]+s+2] = np.zeros((n[s+1]+1,n[0]+s+2))\n",
    "            U.append(self.W[s+1] @ QP @ Q_ext_t)\n",
    "\n",
    "            W_current = (self.W[s+1] @ Q_ext)[:,:n[0]+s+2]\n",
    "\n",
    "        R.append(W_current)\n",
    "        \n",
    "        self.Q = Q\n",
    "        self.R = R\n",
    "        self.U = U\n",
    "        \n",
    "        return (Q,R,U)\n",
    "    \n",
    "    def printShapes(self):\n",
    "        print(\"Q    shapes:\",[q.shape for q in self.Q])\n",
    "        print(\"R    shapes:\",[r.shape for r in self.R])\n",
    "        print(\"U    shapes:\",[u.shape for u in self.U])\n",
    "        return"
   ]
  },
  {
   "cell_type": "code",
   "execution_count": 4,
   "id": "abroad-meditation",
   "metadata": {},
   "outputs": [],
   "source": [
    "def testRepresentation(verbose=False):\n",
    "    n = [3, 5, 8, 8, 2]\n",
    "    L = len(n)-1\n",
    "    W = [np.random.rand(n[i+1],n[i]+1) for i in range(L)]\n",
    "    rep = representation(W)\n",
    "    rep.QRDecomposition()\n",
    "    if verbose:\n",
    "        for i,w in enumerate(W):\n",
    "            print(\"W[\" + str(i) + \"] has shape: \" + str(w.shape))\n",
    "        rep.printShapes()\n",
    "    return rep"
   ]
  },
  {
   "cell_type": "code",
   "execution_count": 6,
   "id": "harmful-gothic",
   "metadata": {},
   "outputs": [
    {
     "name": "stdout",
     "output_type": "stream",
     "text": [
      "W[0] has shape: (5, 4)\n",
      "W[1] has shape: (8, 6)\n",
      "W[2] has shape: (8, 9)\n",
      "W[3] has shape: (2, 9)\n",
      "Q    shapes: [(5, 5), (8, 8), (8, 8)]\n",
      "R    shapes: [(4, 4), (5, 5), (6, 6), (2, 7)]\n",
      "U    shapes: [(5, 4), (8, 6), (8, 9), (2, 9)]\n"
     ]
    }
   ],
   "source": [
    "demo = testRepresentation(verbose=True)"
   ]
  },
  {
   "cell_type": "code",
   "execution_count": 7,
   "id": "brave-influence",
   "metadata": {},
   "outputs": [
    {
     "name": "stdout",
     "output_type": "stream",
     "text": [
      "[[-0.32  -0.176 -0.167  0.909 -0.112]\n",
      " [-0.472 -0.297 -0.12  -0.338 -0.749]\n",
      " [-0.534 -0.481 -0.124 -0.223  0.647]\n",
      " [-0.087  0.45  -0.881 -0.097  0.061]\n",
      " [-0.619  0.668  0.408 -0.006  0.062]] (5, 5)\n",
      " \n",
      "[[-0.393  0.078  0.384  0.185 -0.488 -0.179 -0.365 -0.505]\n",
      " [-0.226 -0.669 -0.063 -0.38   0.246  0.015 -0.54   0.032]\n",
      " [-0.431  0.067 -0.403 -0.111  0.076 -0.757  0.236  0.024]\n",
      " [-0.381  0.107 -0.024 -0.372  0.271  0.427  0.395 -0.541]\n",
      " [-0.01  -0.47  -0.071 -0.226 -0.707  0.106  0.443  0.124]\n",
      " [-0.391 -0.012 -0.601  0.522 -0.107  0.411 -0.15   0.103]\n",
      " [-0.208 -0.465  0.423  0.548  0.331 -0.074  0.381  0.043]\n",
      " [-0.517  0.303  0.376 -0.219 -0.038  0.163 -0.023  0.651]] (8, 8)\n",
      " \n",
      "[[-0.163  0.246 -0.168  0.145  0.67   0.064  0.395 -0.505]\n",
      " [-0.553 -0.491  0.277  0.16  -0.13  -0.043  0.556  0.15 ]\n",
      " [-0.156  0.416 -0.553 -0.127 -0.095  0.129  0.359  0.571]\n",
      " [-0.519 -0.138 -0.434 -0.46  -0.226 -0.188 -0.248 -0.404]\n",
      " [-0.366 -0.013 -0.238  0.72  -0.001  0.269 -0.462  0.069]\n",
      " [-0.333  0.266  0.272 -0.045  0.38  -0.636 -0.272  0.346]\n",
      " [-0.136  0.626  0.291  0.218 -0.558 -0.133  0.155 -0.322]\n",
      " [-0.332  0.208  0.43  -0.396  0.133  0.67  -0.182  0.071]] (8, 8)\n",
      " \n"
     ]
    }
   ],
   "source": [
    "for q in demo.Q:\n",
    "    print(np.round(q,3), q.shape, end=\"\\n \\n\")"
   ]
  },
  {
   "cell_type": "code",
   "execution_count": 8,
   "id": "german-white",
   "metadata": {},
   "outputs": [
    {
     "name": "stdout",
     "output_type": "stream",
     "text": [
      "[[-1.441 -0.734 -0.3   -0.826]\n",
      " [ 0.     0.388  0.34   0.212]\n",
      " [ 0.     0.    -0.829 -0.608]\n",
      " [ 0.     0.     0.     0.55 ]] (4, 4)\n",
      " \n",
      "[[-1.847  2.503 -0.752  2.058 -0.622]\n",
      " [ 0.     1.462 -0.301  0.479 -0.118]\n",
      " [ 0.     0.     0.68   0.305 -0.28 ]\n",
      " [ 0.     0.     0.    -0.272 -0.263]\n",
      " [ 0.     0.     0.     0.    -0.732]] (5, 5)\n",
      " \n",
      "[[-1.13   3.446  1.511  0.02   0.489  0.364]\n",
      " [ 0.    -2.016 -0.613 -0.357 -0.094  0.163]\n",
      " [ 0.     0.     0.908  0.254  0.089  0.136]\n",
      " [ 0.     0.     0.     0.384 -0.296  0.272]\n",
      " [ 0.     0.     0.     0.    -0.292  0.425]\n",
      " [ 0.     0.     0.     0.     0.     0.414]] (6, 6)\n",
      " \n",
      "[[ 0.515 -1.631  0.412 -0.179  0.603  0.181 -0.198]\n",
      " [ 0.491 -1.578  0.882 -0.054  0.298 -0.187  0.565]] (2, 7)\n",
      " \n"
     ]
    }
   ],
   "source": [
    "for r in demo.R:\n",
    "    print(np.round(r,3), r.shape, end=\"\\n \\n\")"
   ]
  },
  {
   "cell_type": "code",
   "execution_count": null,
   "id": "tutorial-hawaii",
   "metadata": {},
   "outputs": [],
   "source": []
  },
  {
   "cell_type": "code",
   "execution_count": null,
   "id": "rising-aviation",
   "metadata": {},
   "outputs": [],
   "source": []
  }
 ],
 "metadata": {
  "kernelspec": {
   "display_name": "Python 3",
   "language": "python",
   "name": "python3"
  },
  "language_info": {
   "codemirror_mode": {
    "name": "ipython",
    "version": 3
   },
   "file_extension": ".py",
   "mimetype": "text/x-python",
   "name": "python",
   "nbconvert_exporter": "python",
   "pygments_lexer": "ipython3",
   "version": "3.8.2"
  }
 },
 "nbformat": 4,
 "nbformat_minor": 5
}
