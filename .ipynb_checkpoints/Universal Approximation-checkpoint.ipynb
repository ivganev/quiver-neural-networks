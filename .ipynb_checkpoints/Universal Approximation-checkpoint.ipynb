{
 "cells": [
  {
   "cell_type": "code",
   "execution_count": 1,
   "id": "sporting-couple",
   "metadata": {},
   "outputs": [],
   "source": [
    "import numpy as np"
   ]
  },
  {
   "cell_type": "code",
   "execution_count": 2,
   "id": "appropriate-david",
   "metadata": {},
   "outputs": [],
   "source": [
    "def sigma(z : float) -> float:\n",
    "    return 1/(1 + np.exp(-z))"
   ]
  },
  {
   "cell_type": "code",
   "execution_count": 47,
   "id": "brutal-blocking",
   "metadata": {},
   "outputs": [],
   "source": [
    "def lin_ind(v, mu1, mu2):\n",
    "    v = np.array(v)\n",
    "    M = np.array([v, mu1*v, mu2*v])\n",
    "    print(sigma(M))\n",
    "    return np.linalg.det(sigma(M))"
   ]
  },
  {
   "cell_type": "code",
   "execution_count": 48,
   "id": "everyday-funds",
   "metadata": {},
   "outputs": [
    {
     "name": "stdout",
     "output_type": "stream",
     "text": [
      "[[0.73105858 0.88079708 0.95257413]\n",
      " [0.88079708 0.98201379 0.99752738]\n",
      " [0.26894142 0.11920292 0.04742587]]\n"
     ]
    },
    {
     "data": {
      "text/plain": [
       "-0.004942055677665225"
      ]
     },
     "execution_count": 48,
     "metadata": {},
     "output_type": "execute_result"
    }
   ],
   "source": [
    "lin_ind([1, 2, 3], 2, -1)"
   ]
  },
  {
   "cell_type": "code",
   "execution_count": 49,
   "id": "athletic-agency",
   "metadata": {},
   "outputs": [
    {
     "name": "stdout",
     "output_type": "stream",
     "text": [
      "[[0.73105858 0.88079708 0.26894142]\n",
      " [0.88079708 0.98201379 0.11920292]\n",
      " [0.26894142 0.11920292 0.73105858]]\n"
     ]
    },
    {
     "data": {
      "text/plain": [
       "-0.06726598678054531"
      ]
     },
     "execution_count": 49,
     "metadata": {},
     "output_type": "execute_result"
    }
   ],
   "source": [
    "lin_ind([1, 2, -1], 2, -1)"
   ]
  },
  {
   "cell_type": "code",
   "execution_count": 50,
   "id": "needed-proxy",
   "metadata": {},
   "outputs": [
    {
     "name": "stdout",
     "output_type": "stream",
     "text": [
      "[[0.73105858 0.95257413 0.11920292]\n",
      " [0.88079708 0.99752738 0.01798621]\n",
      " [0.26894142 0.04742587 0.88079708]]\n"
     ]
    },
    {
     "data": {
      "text/plain": [
       "-0.1197039287565279"
      ]
     },
     "execution_count": 50,
     "metadata": {},
     "output_type": "execute_result"
    }
   ],
   "source": [
    "lin_ind([1, 3, -2], 2, -1)"
   ]
  },
  {
   "cell_type": "code",
   "execution_count": null,
   "id": "understanding-colorado",
   "metadata": {},
   "outputs": [],
   "source": []
  },
  {
   "cell_type": "code",
   "execution_count": null,
   "id": "healthy-clinic",
   "metadata": {},
   "outputs": [],
   "source": []
  },
  {
   "cell_type": "code",
   "execution_count": null,
   "id": "accredited-spread",
   "metadata": {},
   "outputs": [],
   "source": []
  },
  {
   "cell_type": "code",
   "execution_count": 21,
   "id": "controlling-passport",
   "metadata": {},
   "outputs": [
    {
     "data": {
      "text/plain": [
       "[1, 2, 3, 1, 2, 3]"
      ]
     },
     "execution_count": 21,
     "metadata": {},
     "output_type": "execute_result"
    }
   ],
   "source": [
    "2*[1,2,3]"
   ]
  },
  {
   "cell_type": "code",
   "execution_count": null,
   "id": "prescribed-differential",
   "metadata": {},
   "outputs": [],
   "source": [
    "lin_ind([-1, 2, 3], [2, 4, 6], [-1, -2, -3])"
   ]
  },
  {
   "cell_type": "code",
   "execution_count": 7,
   "id": "roman-edward",
   "metadata": {},
   "outputs": [
    {
     "data": {
      "text/plain": [
       "array([[ 1,  2,  3],\n",
       "       [ 2,  4,  6],\n",
       "       [-1, -2, -3]])"
      ]
     },
     "execution_count": 7,
     "metadata": {},
     "output_type": "execute_result"
    }
   ],
   "source": [
    "M = np.array([[1, 2, 3], [2, 4, 6], [-1, -2, -3]])\n",
    "M"
   ]
  },
  {
   "cell_type": "code",
   "execution_count": 8,
   "id": "former-copyright",
   "metadata": {},
   "outputs": [
    {
     "data": {
      "text/plain": [
       "array([[0.73105858, 0.88079708, 0.95257413],\n",
       "       [0.88079708, 0.98201379, 0.99752738],\n",
       "       [0.26894142, 0.11920292, 0.04742587]])"
      ]
     },
     "execution_count": 8,
     "metadata": {},
     "output_type": "execute_result"
    }
   ],
   "source": [
    "sigma(M)"
   ]
  },
  {
   "cell_type": "code",
   "execution_count": 14,
   "id": "color-month",
   "metadata": {},
   "outputs": [
    {
     "data": {
      "text/plain": [
       "-0.004942055677665225"
      ]
     },
     "execution_count": 14,
     "metadata": {},
     "output_type": "execute_result"
    }
   ],
   "source": [
    "np.linalg.det(sigma(M))"
   ]
  },
  {
   "cell_type": "code",
   "execution_count": 15,
   "id": "fourth-intent",
   "metadata": {},
   "outputs": [
    {
     "data": {
      "text/plain": [
       "-0.005159827183782132"
      ]
     },
     "execution_count": 15,
     "metadata": {},
     "output_type": "execute_result"
    }
   ],
   "source": [
    "np.linalg.det(sigma(0.5*M))"
   ]
  },
  {
   "cell_type": "code",
   "execution_count": null,
   "id": "grateful-celebrity",
   "metadata": {},
   "outputs": [],
   "source": []
  },
  {
   "cell_type": "code",
   "execution_count": null,
   "id": "floppy-throw",
   "metadata": {},
   "outputs": [],
   "source": []
  }
 ],
 "metadata": {
  "kernelspec": {
   "display_name": "Python 3",
   "language": "python",
   "name": "python3"
  },
  "language_info": {
   "codemirror_mode": {
    "name": "ipython",
    "version": 3
   },
   "file_extension": ".py",
   "mimetype": "text/x-python",
   "name": "python",
   "nbconvert_exporter": "python",
   "pygments_lexer": "ipython3",
   "version": "3.8.2"
  }
 },
 "nbformat": 4,
 "nbformat_minor": 5
}
