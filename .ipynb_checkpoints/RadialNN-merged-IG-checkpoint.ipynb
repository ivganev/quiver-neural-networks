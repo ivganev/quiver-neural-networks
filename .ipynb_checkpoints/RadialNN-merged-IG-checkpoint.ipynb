{
 "cells": [
  {
   "cell_type": "code",
   "execution_count": 1,
   "metadata": {
    "ExecuteTime": {
     "end_time": "2021-03-31T15:38:03.247703Z",
     "start_time": "2021-03-31T15:38:03.237163Z"
    }
   },
   "outputs": [
    {
     "name": "stdout",
     "output_type": "stream",
     "text": [
      "Running on: cpu\n"
     ]
    }
   ],
   "source": [
    "import numpy as np\n",
    "import torch\n",
    "import math\n",
    "import torch.nn as nn\n",
    "import torch.optim as optim\n",
    "import matplotlib.pyplot as plt\n",
    "import torch.nn.functional as F\n",
    "from torchvision import datasets\n",
    "import torchvision.transforms as transforms\n",
    "%matplotlib inline\n",
    "dev = 'cpu'\n",
    "if torch.cuda.is_available():\n",
    "    dev = 'cuda:0'\n",
    "print(\"Running on:\",dev)\n",
    "device = torch.device(dev)"
   ]
  },
  {
   "cell_type": "markdown",
   "metadata": {},
   "source": [
    "### Small Dataset"
   ]
  },
  {
   "cell_type": "code",
   "execution_count": 2,
   "metadata": {
    "ExecuteTime": {
     "end_time": "2021-03-31T15:38:04.404984Z",
     "start_time": "2021-03-31T15:38:04.250603Z"
    }
   },
   "outputs": [
    {
     "name": "stdout",
     "output_type": "stream",
     "text": [
      "torch.Size([121, 1])\n"
     ]
    },
    {
     "data": {
      "text/plain": [
       "[<matplotlib.lines.Line2D at 0x12b506c70>]"
      ]
     },
     "execution_count": 2,
     "metadata": {},
     "output_type": "execute_result"
    },
    {
     "data": {
      "image/png": "[encoded data removed]",
      "text/plain": [
       "<Figure size 432x288 with 1 Axes>"
      ]
     },
     "metadata": {
      "needs_background": "light"
     },
     "output_type": "display_data"
    }
   ],
   "source": [
    "x_small = torch.tensor([-3.0 + i/20 for i in range(121)]).unsqueeze(1)\n",
    "print(x_small.shape)\n",
    "y_small = torch.zeros(x_small.shape)\n",
    "for i in range(x_small.shape[0]):\n",
    "    if x_small[i]<-0.5:\n",
    "        value = torch.exp(-(x_small[i]+0.5)**2)\n",
    "    elif x_small[i] >0.5:\n",
    "        value = torch.exp(-(x_small[i]-0.5)**2)\n",
    "    else:\n",
    "        value = 1.0\n",
    "    y_small[i] = value\n",
    "plt.plot(x_small,y_small)"
   ]
  },
  {
   "cell_type": "markdown",
   "metadata": {},
   "source": [
    "### Radial Activation Function"
   ]
  },
  {
   "cell_type": "code",
   "execution_count": 3,
   "metadata": {
    "ExecuteTime": {
     "end_time": "2021-03-31T15:38:05.725266Z",
     "start_time": "2021-03-31T15:38:05.718146Z"
    }
   },
   "outputs": [],
   "source": [
    "'''\n",
    "Possible etas:\n",
    "    F.relu\n",
    "    torch.exp\n",
    "    torch.sigmoid\n",
    "    lambda x : x**k\n",
    "    torch.atan\n",
    "    lambda x : x**2/(1+x**2)\n",
    "'''\n",
    "class RadAct(nn.Module):\n",
    "    def __init__(self, eta = F.relu, has_bias=True, epsilon = 1e-6):\n",
    "        super().__init__()\n",
    "        self.has_bias = has_bias\n",
    "        self.epsilon = epsilon\n",
    "        if self.has_bias:\n",
    "            bias = -1*torch.rand(1)\n",
    "            self.bias = torch.nn.parameter.Parameter(bias)\n",
    "        else:\n",
    "            self.bias = 0\n",
    "        self.eta = eta\n",
    "        \n",
    "    def forward(self,x):\n",
    "        # x: [Batch x Channel]\n",
    "        r = torch.linalg.norm(x, dim=-1) + self.epsilon\n",
    "        scalar = self.eta(r + self.bias) / r\n",
    "        return x * scalar.unsqueeze(-1)     "
   ]
  },
  {
   "cell_type": "code",
   "execution_count": 4,
   "metadata": {
    "ExecuteTime": {
     "end_time": "2021-03-31T16:00:04.548798Z",
     "start_time": "2021-03-31T16:00:04.541610Z"
    }
   },
   "outputs": [],
   "source": [
    "class RadNet(nn.Module):\n",
    "    \n",
    "    def __init__(self, eta, depth=None, has_bias=True, W=None):\n",
    "        # Two cases: (1) weights are initialized randomly, and (2) weights are provided\n",
    "        # Idea: make random initialization the default, and overwrite when we need to provide weights\n",
    "        # Idea: make the dimension vector a paramter dims. If depth is specified, check that len(dims)+1=depth\n",
    "        \n",
    "        super(RadNet, self).__init__()\n",
    "        self.eta = eta\n",
    "        if W:\n",
    "            # Here W is a list. Maybe we want it to be a representation object?\n",
    "            self.depth = len(W)\n",
    "            self.dims = [W[0].shape[1]-1] + [w.shape[0] for w in W]\n",
    "            self.hidden_layers = nn.ModuleList([nn.Linear(self.dims[i], self.dims[i+1]) for i in range(len(self.dims)-2)])\n",
    "            self.output_layer = nn.Linear(self.dims[-2],self.dims[-1])\n",
    "            with torch.no_grad():\n",
    "                for hl,w in zip(self.hidden_layers, W[:-1]):\n",
    "                    hl.weight = torch.nn.parameter.Parameter(torch.tensor(w[:,1:]))\n",
    "                    hl.bias = torch.nn.parameter.Parameter(torch.tensor(w[:,0]))\n",
    "                self.output_layer.weight = torch.nn.parameter.Parameter(torch.tensor(W[-1][:,1:]))\n",
    "                self.output_layer.bias = torch.nn.parameter.Parameter(torch.tensor(W[-1][:,0]))\n",
    "        else:\n",
    "            self.depth = depth\n",
    "            self.hidden_layers = nn.ModuleList([nn.Linear(d, d+1) for d in range(1,self.depth)])\n",
    "            self.output_layer = nn.Linear(self.depth,1)\n",
    "        self.act_fn =nn.ModuleList([RadAct(self.eta, has_bias=has_bias) for d in range(1,self.depth)])\n",
    "        \n",
    "    def forward(self, x):\n",
    "        h = x\n",
    "        for lin,act in zip(self.hidden_layers, self.act_fn):\n",
    "            h = act(lin(h))\n",
    "        return self.output_layer(h)\n",
    "    \n",
    "    def export_W(self):\n",
    "        W = []\n",
    "        for hl in self.hidden_layers:\n",
    "            A = hl.weight.detach().cpu().numpy()\n",
    "            b = hl.bias.detach().cpu().numpy()\n",
    "            W.append(np.concatenate((np.expand_dims(b, 1), A), axis =1))\n",
    "        A = self.output_layer.weight.detach().cpu().numpy()\n",
    "        b = self.output_layer.bias.detach().cpu().numpy()\n",
    "        W.append(np.concatenate((np.expand_dims(b, 1), A), axis =1))\n",
    "        return W\n",
    "        # We may want to return a representation object"
   ]
  },
  {
   "cell_type": "code",
   "execution_count": 5,
   "metadata": {},
   "outputs": [],
   "source": [
    "class RadNet_Specified_Dims(nn.Module):\n",
    "    \n",
    "    def __init__(self, eta, dims=[1,2,3,4,1], has_bias=True):\n",
    "        # Two cases: (1) weights are initialized randomly, and (2) weights are provided\n",
    "        # Idea: make random initialization the default, and overwrite when we need to provide weights\n",
    "        # Idea: make the dimension vector a paramter dims. If depth is specified, check that len(dims)+1=depth\n",
    "        \n",
    "        super().__init__()\n",
    "        self.eta = eta\n",
    "        self.dims = dims\n",
    "        self.depth = len(self.dims)\n",
    "        self.hidden_layers = nn.ModuleList([nn.Linear(self.dims[i], self.dims[i+1]) for i in range(len(self.dims)-2)])\n",
    "        self.output_layer = nn.Linear(self.dims[-2],self.dims[-1])\n",
    "        self.act_fn =nn.ModuleList([RadAct(self.eta, has_bias=has_bias) for d in range(1,self.depth)])\n",
    "        \n",
    "    def forward(self, x):\n",
    "        h = x\n",
    "        for lin,act in zip(self.hidden_layers, self.act_fn):\n",
    "            h = act(lin(h))\n",
    "        return self.output_layer(h)\n",
    "    \n",
    "    def export_W(self):\n",
    "        W = []\n",
    "        for hl in self.hidden_layers:\n",
    "            A = hl.weight.detach().cpu().numpy()\n",
    "            b = hl.bias.detach().cpu().numpy()\n",
    "            W.append(np.concatenate((np.expand_dims(b, 1), A), axis =1))\n",
    "        A = self.output_layer.weight.detach().cpu().numpy()\n",
    "        b = self.output_layer.bias.detach().cpu().numpy()\n",
    "        W.append(np.concatenate((np.expand_dims(b, 1), A), axis =1))\n",
    "        return W\n",
    "        # We may want to return a representation object"
   ]
  },
  {
   "cell_type": "markdown",
   "metadata": {},
   "source": [
    "### Example / Check"
   ]
  },
  {
   "cell_type": "code",
   "execution_count": 6,
   "metadata": {},
   "outputs": [
    {
     "data": {
      "text/plain": [
       "[array([[-0.65589166,  0.4589436 ],\n",
       "        [ 0.41633034, -0.8082851 ]], dtype=float32),\n",
       " array([[-0.4453472 , -0.49520504,  0.6059392 ],\n",
       "        [ 0.1864779 , -0.12630701,  0.32240468],\n",
       "        [-0.19477421, -0.5327762 ,  0.5488419 ]], dtype=float32),\n",
       " array([[-0.10179099, -0.1185196 ,  0.38230616, -0.4263848 ]],\n",
       "       dtype=float32)]"
      ]
     },
     "execution_count": 6,
     "metadata": {},
     "output_type": "execute_result"
    }
   ],
   "source": [
    "radnet = RadNet(depth=3,eta =torch.atan)\n",
    "original_parameters = radnet.export_W()\n",
    "original_parameters"
   ]
  },
  {
   "cell_type": "code",
   "execution_count": 7,
   "metadata": {},
   "outputs": [
    {
     "data": {
      "text/plain": [
       "(Parameter containing:\n",
       " tensor([[ 0.4589],\n",
       "         [-0.8083]], requires_grad=True),\n",
       " Parameter containing:\n",
       " tensor([-0.6559,  0.4163], requires_grad=True),\n",
       " Parameter containing:\n",
       " tensor([[-0.4952,  0.6059],\n",
       "         [-0.1263,  0.3224],\n",
       "         [-0.5328,  0.5488]], requires_grad=True),\n",
       " Parameter containing:\n",
       " tensor([-0.4453,  0.1865, -0.1948], requires_grad=True),\n",
       " Parameter containing:\n",
       " tensor([[-0.1185,  0.3823, -0.4264]], requires_grad=True),\n",
       " Parameter containing:\n",
       " tensor([-0.1018], requires_grad=True))"
      ]
     },
     "execution_count": 7,
     "metadata": {},
     "output_type": "execute_result"
    }
   ],
   "source": [
    "## Check\n",
    "radnet.hidden_layers[0].weight, radnet.hidden_layers[0].bias, \\\n",
    "radnet.hidden_layers[1].weight, radnet.hidden_layers[1].bias, \\\n",
    "radnet.output_layer.weight, radnet.output_layer.bias"
   ]
  },
  {
   "cell_type": "code",
   "execution_count": 8,
   "metadata": {},
   "outputs": [],
   "source": [
    "# radnet = RadNet(eta =F.relu, depth =3)\n",
    "# radnet2 = RadNet(eta=F.relu, W=radnet.export_W())\n",
    "# radnet2.export_W(), radnet2.hidden_layers"
   ]
  },
  {
   "cell_type": "code",
   "execution_count": 9,
   "metadata": {},
   "outputs": [
    {
     "data": {
      "text/plain": [
       "torch.float32"
      ]
     },
     "execution_count": 9,
     "metadata": {},
     "output_type": "execute_result"
    }
   ],
   "source": [
    "radnet.hidden_layers[0].weight.dtype"
   ]
  },
  {
   "cell_type": "code",
   "execution_count": 10,
   "metadata": {},
   "outputs": [
    {
     "data": {
      "text/plain": [
       "array([[0.02032127, 0.10562122],\n",
       "       [0.44497613, 0.33221504]])"
      ]
     },
     "execution_count": 10,
     "metadata": {},
     "output_type": "execute_result"
    }
   ],
   "source": [
    "n = [1, 2, 1]\n",
    "L = len(n)-1\n",
    "W = [np.random.rand(n[i+1],n[i]+1) for i in range(L)]\n",
    "W[0]"
   ]
  },
  {
   "cell_type": "code",
   "execution_count": 11,
   "metadata": {},
   "outputs": [
    {
     "data": {
      "text/plain": [
       "(Parameter containing:\n",
       " tensor([[0.1056],\n",
       "         [0.3322]], requires_grad=True),\n",
       " Parameter containing:\n",
       " tensor([-0.6559,  0.4163], requires_grad=True))"
      ]
     },
     "execution_count": 11,
     "metadata": {},
     "output_type": "execute_result"
    }
   ],
   "source": [
    "radnet.hidden_layers[0].weight = torch.nn.parameter.Parameter(torch.tensor(W[0][:,1], dtype=torch.float32).reshape(2,1))\n",
    "radnet.hidden_layers[0].weight, radnet.hidden_layers[0].bias"
   ]
  },
  {
   "cell_type": "markdown",
   "metadata": {},
   "source": [
    "### Representation class"
   ]
  },
  {
   "cell_type": "code",
   "execution_count": 12,
   "metadata": {},
   "outputs": [],
   "source": [
    "def extend_matrix(q):\n",
    "    num_rows, num_cols = q.shape\n",
    "    assert q.shape[0] == q.shape[1], \"Matrix must be square\"\n",
    "    q_ext = np.eye(num_rows + 1)\n",
    "    q_ext[1:, 1:] = q\n",
    "    return q_ext\n",
    "\n",
    "def padzeros(self,M,newrows,newcols = None):\n",
    "    oldrows, oldcols = M.shape\n",
    "    if newcols == None:\n",
    "        newcols = oldcols\n",
    "    return np.pad(M,((0,newrows-oldrows),(0,newcols-oldcols)),mode=\"constant\")"
   ]
  },
  {
   "cell_type": "code",
   "execution_count": 13,
   "metadata": {},
   "outputs": [],
   "source": [
    "class representation:\n",
    "    def __init__(self,W):\n",
    "        self.W = W\n",
    "        self.n = [W[0].shape[1]-1] + [w.shape[0] for w in W]\n",
    "        self.L = len(self.n)-1\n",
    "        self.decomposed = False\n",
    "        \n",
    "    def QRDecomposition(self):\n",
    "        n = self.n\n",
    "        \n",
    "        Q = []\n",
    "        R = []\n",
    "        U = [np.zeros((n[1],n[0]+1))]\n",
    "        W_current = self.W[0]\n",
    "        \n",
    "        for s in range(self.L-1):\n",
    "            Q_cur,R_cur = np.linalg.qr(W_current, mode=\"complete\")\n",
    "            Q.append(Q_cur)\n",
    "            R.append(R_cur[:n[0]+s+1])\n",
    "\n",
    "            Q_ext = extend_matrix(Q_cur)\n",
    "            Q_ext_t = extend_matrix(np.transpose(Q_cur))\n",
    "\n",
    "            QP = np.copy(Q_ext)\n",
    "            QP[:,:n[0]+s+2] = np.zeros((n[s+1]+1,n[0]+s+2))\n",
    "            U.append(self.W[s+1] @ QP @ Q_ext_t)\n",
    "\n",
    "            W_current = (self.W[s+1] @ Q_ext)[:,:n[0]+s+2]\n",
    "\n",
    "        R.append(W_current)\n",
    "        \n",
    "        self.Q = Q\n",
    "        self.R = R\n",
    "        self.U = U\n",
    "        self.decomposed = True\n",
    "        \n",
    "        return (Q,R,U)\n",
    "\n",
    "    def testDecomp(self):\n",
    "        if not self.decomposed:\n",
    "            self.QRDecomposition()\n",
    "        \n",
    "        #For Formula Readability.  \n",
    "        Q = self.Q\n",
    "        R = self.R\n",
    "        U = self.U\n",
    "        L = self.L \n",
    "        n = self.n\n",
    "                \n",
    "        #Reconstructed W\n",
    "        W_test = ([U[0] + Q[0] @ self.padzeros(R[0],n[1], n[0]+1)] + \n",
    "          [U[s] + Q[s] @ self.padzeros(R[s],n[s+1],n[s]+1) @ extend_matrix(np.transpose(Q[s-1])) for s in range(1,L-1)] + \n",
    "          [U[L-1] + self.padzeros(R[L-1],n[L],n[L-1]+1) @ extend_matrix(np.transpose(Q[L-2]))])\n",
    "        \n",
    "        return (max([np.max(np.abs(w1-w2)) for w1,w2 in zip(self.W,W_test)]) < 1e-10)\n",
    "    \n",
    "    def printShapes(self):\n",
    "        if not self.decomposed:\n",
    "            self.QRDecomposition()\n",
    "        print(\"Q    shapes:\",[q.shape for q in self.Q])\n",
    "        print(\"R    shapes:\",[r.shape for r in self.R])\n",
    "        print(\"U    shapes:\",[u.shape for u in self.U])\n",
    "        return"
   ]
  },
  {
   "cell_type": "code",
   "execution_count": 14,
   "metadata": {},
   "outputs": [
    {
     "name": "stdout",
     "output_type": "stream",
     "text": [
      "[(2, 2), (3, 3), (1, 4)]\n",
      "Q    shapes: [(2, 2), (3, 3)]\n",
      "R    shapes: [(2, 2), (3, 3), (1, 4)]\n",
      "U    shapes: [(2, 2), (3, 3), (1, 4)]\n"
     ]
    }
   ],
   "source": [
    "ex_rep = representation(radnet.export_W())\n",
    "print([w.shape for w in ex_rep.W])\n",
    "ex_rep.printShapes()"
   ]
  },
  {
   "cell_type": "code",
   "execution_count": 15,
   "metadata": {},
   "outputs": [
    {
     "data": {
      "text/plain": [
       "([array([[-0.65589166,  0.10562122],\n",
       "         [ 0.41633034,  0.33221504]], dtype=float32),\n",
       "  array([[-0.4453472 , -0.49520504,  0.6059392 ],\n",
       "         [ 0.1864779 , -0.12630701,  0.32240468],\n",
       "         [-0.19477421, -0.5327762 ,  0.5488419 ]], dtype=float32),\n",
       "  array([[-0.10179099, -0.1185196 ,  0.38230616, -0.4263848 ]],\n",
       "        dtype=float32)],\n",
       " [array([[0.7768686 , 0.08886332],\n",
       "         [0.        , 0.33708453]], dtype=float32),\n",
       "  array([[ 0.52061994, -0.81365836, -0.20388681],\n",
       "         [ 0.        , -0.72198177, -0.28593661],\n",
       "         [ 0.        ,  0.        , -0.10363038]]),\n",
       "  array([[-0.10179099,  0.39783875, -0.03502164, -0.42720804]])])"
      ]
     },
     "execution_count": 15,
     "metadata": {},
     "output_type": "execute_result"
    }
   ],
   "source": [
    "ex_rep.W, ex_rep.R"
   ]
  },
  {
   "cell_type": "code",
   "execution_count": 16,
   "metadata": {},
   "outputs": [
    {
     "data": {
      "text/plain": [
       "[array([[0.7768686 , 0.08886332],\n",
       "        [0.        , 0.33708453]], dtype=float32),\n",
       " array([[ 0.52061994, -0.81365836, -0.20388681],\n",
       "        [ 0.        , -0.72198177, -0.28593661],\n",
       "        [ 0.        ,  0.        , -0.10363038]]),\n",
       " array([[-0.10179099,  0.39783875, -0.03502164, -0.42720804]])]"
      ]
     },
     "execution_count": 16,
     "metadata": {},
     "output_type": "execute_result"
    }
   ],
   "source": [
    "radnet_red = RadNet(eta =torch.atan, W = ex_rep.R)\n",
    "radnet_red.export_W()"
   ]
  },
  {
   "cell_type": "markdown",
   "metadata": {},
   "source": [
    "### Next steps:\n",
    "1. train 1000 epochs using radnet\n",
    "2. train 1000 epochs using radnet_red\n",
    "3. export the weights from the trained radnet, use them to define a representation\n",
    "4. decompose that representation using testDecomp and compare to parameters in radnet_red"
   ]
  },
  {
   "cell_type": "code",
   "execution_count": null,
   "metadata": {},
   "outputs": [],
   "source": []
  },
  {
   "cell_type": "markdown",
   "metadata": {},
   "source": [
    "### Training"
   ]
  },
  {
   "cell_type": "code",
   "execution_count": 23,
   "metadata": {},
   "outputs": [],
   "source": [
    "radnet = RadNet(depth=2,eta =torch.atan)\n",
    "criterion = nn.CrossEntropyLoss()\n",
    "optimizer = optim.SGD(radnet.parameters(), lr=0.01)"
   ]
  },
  {
   "cell_type": "code",
   "execution_count": 24,
   "metadata": {},
   "outputs": [],
   "source": [
    "def loss_fn(y_predict, y_train):\n",
    "    squared_diffs = (y_predict - y_train)**2\n",
    "    return squared_diffs.mean()"
   ]
  },
  {
   "cell_type": "code",
   "execution_count": 33,
   "metadata": {},
   "outputs": [],
   "source": [
    "def training_loop_no_optim(n_epochs, learning_rate, model, params, x_train, y_train):\n",
    "    for epoch in range(1, n_epochs + 1):\n",
    "        for p in params:\n",
    "            if p.grad is not None:  # <1>\n",
    "                p.grad.zero_()\n",
    "        \n",
    "        y_pred = model(x_train) \n",
    "        loss = loss_fn(y_pred, y_train)\n",
    "        loss.backward()\n",
    "        \n",
    "        with torch.no_grad():  # <2>\n",
    "            for p in params:\n",
    "                p -= learning_rate * p.grad\n",
    "\n",
    "        if epoch % 500 == 0:\n",
    "            print('Epoch %d, Loss %f' % (epoch, float(loss)))\n",
    "            \n",
    "    return model"
   ]
  },
  {
   "cell_type": "code",
   "execution_count": 87,
   "metadata": {},
   "outputs": [
    {
     "name": "stdout",
     "output_type": "stream",
     "text": [
      "Epoch 500, Loss 0.000267\n",
      "Epoch 1000, Loss 0.000267\n",
      "Epoch 1500, Loss 0.000267\n",
      "Epoch 2000, Loss 0.000267\n",
      "Epoch 2500, Loss 0.000267\n",
      "Epoch 3000, Loss 0.000267\n",
      "Epoch 3500, Loss 0.000267\n",
      "Epoch 4000, Loss 0.000267\n",
      "Epoch 4500, Loss 0.000267\n",
      "Epoch 5000, Loss 0.000267\n",
      "Epoch 5500, Loss 0.000267\n",
      "Epoch 6000, Loss 0.000267\n",
      "Epoch 6500, Loss 0.000267\n",
      "Epoch 7000, Loss 0.000267\n",
      "Epoch 7500, Loss 0.000267\n",
      "Epoch 8000, Loss 0.000267\n",
      "Epoch 8500, Loss 0.000267\n",
      "Epoch 9000, Loss 0.000267\n",
      "Epoch 9500, Loss 0.000267\n",
      "Epoch 10000, Loss 0.000267\n"
     ]
    }
   ],
   "source": [
    "model_trained = training_loop_no_optim(\n",
    "    n_epochs = 10000, \n",
    "    learning_rate = 0.5,\n",
    "    model = radnet,\n",
    "    params = list(radnet.parameters()),\n",
    "    x_train = x_small,\n",
    "    y_train = y_small)"
   ]
  },
  {
   "cell_type": "code",
   "execution_count": 88,
   "metadata": {},
   "outputs": [
    {
     "data": {
      "text/plain": [
       "[Parameter containing:\n",
       " tensor([[-0.7501],\n",
       "         [-2.2507]], requires_grad=True),\n",
       " Parameter containing:\n",
       " tensor([-0.5429,  3.6783], requires_grad=True),\n",
       " Parameter containing:\n",
       " tensor([[-0.2118, -0.4111]], requires_grad=True),\n",
       " Parameter containing:\n",
       " tensor([0.5617], requires_grad=True),\n",
       " Parameter containing:\n",
       " tensor([-6.5499], requires_grad=True)]"
      ]
     },
     "execution_count": 88,
     "metadata": {},
     "output_type": "execute_result"
    }
   ],
   "source": [
    "list(radnet.parameters())"
   ]
  },
  {
   "cell_type": "code",
   "execution_count": 89,
   "metadata": {},
   "outputs": [
    {
     "name": "stdout",
     "output_type": "stream",
     "text": [
      "tensor(0.0003, grad_fn=<MeanBackward0>)\n"
     ]
    },
    {
     "data": {
      "text/plain": [
       "1.024416208267212"
      ]
     },
     "execution_count": 89,
     "metadata": {},
     "output_type": "execute_result"
    },
    {
     "data": {
      "image/png": "[encoded data removed]",
      "text/plain": [
       "<Figure size 432x288 with 1 Axes>"
      ]
     },
     "metadata": {
      "needs_background": "light"
     },
     "output_type": "display_data"
    }
   ],
   "source": [
    "y_pred = model_trained(x_small) \n",
    "#x_small, y_small,\n",
    "#print(y_pred)\n",
    "plt.plot(x_small,y_pred.detach().numpy())\n",
    "plt.plot(x_small,y_small)\n",
    "print(loss_fn(y_small, y_pred))\n",
    "model_trained(torch.tensor([[0.0]])).item()"
   ]
  },
  {
   "cell_type": "code",
   "execution_count": 43,
   "metadata": {},
   "outputs": [],
   "source": [
    "def training_loop(n_epochs, optimizer, model, loss_fn, x_train, y_train):\n",
    "    for epoch in range(1, n_epochs + 1):\n",
    "        y_predict = model(x_train) \n",
    "        loss_train = loss_fn(y_predict, y_train)\n",
    "\n",
    "        #t_p_val = model(t_u_val) # <1>\n",
    "        #loss_val = loss_fn(t_p_val, t_c_val)\n",
    "        \n",
    "        optimizer.zero_grad()\n",
    "        loss_train.backward() \n",
    "        optimizer.step()\n",
    "\n",
    "        if epoch == 1 or epoch % 500 == 0:\n",
    "            print(f\"Epoch {epoch}, Training loss {loss_train.item():.4f}\")\n",
    "    \n",
    "    return model"
   ]
  },
  {
   "cell_type": "code",
   "execution_count": 40,
   "metadata": {},
   "outputs": [
    {
     "name": "stdout",
     "output_type": "stream",
     "text": [
      "Epoch 1, Training loss 0.0034\n",
      "Epoch 500, Training loss 0.0034\n",
      "Epoch 1000, Training loss 0.0034\n",
      "Epoch 1500, Training loss 0.0034\n",
      "Epoch 2000, Training loss 0.0033\n",
      "Epoch 2500, Training loss 0.0033\n",
      "Epoch 3000, Training loss 0.0033\n",
      "Epoch 3500, Training loss 0.0033\n",
      "Epoch 4000, Training loss 0.0033\n",
      "Epoch 4500, Training loss 0.0033\n",
      "Epoch 5000, Training loss 0.0033\n"
     ]
    }
   ],
   "source": [
    "model_trained = training_loop(\n",
    "    n_epochs = 5000, \n",
    "    optimizer = optimizer,\n",
    "    model = radnet,\n",
    "    loss_fn = loss_fn,\n",
    "    x_train = x_small,\n",
    "    y_train = y_small)"
   ]
  },
  {
   "cell_type": "markdown",
   "metadata": {},
   "source": [
    "### Test Theorem"
   ]
  },
  {
   "cell_type": "code",
   "execution_count": 206,
   "metadata": {},
   "outputs": [],
   "source": [
    "radnet = RadNet(eta =torch.atan, depth=2, has_bias = False)"
   ]
  },
  {
   "cell_type": "code",
   "execution_count": 207,
   "metadata": {},
   "outputs": [
    {
     "data": {
      "text/plain": [
       "([array([[-0.5743574 , -0.06796453],\n",
       "         [ 0.        , -0.59848523]], dtype=float32),\n",
       "  array([[-0.53962117, -0.4273848 , -0.00283596]])],\n",
       " 0)"
      ]
     },
     "execution_count": 207,
     "metadata": {},
     "output_type": "execute_result"
    }
   ],
   "source": [
    "rep = representation(radnet.export_W())\n",
    "rep.QRDecomposition()\n",
    "W_red = rep.R[:]\n",
    "W_red, radnet.act_fn[0].bias"
   ]
  },
  {
   "cell_type": "code",
   "execution_count": 208,
   "metadata": {},
   "outputs": [],
   "source": [
    "radnet_red = RadNet(eta=torch.atan, depth=2, has_bias = False)\n",
    "\n",
    "for i in range(radnet_red.depth-1):\n",
    "    linear_weight = torch.tensor(W_red[i][:,1:], dtype=torch.float32).reshape(2,1)\n",
    "    radnet_red.hidden_layers[i].weight = torch.nn.parameter.Parameter(linear_weight)\n",
    "    \n",
    "    linear_bias = torch.tensor(W_red[i][:,0], dtype=torch.float32)\n",
    "    radnet_red.hidden_layers[i].bias = torch.nn.parameter.Parameter(linear_bias)\n",
    "    \n",
    "    #radnet_red.act_fn[i].bias = radnet.act_fn[i].bias\n",
    "\n",
    "output_linear_weight = torch.tensor(W_red[-1][:,1:], dtype=torch.float32).reshape(1,2)\n",
    "radnet_red.output_layer.weight = torch.nn.parameter.Parameter(output_linear_weight)\n",
    "\n",
    "output_linear_bias = torch.tensor(W_red[-1][:,0], dtype=torch.float32)\n",
    "radnet_red.output_layer.bias = torch.nn.parameter.Parameter(output_linear_bias)"
   ]
  },
  {
   "cell_type": "code",
   "execution_count": 209,
   "metadata": {},
   "outputs": [
    {
     "data": {
      "text/plain": [
       "True"
      ]
     },
     "execution_count": 209,
     "metadata": {},
     "output_type": "execute_result"
    }
   ],
   "source": [
    "all(radnet(x_small) - radnet_red(x_small) < 0.0001)"
   ]
  },
  {
   "cell_type": "code",
   "execution_count": 210,
   "metadata": {},
   "outputs": [
    {
     "data": {
      "text/plain": [
       "(tensor(0.8030, grad_fn=<MeanBackward0>),\n",
       " tensor(0.8030, grad_fn=<MeanBackward0>))"
      ]
     },
     "execution_count": 210,
     "metadata": {},
     "output_type": "execute_result"
    }
   ],
   "source": [
    "loss_fn(radnet(x_small), y_small), loss_fn(radnet_red(x_small), y_small)"
   ]
  },
  {
   "cell_type": "code",
   "execution_count": 211,
   "metadata": {},
   "outputs": [
    {
     "data": {
      "text/plain": [
       "[<matplotlib.lines.Line2D at 0x12b9eea30>]"
      ]
     },
     "execution_count": 211,
     "metadata": {},
     "output_type": "execute_result"
    },
    {
     "data": {
      "image/png": "[encoded data removed]",
      "text/plain": [
       "<Figure size 432x288 with 1 Axes>"
      ]
     },
     "metadata": {
      "needs_background": "light"
     },
     "output_type": "display_data"
    }
   ],
   "source": [
    "plt.plot(x_small, radnet(x_small).detach().numpy())\n",
    "plt.plot(x_small,radnet_red(x_small).detach().numpy() +0.5)"
   ]
  },
  {
   "cell_type": "code",
   "execution_count": 212,
   "metadata": {},
   "outputs": [],
   "source": [
    "def training_loop_no_optim(n_epochs, learning_rate, model, params, x_train, y_train):\n",
    "    for epoch in range(1, n_epochs + 1):\n",
    "        for p in params:\n",
    "            if p.grad is not None:  # <1>\n",
    "                p.grad.zero_()\n",
    "        \n",
    "        y_pred = model(x_train) \n",
    "        loss = loss_fn(y_pred, y_train)\n",
    "        if epoch ==1 or epoch % 500 == 0:\n",
    "            print('Epoch %d, Loss %f' % (epoch, float(loss)))\n",
    "            \n",
    "        loss.backward()\n",
    "        \n",
    "        with torch.no_grad():  # <2>\n",
    "            for p in params:\n",
    "                p -= learning_rate * p.grad\n",
    "            \n",
    "    return model"
   ]
  },
  {
   "cell_type": "code",
   "execution_count": 213,
   "metadata": {},
   "outputs": [
    {
     "name": "stdout",
     "output_type": "stream",
     "text": [
      "Epoch 1, Loss 0.803020\n",
      "Epoch 500, Loss 0.093930\n",
      "Epoch 1000, Loss 0.061515\n",
      "Epoch 1500, Loss 0.037645\n",
      "Epoch 2000, Loss 0.022776\n",
      "Epoch 2500, Loss 0.014541\n",
      "Epoch 3000, Loss 0.010298\n",
      "Epoch 3500, Loss 0.008183\n",
      "Epoch 4000, Loss 0.007124\n",
      "Epoch 4500, Loss 0.006569\n",
      "Epoch 5000, Loss 0.006250\n"
     ]
    }
   ],
   "source": [
    "## Train original network with no optimizer\n",
    "\n",
    "model_trained = training_loop_no_optim(\n",
    "    n_epochs = 5000, \n",
    "    learning_rate = 0.01,\n",
    "    model = radnet,\n",
    "    params = list(radnet.parameters()),\n",
    "    x_train = x_small,\n",
    "    y_train = y_small)"
   ]
  },
  {
   "cell_type": "code",
   "execution_count": null,
   "metadata": {},
   "outputs": [],
   "source": []
  },
  {
   "cell_type": "code",
   "execution_count": 214,
   "metadata": {},
   "outputs": [
    {
     "name": "stdout",
     "output_type": "stream",
     "text": [
      "Epoch 1, Loss 0.803020\n",
      "Epoch 500, Loss 0.093930\n",
      "Epoch 1000, Loss 0.061515\n",
      "Epoch 1500, Loss 0.037645\n",
      "Epoch 2000, Loss 0.022776\n",
      "Epoch 2500, Loss 0.014541\n",
      "Epoch 3000, Loss 0.010298\n",
      "Epoch 3500, Loss 0.008183\n",
      "Epoch 4000, Loss 0.007124\n",
      "Epoch 4500, Loss 0.006569\n",
      "Epoch 5000, Loss 0.006250\n"
     ]
    }
   ],
   "source": [
    "## Train reduced network with no optimizer\n",
    "\n",
    "model_red_trained = training_loop_no_optim(\n",
    "    n_epochs = 5000, \n",
    "    learning_rate = 0.01,\n",
    "    model = radnet_red,\n",
    "    params = list(radnet_red.parameters()),\n",
    "    x_train = x_small,\n",
    "    y_train = y_small)"
   ]
  },
  {
   "cell_type": "code",
   "execution_count": 27,
   "metadata": {},
   "outputs": [
    {
     "name": "stdout",
     "output_type": "stream",
     "text": [
      "Epoch 1, Training loss 1.0410\n",
      "Epoch 500, Training loss 0.0094\n",
      "Epoch 1000, Training loss 0.0051\n",
      "Epoch 1500, Training loss 0.0043\n",
      "Epoch 2000, Training loss 0.0040\n",
      "Epoch 2500, Training loss 0.0038\n",
      "Epoch 3000, Training loss 0.0037\n",
      "Epoch 3500, Training loss 0.0036\n",
      "Epoch 4000, Training loss 0.0035\n",
      "Epoch 4500, Training loss 0.0034\n",
      "Epoch 5000, Training loss 0.0033\n"
     ]
    }
   ],
   "source": [
    "## Train reduced network\n",
    "\n",
    "optimizer_red = optim.SGD(radnet_red.parameters(), lr = 0.01)\n",
    "model_red_trained = training_loop(\n",
    "    n_epochs = 5000, \n",
    "    optimizer = optimizer_red,\n",
    "    model = radnet_red,\n",
    "    loss_fn = loss_fn,\n",
    "    x_train = x_small,\n",
    "    y_train = y_small)"
   ]
  },
  {
   "cell_type": "code",
   "execution_count": 26,
   "metadata": {},
   "outputs": [
    {
     "name": "stdout",
     "output_type": "stream",
     "text": [
      "Epoch 1, Training loss 1.5055\n",
      "Epoch 500, Training loss 0.0609\n",
      "Epoch 1000, Training loss 0.0145\n",
      "Epoch 1500, Training loss 0.0065\n",
      "Epoch 2000, Training loss 0.0048\n",
      "Epoch 2500, Training loss 0.0043\n",
      "Epoch 3000, Training loss 0.0040\n",
      "Epoch 3500, Training loss 0.0039\n",
      "Epoch 4000, Training loss 0.0038\n",
      "Epoch 4500, Training loss 0.0037\n",
      "Epoch 5000, Training loss 0.0036\n"
     ]
    }
   ],
   "source": [
    "## Train original network\n",
    "\n",
    "optimizer = optim.SGD(radnet.parameters(), lr=0.01)\n",
    "model_trained = training_loop(\n",
    "    n_epochs = 5000, \n",
    "    optimizer = optimizer,\n",
    "    model = radnet,\n",
    "    loss_fn = loss_fn,\n",
    "    x_train = x_small,\n",
    "    y_train = y_small)\n"
   ]
  },
  {
   "cell_type": "code",
   "execution_count": 28,
   "metadata": {},
   "outputs": [],
   "source": [
    "## They don't quite match. But maybe that's due to the stochastic gradient descent."
   ]
  },
  {
   "cell_type": "markdown",
   "metadata": {},
   "source": [
    "### Approximate pointwise sigmoid"
   ]
  },
  {
   "cell_type": "code",
   "execution_count": 83,
   "metadata": {},
   "outputs": [],
   "source": [
    "class RadNet_Specified_Dims_No_Bias(nn.Module):\n",
    "    \n",
    "    def __init__(self, eta, dims=[1,2,3,4,1], has_bias=True):\n",
    "        # Two cases: (1) weights are initialized randomly, and (2) weights are provided\n",
    "        # Idea: make random initialization the default, and overwrite when we need to provide weights\n",
    "        # Idea: make the dimension vector a paramter dims. If depth is specified, check that len(dims)+1=depth\n",
    "        \n",
    "        super().__init__()\n",
    "        self.eta = eta\n",
    "        self.dims = dims\n",
    "        self.depth = len(self.dims)\n",
    "        self.hidden_layers = nn.ModuleList([nn.Linear(self.dims[i], self.dims[i+1]) for i in range(len(self.dims)-2)])\n",
    "        #for hl in self.hidden_layers:\n",
    "        #    hl.bias = torch.nn.Parameter(torch.tensor([0.,0., 0.], requires_grad=False))\n",
    "        self.output_layer = nn.Linear(self.dims[-2],self.dims[-1])\n",
    "        #self.output_layer.bias = torch.nn.Parameter(torch.tensor([0.,0.], requires_grad=False))\n",
    "        self.act_fn =nn.ModuleList([RadAct(self.eta, has_bias=has_bias) for d in range(1,self.depth)])\n",
    "        \n",
    "    def forward(self, x):\n",
    "        h = x\n",
    "        for lin,act in zip(self.hidden_layers, self.act_fn):\n",
    "            h = act(lin(h))\n",
    "        return self.output_layer(h)\n",
    "    \n",
    "    def export_W(self):\n",
    "        W = []\n",
    "        for hl in self.hidden_layers:\n",
    "            A = hl.weight.detach().cpu().numpy()\n",
    "            b = hl.bias.detach().cpu().numpy()\n",
    "            W.append(np.concatenate((np.expand_dims(b, 1), A), axis =1))\n",
    "        A = self.output_layer.weight.detach().cpu().numpy()\n",
    "        b = self.output_layer.bias.detach().cpu().numpy()\n",
    "        W.append(np.concatenate((np.expand_dims(b, 1), A), axis =1))\n",
    "        return W\n",
    "        # We may want to return a representation object"
   ]
  },
  {
   "cell_type": "code",
   "execution_count": 84,
   "metadata": {},
   "outputs": [
    {
     "data": {
      "text/plain": [
       "(torch.Size([14641, 2]), torch.Size([14641, 2]))"
      ]
     },
     "execution_count": 84,
     "metadata": {},
     "output_type": "execute_result"
    }
   ],
   "source": [
    "x_med = torch.zeros((121**2, 2))\n",
    "y_med = torch.zeros((121**2, 2))\n",
    "x_med.shape, y_med.shape"
   ]
  },
  {
   "cell_type": "code",
   "execution_count": 85,
   "metadata": {},
   "outputs": [
    {
     "data": {
      "text/plain": [
       "(tensor([[-6.0000, -6.0000],\n",
       "         [-6.0000, -5.9000],\n",
       "         [-6.0000, -5.8000],\n",
       "         [-6.0000, -5.7000],\n",
       "         [-6.0000, -5.6000],\n",
       "         [-6.0000, -5.5000],\n",
       "         [-6.0000, -5.4000],\n",
       "         [-6.0000, -5.3000],\n",
       "         [-6.0000, -5.2000],\n",
       "         [-6.0000, -5.1000]]),\n",
       " tensor([[6.0000, 5.1000],\n",
       "         [6.0000, 5.2000],\n",
       "         [6.0000, 5.3000],\n",
       "         [6.0000, 5.4000],\n",
       "         [6.0000, 5.5000],\n",
       "         [6.0000, 5.6000],\n",
       "         [6.0000, 5.7000],\n",
       "         [6.0000, 5.8000],\n",
       "         [6.0000, 5.9000],\n",
       "         [6.0000, 6.0000]]),\n",
       " tensor([0., 0.]),\n",
       " tensor([0., 0.]))"
      ]
     },
     "execution_count": 85,
     "metadata": {},
     "output_type": "execute_result"
    }
   ],
   "source": [
    "for i in range(121):\n",
    "    for j in range(121):\n",
    "        x_med[121*i + j] = torch.tensor([-6.0 + i/10, -6.0 + j/10])\n",
    "        y_med[121*i + j] = torch.sigmoid(x_med[121*i + j])-0.5\n",
    "        \n",
    "x_med[:10], x_med[-10:], x_med[7320], y_med[7320]"
   ]
  },
  {
   "cell_type": "code",
   "execution_count": 86,
   "metadata": {},
   "outputs": [
    {
     "data": {
      "text/plain": [
       "<matplotlib.collections.PathCollection at 0x129ae0250>"
      ]
     },
     "execution_count": 86,
     "metadata": {},
     "output_type": "execute_result"
    },
    {
     "data": {
      "image/png": "[encoded data removed]",
      "text/plain": [
       "<Figure size 432x288 with 1 Axes>"
      ]
     },
     "metadata": {
      "needs_background": "light"
     },
     "output_type": "display_data"
    }
   ],
   "source": [
    "plt.scatter(x_med[:,0], y_med[:,0])"
   ]
  },
  {
   "cell_type": "code",
   "execution_count": 87,
   "metadata": {},
   "outputs": [
    {
     "data": {
      "text/plain": [
       "[<matplotlib.lines.Line2D at 0x129745040>]"
      ]
     },
     "execution_count": 87,
     "metadata": {},
     "output_type": "execute_result"
    },
    {
     "data": {
      "image/png": "[encoded data removed]",
      "text/plain": [
       "<Figure size 432x288 with 1 Axes>"
      ]
     },
     "metadata": {
      "needs_background": "light"
     },
     "output_type": "display_data"
    }
   ],
   "source": [
    "plt.plot(x_med[:,1], y_med[:,1])"
   ]
  },
  {
   "cell_type": "code",
   "execution_count": null,
   "metadata": {},
   "outputs": [],
   "source": []
  },
  {
   "cell_type": "code",
   "execution_count": 90,
   "metadata": {},
   "outputs": [
    {
     "data": {
      "text/plain": [
       "[Parameter containing:\n",
       " tensor([[-0.4419, -0.2738],\n",
       "         [ 0.0620,  0.3587],\n",
       "         [-0.5290, -0.1292]], requires_grad=True),\n",
       " Parameter containing:\n",
       " tensor([0.2588, 0.2269, 0.1367], requires_grad=True),\n",
       " Parameter containing:\n",
       " tensor([[ 0.5062,  0.5499, -0.3907],\n",
       "         [-0.3129,  0.5450, -0.4690]], requires_grad=True),\n",
       " Parameter containing:\n",
       " tensor([-0.2206, -0.5500], requires_grad=True),\n",
       " Parameter containing:\n",
       " tensor([-0.0344], requires_grad=True),\n",
       " Parameter containing:\n",
       " tensor([-0.0451], requires_grad=True)]"
      ]
     },
     "execution_count": 90,
     "metadata": {},
     "output_type": "execute_result"
    }
   ],
   "source": [
    "radnet = RadNet_Specified_Dims_No_Bias(eta=torch.sigmoid, dims=[2,3,2], has_bias=True)\n",
    "list(radnet.parameters())"
   ]
  },
  {
   "cell_type": "code",
   "execution_count": 91,
   "metadata": {},
   "outputs": [
    {
     "name": "stdout",
     "output_type": "stream",
     "text": [
      "Epoch 1, Training loss 0.3411\n",
      "Epoch 500, Training loss 0.0076\n",
      "Epoch 1000, Training loss 0.0073\n",
      "Epoch 1500, Training loss 0.0071\n",
      "Epoch 2000, Training loss 0.0069\n",
      "Epoch 2500, Training loss 0.0068\n",
      "Epoch 3000, Training loss 0.0067\n",
      "Epoch 3500, Training loss 0.0066\n",
      "Epoch 4000, Training loss 0.0065\n",
      "Epoch 4500, Training loss 0.0064\n",
      "Epoch 5000, Training loss 0.0064\n",
      "Epoch 5500, Training loss 0.0063\n",
      "Epoch 6000, Training loss 0.0062\n",
      "Epoch 6500, Training loss 0.0062\n",
      "Epoch 7000, Training loss 0.0061\n",
      "Epoch 7500, Training loss 0.0061\n",
      "Epoch 8000, Training loss 0.0061\n",
      "Epoch 8500, Training loss 0.0061\n",
      "Epoch 9000, Training loss 0.0060\n",
      "Epoch 9500, Training loss 0.0060\n",
      "Epoch 10000, Training loss 0.0060\n"
     ]
    }
   ],
   "source": [
    "optimizer = optim.SGD(radnet.parameters(), lr=0.025)\n",
    "model_trained = training_loop(\n",
    "    n_epochs = 10000, \n",
    "    optimizer = optimizer,\n",
    "    model = radnet,\n",
    "    loss_fn = loss_fn,\n",
    "    x_train = x_med,\n",
    "    y_train = y_med)"
   ]
  },
  {
   "cell_type": "code",
   "execution_count": 92,
   "metadata": {},
   "outputs": [
    {
     "data": {
      "text/plain": [
       "[Parameter containing:\n",
       " tensor([[ 0.1215, -0.2434],\n",
       "         [ 0.0670,  0.3071],\n",
       "         [-0.3652, -0.0212]], requires_grad=True),\n",
       " Parameter containing:\n",
       " tensor([0.3262, 0.2443, 0.1983], requires_grad=True),\n",
       " Parameter containing:\n",
       " tensor([[ 0.3338,  0.2205, -0.6236],\n",
       "         [-0.3879,  0.6142, -0.0155]], requires_grad=True),\n",
       " Parameter containing:\n",
       " tensor([-0.0234, -0.0122], requires_grad=True),\n",
       " Parameter containing:\n",
       " tensor([-0.2889], requires_grad=True),\n",
       " Parameter containing:\n",
       " tensor([-0.0451], requires_grad=True)]"
      ]
     },
     "execution_count": 92,
     "metadata": {},
     "output_type": "execute_result"
    }
   ],
   "source": [
    "list(model_trained.parameters())"
   ]
  },
  {
   "cell_type": "code",
   "execution_count": 93,
   "metadata": {},
   "outputs": [
    {
     "data": {
      "image/png": "[encoded data removed]",
      "text/plain": [
       "<Figure size 432x288 with 1 Axes>"
      ]
     },
     "metadata": {
      "needs_background": "light"
     },
     "output_type": "display_data"
    }
   ],
   "source": [
    "y_pred = model_trained(x_med).detach().numpy()\n",
    "plt.scatter(x_med[:,0], y_pred[:,0], s = 1)\n",
    "plt.plot(x_med[:,0], y_med[:,0], color = 'red')\n",
    "plt.show()"
   ]
  },
  {
   "cell_type": "code",
   "execution_count": 94,
   "metadata": {},
   "outputs": [
    {
     "data": {
      "image/png": "[encoded data removed]",
      "text/plain": [
       "<Figure size 432x288 with 1 Axes>"
      ]
     },
     "metadata": {
      "needs_background": "light"
     },
     "output_type": "display_data"
    }
   ],
   "source": [
    "plt.scatter(x_med[:,1], y_pred[:,1], s = 1)\n",
    "plt.scatter(x_med[:,1], y_med[:,1], color = 'red', s=1)\n",
    "plt.show()"
   ]
  },
  {
   "cell_type": "code",
   "execution_count": 95,
   "metadata": {},
   "outputs": [
    {
     "data": {
      "text/plain": [
       "<matplotlib.collections.PathCollection at 0x104e26610>"
      ]
     },
     "execution_count": 95,
     "metadata": {},
     "output_type": "execute_result"
    },
    {
     "data": {
      "image/png": "[encoded data removed]",
      "text/plain": [
       "<Figure size 432x288 with 1 Axes>"
      ]
     },
     "metadata": {
      "needs_background": "light"
     },
     "output_type": "display_data"
    }
   ],
   "source": [
    "plt.scatter(x_med[:,0], y_pred[:,1], s=1)"
   ]
  },
  {
   "cell_type": "code",
   "execution_count": 96,
   "metadata": {},
   "outputs": [
    {
     "data": {
      "text/plain": [
       "<matplotlib.collections.PathCollection at 0x129902460>"
      ]
     },
     "execution_count": 96,
     "metadata": {},
     "output_type": "execute_result"
    },
    {
     "data": {
      "image/png": "[encoded data removed]",
      "text/plain": [
       "<Figure size 432x288 with 1 Axes>"
      ]
     },
     "metadata": {
      "needs_background": "light"
     },
     "output_type": "display_data"
    }
   ],
   "source": [
    "plt.scatter(x_med[:,1], y_pred[:,0], s= 1)"
   ]
  },
  {
   "cell_type": "code",
   "execution_count": null,
   "metadata": {},
   "outputs": [],
   "source": []
  },
  {
   "cell_type": "code",
   "execution_count": null,
   "metadata": {},
   "outputs": [],
   "source": []
  },
  {
   "cell_type": "markdown",
   "metadata": {},
   "source": [
    "#### Train only the weights"
   ]
  },
  {
   "cell_type": "code",
   "execution_count": 120,
   "metadata": {},
   "outputs": [],
   "source": [
    "## Center data around zero\n",
    "x_medc = torch.zeros((121**2, 2))\n",
    "y_medc = torch.zeros((121**2, 2))\n",
    "\n",
    "for i in range(121):\n",
    "    for j in range(121):\n",
    "        x_medc[121*i + j] = torch.tensor([-3.0 + i/20, -3.0 + j/20])\n",
    "        y_medc[121*i + j] = torch.sigmoid(x_medc[121*i + j])-0.5"
   ]
  },
  {
   "cell_type": "code",
   "execution_count": 129,
   "metadata": {},
   "outputs": [
    {
     "data": {
      "text/plain": [
       "[Parameter containing:\n",
       " tensor([[-0.0171,  0.1175],\n",
       "         [-0.2508,  0.6000]], requires_grad=True),\n",
       " Parameter containing:\n",
       " tensor([0., 0.], requires_grad=True),\n",
       " Parameter containing:\n",
       " tensor([[0.3531, 0.3078],\n",
       "         [0.4384, 0.6733]], requires_grad=True),\n",
       " Parameter containing:\n",
       " tensor([0., 0.], requires_grad=True)]"
      ]
     },
     "execution_count": 129,
     "metadata": {},
     "output_type": "execute_result"
    }
   ],
   "source": [
    "radnet_no_bias = RadNet_Specified_Dims_No_Bias(eta=torch.sigmoid, dims=[2,2,2], has_bias=False)\n",
    "radnet_no_bias.hidden_layers[0].bias = torch.nn.Parameter(torch.tensor([0.,0.], requires_grad=False))\n",
    "radnet_no_bias.output_layer.bias = torch.nn.Parameter(torch.tensor([0.,0.], requires_grad=False))\n",
    "list(radnet_no_bias.parameters())"
   ]
  },
  {
   "cell_type": "code",
   "execution_count": 130,
   "metadata": {},
   "outputs": [],
   "source": [
    "## Set requires_grad == False for the biases\n",
    "\n",
    "for i,p in enumerate(radnet_no_bias.parameters()):\n",
    "    if i in {1, 3}:\n",
    "        p.requires_grad = False"
   ]
  },
  {
   "cell_type": "code",
   "execution_count": 131,
   "metadata": {},
   "outputs": [
    {
     "name": "stdout",
     "output_type": "stream",
     "text": [
      "Epoch 1, Training loss 0.1383\n",
      "Epoch 500, Training loss 0.0041\n",
      "Epoch 1000, Training loss 0.0037\n",
      "Epoch 1500, Training loss 0.0036\n",
      "Epoch 2000, Training loss 0.0036\n",
      "Epoch 2500, Training loss 0.0036\n",
      "Epoch 3000, Training loss 0.0036\n",
      "Epoch 3500, Training loss 0.0036\n",
      "Epoch 4000, Training loss 0.0035\n",
      "Epoch 4500, Training loss 0.0035\n",
      "Epoch 5000, Training loss 0.0035\n",
      "Epoch 5500, Training loss 0.0035\n",
      "Epoch 6000, Training loss 0.0035\n",
      "Epoch 6500, Training loss 0.0035\n",
      "Epoch 7000, Training loss 0.0035\n",
      "Epoch 7500, Training loss 0.0035\n",
      "Epoch 8000, Training loss 0.0035\n",
      "Epoch 8500, Training loss 0.0035\n",
      "Epoch 9000, Training loss 0.0035\n",
      "Epoch 9500, Training loss 0.0035\n",
      "Epoch 10000, Training loss 0.0035\n"
     ]
    }
   ],
   "source": [
    "optimizer = optim.SGD(radnet_no_bias.parameters(), lr=0.05)\n",
    "model_trained = training_loop(\n",
    "    n_epochs = 10000, \n",
    "    optimizer = optimizer,\n",
    "    model = radnet_no_bias,\n",
    "    loss_fn = loss_fn,\n",
    "    x_train = x_medc,\n",
    "    y_train = y_medc)"
   ]
  },
  {
   "cell_type": "code",
   "execution_count": 132,
   "metadata": {},
   "outputs": [
    {
     "data": {
      "text/plain": [
       "[Parameter containing:\n",
       " tensor([[ 0.6087,  0.1836],\n",
       "         [-0.1836,  0.6087]], requires_grad=True),\n",
       " Parameter containing:\n",
       " tensor([0., 0.]),\n",
       " Parameter containing:\n",
       " tensor([[ 0.5228, -0.1577],\n",
       "         [ 0.1577,  0.5228]], requires_grad=True),\n",
       " Parameter containing:\n",
       " tensor([0., 0.])]"
      ]
     },
     "execution_count": 132,
     "metadata": {},
     "output_type": "execute_result"
    }
   ],
   "source": [
    "list(radnet_no_bias.parameters())"
   ]
  },
  {
   "cell_type": "code",
   "execution_count": 133,
   "metadata": {},
   "outputs": [
    {
     "data": {
      "image/png": "[encoded data removed]",
      "text/plain": [
       "<Figure size 432x288 with 1 Axes>"
      ]
     },
     "metadata": {
      "needs_background": "light"
     },
     "output_type": "display_data"
    }
   ],
   "source": [
    "y_pred = model_trained(x_medc).detach().numpy()\n",
    "plt.scatter(x_medc[:,0], y_pred[:,0], s = 1)\n",
    "plt.plot(x_medc[:,0], y_medc[:,0], color = 'red')\n",
    "plt.show()"
   ]
  },
  {
   "cell_type": "code",
   "execution_count": 134,
   "metadata": {},
   "outputs": [
    {
     "data": {
      "image/png": "[encoded data removed]",
      "text/plain": [
       "<Figure size 432x288 with 1 Axes>"
      ]
     },
     "metadata": {
      "needs_background": "light"
     },
     "output_type": "display_data"
    }
   ],
   "source": [
    "plt.scatter(x_med[:,1], y_pred[:,1], s = 1)\n",
    "plt.scatter(x_med[:,1], y_med[:,1], color = 'red', s=1)\n",
    "plt.show()"
   ]
  },
  {
   "cell_type": "code",
   "execution_count": 135,
   "metadata": {},
   "outputs": [
    {
     "data": {
      "image/png": "[encoded data removed]",
      "text/plain": [
       "<Figure size 432x288 with 1 Axes>"
      ]
     },
     "metadata": {
      "needs_background": "light"
     },
     "output_type": "display_data"
    }
   ],
   "source": [
    "plt.scatter(x_med[:,0], y_pred[:,1], s = 1)\n",
    "plt.show()"
   ]
  },
  {
   "cell_type": "code",
   "execution_count": 136,
   "metadata": {},
   "outputs": [
    {
     "data": {
      "image/png": "[encoded data removed]",
      "text/plain": [
       "<Figure size 432x288 with 1 Axes>"
      ]
     },
     "metadata": {
      "needs_background": "light"
     },
     "output_type": "display_data"
    }
   ],
   "source": [
    "plt.scatter(x_med[:,1], y_pred[:,0], s = 1)\n",
    "plt.show()"
   ]
  },
  {
   "cell_type": "code",
   "execution_count": null,
   "metadata": {},
   "outputs": [],
   "source": []
  },
  {
   "cell_type": "code",
   "execution_count": null,
   "metadata": {},
   "outputs": [],
   "source": []
  },
  {
   "cell_type": "code",
   "execution_count": null,
   "metadata": {},
   "outputs": [],
   "source": []
  },
  {
   "cell_type": "code",
   "execution_count": null,
   "metadata": {},
   "outputs": [],
   "source": []
  },
  {
   "cell_type": "code",
   "execution_count": 49,
   "metadata": {},
   "outputs": [
    {
     "name": "stdout",
     "output_type": "stream",
     "text": [
      "Parameter containing:\n",
      "tensor([[ 0.4194, -0.1989],\n",
      "        [-0.1290, -0.1084],\n",
      "        [-0.1684, -0.4119]], requires_grad=True)\n",
      "Parameter containing:\n",
      "tensor([[ 0.4194, -0.1989],\n",
      "        [-0.1290, -0.1084],\n",
      "        [-0.1684, -0.4119]], requires_grad=True)\n"
     ]
    },
    {
     "data": {
      "text/plain": [
       "generator"
      ]
     },
     "execution_count": 49,
     "metadata": {},
     "output_type": "execute_result"
    }
   ],
   "source": [
    "print(next(radnet.parameters()))\n",
    "print(next(radnet.parameters()))\n",
    "type(radnet.parameters())"
   ]
  },
  {
   "cell_type": "code",
   "execution_count": 50,
   "metadata": {},
   "outputs": [
    {
     "data": {
      "text/plain": [
       "(Parameter containing:\n",
       " tensor([[ 0.4194, -0.1989],\n",
       "         [-0.1290, -0.1084],\n",
       "         [-0.1684, -0.4119]], requires_grad=True),\n",
       " Parameter containing:\n",
       " tensor([[ 0.5966, -0.0506, -0.2747],\n",
       "         [-0.2602, -0.0754, -0.5902]], requires_grad=True))"
      ]
     },
     "execution_count": 50,
     "metadata": {},
     "output_type": "execute_result"
    }
   ],
   "source": [
    "radnet.hidden_layers[0].weight, radnet.output_layer.weight"
   ]
  },
  {
   "cell_type": "code",
   "execution_count": 51,
   "metadata": {},
   "outputs": [],
   "source": [
    "from itertools import chain\n",
    "\n",
    "weight_params = chain(radnet.hidden_layers[0].weight, radnet.output_layer.weight)"
   ]
  },
  {
   "cell_type": "code",
   "execution_count": 52,
   "metadata": {},
   "outputs": [
    {
     "name": "stdout",
     "output_type": "stream",
     "text": [
      "tensor([ 0.4194, -0.1989], grad_fn=<UnbindBackward>)\n",
      "tensor([-0.1290, -0.1084], grad_fn=<UnbindBackward>)\n"
     ]
    }
   ],
   "source": [
    "print(next(weight_params))\n",
    "print(next(weight_params))"
   ]
  },
  {
   "cell_type": "code",
   "execution_count": 53,
   "metadata": {},
   "outputs": [],
   "source": [
    "## Need to make a new parameters object to optimize"
   ]
  },
  {
   "cell_type": "code",
   "execution_count": 54,
   "metadata": {},
   "outputs": [
    {
     "name": "stdout",
     "output_type": "stream",
     "text": [
      "Epoch 1, Training loss 0.0070\n",
      "Epoch 500, Training loss 0.0070\n",
      "Epoch 1000, Training loss 0.0070\n",
      "Epoch 1500, Training loss 0.0070\n",
      "Epoch 2000, Training loss 0.0070\n",
      "Epoch 2500, Training loss 0.0070\n",
      "Epoch 3000, Training loss 0.0070\n",
      "Epoch 3500, Training loss 0.0070\n",
      "Epoch 4000, Training loss 0.0070\n",
      "Epoch 4500, Training loss 0.0070\n",
      "Epoch 5000, Training loss 0.0070\n",
      "Epoch 5500, Training loss 0.0070\n",
      "Epoch 6000, Training loss 0.0070\n",
      "Epoch 6500, Training loss 0.0070\n",
      "Epoch 7000, Training loss 0.0070\n",
      "Epoch 7500, Training loss 0.0070\n",
      "Epoch 8000, Training loss 0.0070\n",
      "Epoch 8500, Training loss 0.0070\n",
      "Epoch 9000, Training loss 0.0070\n",
      "Epoch 9500, Training loss 0.0070\n",
      "Epoch 10000, Training loss 0.0070\n"
     ]
    }
   ],
   "source": [
    "optimizer = optim.SGD(radnet.parameters(), lr=0.025)\n",
    "model_trained = training_loop(\n",
    "    n_epochs = 10000, \n",
    "    optimizer = optimizer,\n",
    "    model = radnet,\n",
    "    loss_fn = loss_fn,\n",
    "    x_train = x_med,\n",
    "    y_train = y_med)"
   ]
  },
  {
   "cell_type": "code",
   "execution_count": 55,
   "metadata": {},
   "outputs": [
    {
     "data": {
      "text/plain": [
       "[Parameter containing:\n",
       " tensor([[ 0.3489, -0.1644],\n",
       "         [-0.1008, -0.0864],\n",
       "         [-0.1418, -0.3429]], requires_grad=True),\n",
       " Parameter containing:\n",
       " tensor([0., 0., 0.]),\n",
       " Parameter containing:\n",
       " tensor([[ 0.6188, -0.0568, -0.2824],\n",
       "         [-0.2723, -0.0809, -0.6123]], requires_grad=True),\n",
       " Parameter containing:\n",
       " tensor([0., 0.])]"
      ]
     },
     "execution_count": 55,
     "metadata": {},
     "output_type": "execute_result"
    }
   ],
   "source": [
    "list(model_trained.parameters())"
   ]
  },
  {
   "cell_type": "code",
   "execution_count": 56,
   "metadata": {},
   "outputs": [
    {
     "data": {
      "text/plain": [
       "Parameter containing:\n",
       "tensor([0., 0.])"
      ]
     },
     "execution_count": 56,
     "metadata": {},
     "output_type": "execute_result"
    }
   ],
   "source": [
    "radnet.output_layer.bias"
   ]
  },
  {
   "cell_type": "code",
   "execution_count": 57,
   "metadata": {},
   "outputs": [
    {
     "data": {
      "image/png": "[encoded data removed]",
      "text/plain": [
       "<Figure size 432x288 with 1 Axes>"
      ]
     },
     "metadata": {
      "needs_background": "light"
     },
     "output_type": "display_data"
    },
    {
     "data": {
      "text/plain": [
       "<Figure size 432x288 with 0 Axes>"
      ]
     },
     "metadata": {},
     "output_type": "display_data"
    }
   ],
   "source": [
    "y_pred = model_trained(x_med).detach().numpy()\n",
    "plt.scatter(x_med[:,0], y_pred[:,0], s = 1)\n",
    "plt.plot(x_med[:,0], y_med[:,0], color = 'red')\n",
    "plt.show()\n",
    "plt.clf()"
   ]
  },
  {
   "cell_type": "code",
   "execution_count": 58,
   "metadata": {},
   "outputs": [
    {
     "data": {
      "image/png": "[encoded data removed]",
      "text/plain": [
       "<Figure size 432x288 with 1 Axes>"
      ]
     },
     "metadata": {
      "needs_background": "light"
     },
     "output_type": "display_data"
    }
   ],
   "source": [
    "plt.scatter(x_med[:,1], y_pred[:,1], s = 1)\n",
    "plt.plot(x_med[:,1], y_med[:,1], color = 'red')\n",
    "plt.show()"
   ]
  },
  {
   "cell_type": "code",
   "execution_count": 59,
   "metadata": {},
   "outputs": [
    {
     "data": {
      "text/plain": [
       "<matplotlib.collections.PathCollection at 0x12a6ab0d0>"
      ]
     },
     "execution_count": 59,
     "metadata": {},
     "output_type": "execute_result"
    },
    {
     "data": {
      "image/png": "[encoded data removed]",
      "text/plain": [
       "<Figure size 432x288 with 1 Axes>"
      ]
     },
     "metadata": {
      "needs_background": "light"
     },
     "output_type": "display_data"
    }
   ],
   "source": [
    "plt.scatter(x_med[:,0], y_pred[:,1], s=1)"
   ]
  },
  {
   "cell_type": "code",
   "execution_count": 60,
   "metadata": {},
   "outputs": [
    {
     "data": {
      "text/plain": [
       "<matplotlib.collections.PathCollection at 0x12a7702e0>"
      ]
     },
     "execution_count": 60,
     "metadata": {},
     "output_type": "execute_result"
    },
    {
     "data": {
      "image/png": "[encoded data removed]",
      "text/plain": [
       "<Figure size 432x288 with 1 Axes>"
      ]
     },
     "metadata": {
      "needs_background": "light"
     },
     "output_type": "display_data"
    }
   ],
   "source": [
    "plt.scatter(x_med[:,1], y_pred[:,0], s= 1)"
   ]
  },
  {
   "cell_type": "code",
   "execution_count": null,
   "metadata": {},
   "outputs": [],
   "source": []
  },
  {
   "cell_type": "code",
   "execution_count": null,
   "metadata": {},
   "outputs": [],
   "source": []
  },
  {
   "cell_type": "markdown",
   "metadata": {},
   "source": [
    "### Approximate a function"
   ]
  },
  {
   "cell_type": "code",
   "execution_count": 61,
   "metadata": {},
   "outputs": [],
   "source": [
    "def approximate(f, lower, higher, n_increments = 200, n_epochs = 5000, n_layers=2):\n",
    "    assert higher > lower\n",
    "    x_samples = torch.tensor([lower + (i*(higher-lower))/n_increments for i in range(n_increments+1)]).unsqueeze(1)\n",
    "    y_samples = torch.zeros(x_samples.shape)\n",
    "    for i in range(x_samples.shape[0]):\n",
    "        y_samples[i] = f(x_samples[i])\n",
    "    #plt.plot(x_samples,y_samples)\n",
    "    #plt.show()\n",
    "    \n",
    "    radial_network = RadNet(depth=n_layers,eta =torch.atan)\n",
    "    optimizer = optim.SGD(radial_network.parameters(), lr=0.01)\n",
    "    \n",
    "    def loss_fn(y_predict, y_train):\n",
    "        squared_diffs = (y_predict - y_train)**2\n",
    "        return squared_diffs.mean()\n",
    "        \n",
    "    for epoch in range(1, n_epochs + 1):\n",
    "        y_predict = radial_network(x_samples) \n",
    "        loss_train = loss_fn(y_predict, y_samples)\n",
    "        \n",
    "        optimizer.zero_grad()\n",
    "        loss_train.backward() \n",
    "        optimizer.step()\n",
    "\n",
    "        if epoch == 1 or epoch % 500 == 0:\n",
    "            print(f\"Epoch {epoch}, Training loss {loss_train.item():.4f}\")\n",
    "    \n",
    "    y_pred = radial_network(x_samples) \n",
    "    plt.plot(x_samples,y_samples)\n",
    "    plt.plot(x_samples,y_pred.detach().numpy())\n",
    "    return list(radnet.parameters())\n"
   ]
  },
  {
   "cell_type": "code",
   "execution_count": 62,
   "metadata": {},
   "outputs": [
    {
     "name": "stdout",
     "output_type": "stream",
     "text": [
      "Epoch 1, Training loss 0.5939\n",
      "Epoch 500, Training loss 0.1588\n",
      "Epoch 1000, Training loss 0.1524\n",
      "Epoch 1500, Training loss 0.1302\n",
      "Epoch 2000, Training loss 0.0877\n",
      "Epoch 2500, Training loss 0.0531\n",
      "Epoch 3000, Training loss 0.0331\n",
      "Epoch 3500, Training loss 0.0226\n",
      "Epoch 4000, Training loss 0.0169\n",
      "Epoch 4500, Training loss 0.0134\n",
      "Epoch 5000, Training loss 0.0112\n"
     ]
    },
    {
     "data": {
      "text/plain": [
       "[Parameter containing:\n",
       " tensor([[ 0.3489, -0.1644],\n",
       "         [-0.1008, -0.0864],\n",
       "         [-0.1418, -0.3429]], requires_grad=True),\n",
       " Parameter containing:\n",
       " tensor([0., 0., 0.]),\n",
       " Parameter containing:\n",
       " tensor([[ 0.6188, -0.0568, -0.2824],\n",
       "         [-0.2723, -0.0809, -0.6123]], requires_grad=True),\n",
       " Parameter containing:\n",
       " tensor([0., 0.])]"
      ]
     },
     "execution_count": 62,
     "metadata": {},
     "output_type": "execute_result"
    },
    {
     "data": {
      "image/png": "[encoded data removed]",
      "text/plain": [
       "<Figure size 432x288 with 1 Axes>"
      ]
     },
     "metadata": {
      "needs_background": "light"
     },
     "output_type": "display_data"
    }
   ],
   "source": [
    "approximate(lambda x: int(x<-0.5)*torch.exp(-(x+0.5)**2) + int(x>0.5)*torch.exp(-(x-0.5)**2) + int(-0.5<=x<=0.5), -3, 3)"
   ]
  },
  {
   "cell_type": "code",
   "execution_count": 63,
   "metadata": {},
   "outputs": [
    {
     "name": "stdout",
     "output_type": "stream",
     "text": [
      "Epoch 1, Training loss 0.7584\n",
      "Epoch 500, Training loss 0.1200\n",
      "Epoch 1000, Training loss 0.1061\n",
      "Epoch 1500, Training loss 0.0899\n",
      "Epoch 2000, Training loss 0.0744\n",
      "Epoch 2500, Training loss 0.0615\n",
      "Epoch 3000, Training loss 0.0514\n",
      "Epoch 3500, Training loss 0.0437\n",
      "Epoch 4000, Training loss 0.0385\n",
      "Epoch 4500, Training loss 0.0355\n",
      "Epoch 5000, Training loss 0.0340\n",
      "Epoch 5500, Training loss 0.0333\n",
      "Epoch 6000, Training loss 0.0330\n",
      "Epoch 6500, Training loss 0.0328\n",
      "Epoch 7000, Training loss 0.0327\n",
      "Epoch 7500, Training loss 0.0327\n",
      "Epoch 8000, Training loss 0.0326\n",
      "Epoch 8500, Training loss 0.0326\n",
      "Epoch 9000, Training loss 0.0326\n",
      "Epoch 9500, Training loss 0.0326\n",
      "Epoch 10000, Training loss 0.0325\n"
     ]
    },
    {
     "data": {
      "text/plain": [
       "[Parameter containing:\n",
       " tensor([[ 0.3489, -0.1644],\n",
       "         [-0.1008, -0.0864],\n",
       "         [-0.1418, -0.3429]], requires_grad=True),\n",
       " Parameter containing:\n",
       " tensor([0., 0., 0.]),\n",
       " Parameter containing:\n",
       " tensor([[ 0.6188, -0.0568, -0.2824],\n",
       "         [-0.2723, -0.0809, -0.6123]], requires_grad=True),\n",
       " Parameter containing:\n",
       " tensor([0., 0.])]"
      ]
     },
     "execution_count": 63,
     "metadata": {},
     "output_type": "execute_result"
    },
    {
     "data": {
      "image/png": "[encoded data removed]",
      "text/plain": [
       "<Figure size 432x288 with 1 Axes>"
      ]
     },
     "metadata": {
      "needs_background": "light"
     },
     "output_type": "display_data"
    }
   ],
   "source": [
    "approximate(lambda x: int(-0.5<=x<=0.5), -3, 3, n_epochs = 10000)"
   ]
  },
  {
   "cell_type": "code",
   "execution_count": 64,
   "metadata": {},
   "outputs": [
    {
     "name": "stdout",
     "output_type": "stream",
     "text": [
      "Epoch 1, Training loss 0.4180\n",
      "Epoch 500, Training loss 0.1366\n",
      "Epoch 1000, Training loss 0.1360\n",
      "Epoch 1500, Training loss 0.1352\n",
      "Epoch 2000, Training loss 0.1339\n",
      "Epoch 2500, Training loss 0.1319\n",
      "Epoch 3000, Training loss 0.1286\n",
      "Epoch 3500, Training loss 0.1231\n",
      "Epoch 4000, Training loss 0.1074\n",
      "Epoch 4500, Training loss 0.0699\n",
      "Epoch 5000, Training loss 0.0284\n",
      "Epoch 5500, Training loss 0.0150\n",
      "Epoch 6000, Training loss 0.0107\n",
      "Epoch 6500, Training loss 0.0018\n",
      "Epoch 7000, Training loss 0.0014\n",
      "Epoch 7500, Training loss 0.0035\n",
      "Epoch 8000, Training loss 0.0011\n",
      "Epoch 8500, Training loss 0.0010\n",
      "Epoch 9000, Training loss 0.0009\n",
      "Epoch 9500, Training loss 0.0008\n",
      "Epoch 10000, Training loss 0.0008\n"
     ]
    },
    {
     "data": {
      "text/plain": [
       "[Parameter containing:\n",
       " tensor([[ 0.3489, -0.1644],\n",
       "         [-0.1008, -0.0864],\n",
       "         [-0.1418, -0.3429]], requires_grad=True),\n",
       " Parameter containing:\n",
       " tensor([0., 0., 0.]),\n",
       " Parameter containing:\n",
       " tensor([[ 0.6188, -0.0568, -0.2824],\n",
       "         [-0.2723, -0.0809, -0.6123]], requires_grad=True),\n",
       " Parameter containing:\n",
       " tensor([0., 0.])]"
      ]
     },
     "execution_count": 64,
     "metadata": {},
     "output_type": "execute_result"
    },
    {
     "data": {
      "image/png": "[encoded data removed]",
      "text/plain": [
       "<Figure size 432x288 with 1 Axes>"
      ]
     },
     "metadata": {
      "needs_background": "light"
     },
     "output_type": "display_data"
    }
   ],
   "source": [
    "approximate(lambda x: int(-0.5<=x<=0.5), -3, 3, n_epochs = 10000, n_layers =5)"
   ]
  },
  {
   "cell_type": "markdown",
   "metadata": {},
   "source": [
    "### Visualization of radial functions"
   ]
  },
  {
   "cell_type": "code",
   "execution_count": 65,
   "metadata": {},
   "outputs": [
    {
     "data": {
      "image/png": "[encoded data removed]",
      "text/plain": [
       "<Figure size 432x288 with 1 Axes>"
      ]
     },
     "metadata": {
      "needs_background": "light"
     },
     "output_type": "display_data"
    }
   ],
   "source": [
    "x_test = [-3 + i/20 for i in range(121)]\n",
    "for c in range(-3,4):\n",
    "    plt.plot(x_test, [c]*len(x_test), color='blue')\n",
    "    plt.plot([c]*len(x_test), x_test, color='blue')"
   ]
  },
  {
   "cell_type": "code",
   "execution_count": 66,
   "metadata": {},
   "outputs": [],
   "source": [
    "def norm(vec):\n",
    "    return math.sqrt(sum([vi**2 for vi in vec]))\n",
    "\n",
    "squash = lambda r : r/(1+ r**2)"
   ]
  },
  {
   "cell_type": "code",
   "execution_count": 67,
   "metadata": {},
   "outputs": [
    {
     "data": {
      "image/png": "[encoded data removed]",
      "text/plain": [
       "<Figure size 432x288 with 1 Axes>"
      ]
     },
     "metadata": {
      "needs_background": "light"
     },
     "output_type": "display_data"
    }
   ],
   "source": [
    "for c in range(-3,4):\n",
    "    scalar = [squash(norm((x, c))) for x in x_test]\n",
    "    x1 = [(scalar[i]*x_test[i], scalar[i]*c) for i in range(len(x_test)) ]\n",
    "    plt.plot([x1[i][0] for i in range(len(x1))], [x1[i][1] for i in range(len(x1))], color = 'blue')\n",
    "    plt.plot([x1[i][1] for i in range(len(x1))], [x1[i][0] for i in range(len(x1))], color = 'blue')\n"
   ]
  },
  {
   "cell_type": "code",
   "execution_count": 68,
   "metadata": {},
   "outputs": [
    {
     "data": {
      "image/png": "[encoded data removed]",
      "text/plain": [
       "<Figure size 432x288 with 1 Axes>"
      ]
     },
     "metadata": {
      "needs_background": "light"
     },
     "output_type": "display_data"
    }
   ],
   "source": [
    "v1 = 7\n",
    "v2 = -3\n",
    "k = 1\n",
    "\n",
    "for c in range(-3,4):\n",
    "    scalar = [squash(norm((x, c))) for x in x_test]\n",
    "    vert = [(scalar[i]*x_test[i], scalar[i]*c) for i in range(len(x_test)) ]\n",
    "    horiz = [(scalar[i]*c, scalar[i]*x_test[i]) for i in range(len(x_test)) ]\n",
    "    z2_vert = [v1*x[0] + v2*x[1]+ k for x in vert]\n",
    "    z2_horiz = [v1*x[0] + v2*x[1]+ k for x in horiz]\n",
    "    plt.plot(x_test, z2_vert, color='blue')\n",
    "    plt.plot([c]*len(x_test), z2_horiz, color='blue')"
   ]
  },
  {
   "cell_type": "code",
   "execution_count": null,
   "metadata": {},
   "outputs": [],
   "source": []
  },
  {
   "cell_type": "markdown",
   "metadata": {},
   "source": [
    "### More visualization of radial functions "
   ]
  },
  {
   "cell_type": "code",
   "execution_count": 69,
   "metadata": {},
   "outputs": [
    {
     "data": {
      "text/plain": [
       "[<matplotlib.lines.Line2D at 0x12aac40a0>]"
      ]
     },
     "execution_count": 69,
     "metadata": {},
     "output_type": "execute_result"
    },
    {
     "data": {
      "image/png": "[encoded data removed]",
      "text/plain": [
       "<Figure size 432x288 with 1 Axes>"
      ]
     },
     "metadata": {
      "needs_background": "light"
     },
     "output_type": "display_data"
    }
   ],
   "source": [
    "x_test = [-5 + i/10 for i in range(101)]\n",
    "w1 = 3\n",
    "w2 = 2\n",
    "b1 = 1\n",
    "b2 = 1.5\n",
    "z1 = [(w1*x + b1, w2*x+ b2) for x in x_test]\n",
    "plt.plot([z1[i][0] for i in range(len(z1))], [z1[i][1] for i in range(len(z1))])"
   ]
  },
  {
   "cell_type": "code",
   "execution_count": 70,
   "metadata": {},
   "outputs": [
    {
     "data": {
      "text/plain": [
       "[<matplotlib.lines.Line2D at 0x12ab59160>]"
      ]
     },
     "execution_count": 70,
     "metadata": {},
     "output_type": "execute_result"
    },
    {
     "data": {
      "image/png": "[encoded data removed]",
      "text/plain": [
       "<Figure size 432x288 with 1 Axes>"
      ]
     },
     "metadata": {
      "needs_background": "light"
     },
     "output_type": "display_data"
    }
   ],
   "source": [
    "def norm(vec):\n",
    "    return math.sqrt(sum([vi**2 for vi in vec]))\n",
    "\n",
    "squash = lambda r : r/(1+ r**2)\n",
    "\n",
    "z1_scalar = [squash(norm(z1[i])) for i in range(len(z1))]\n",
    "x1 = [(z1_scalar[i]*z1[i][0], z1_scalar[i]*z1[i][1]) for i in range(len(z1)) ]\n",
    "plt.plot([x1[i][0] for i in range(len(x1))], [x1[i][1] for i in range(len(x1))])"
   ]
  },
  {
   "cell_type": "code",
   "execution_count": 71,
   "metadata": {},
   "outputs": [
    {
     "data": {
      "text/plain": [
       "[<matplotlib.lines.Line2D at 0x12ae8ad30>]"
      ]
     },
     "execution_count": 71,
     "metadata": {},
     "output_type": "execute_result"
    },
    {
     "data": {
      "image/png": "[encoded data removed]",
      "text/plain": [
       "<Figure size 432x288 with 1 Axes>"
      ]
     },
     "metadata": {
      "needs_background": "light"
     },
     "output_type": "display_data"
    }
   ],
   "source": [
    "v1 = 10\n",
    "v2 = 10\n",
    "c = 0\n",
    "z2 = [v1*x[0] + v2*x[1]+ c for x in x1]\n",
    "plt.plot(x_test, z2)"
   ]
  },
  {
   "cell_type": "code",
   "execution_count": 72,
   "metadata": {},
   "outputs": [
    {
     "data": {
      "text/plain": [
       "([(-0.851612816929355, -0.5170506388499655),\n",
       "  (-0.851961223749313, -0.5161516903006786),\n",
       "  (-0.8523212889937188, -0.5152091373768003),\n",
       "  (-0.8526935173139283, -0.5142197547160331),\n",
       "  (-0.8530784304585403, -0.5131799933227156)],\n",
       " [(0.807967880821992, 0.5841389408645483),\n",
       "  (0.8084896479444384, 0.5836117326221443),\n",
       "  (0.8089896026841881, 0.5831028954412004),\n",
       "  (0.8094690695474291, 0.5826114959163025),\n",
       "  (0.8099292689115182, 0.5821366620301537)])"
      ]
     },
     "execution_count": 72,
     "metadata": {},
     "output_type": "execute_result"
    }
   ],
   "source": [
    "x1[:5], x1[-5:]"
   ]
  },
  {
   "cell_type": "code",
   "execution_count": 73,
   "metadata": {},
   "outputs": [
    {
     "data": {
      "text/plain": [
       "13.921068216865404"
      ]
     },
     "execution_count": 73,
     "metadata": {},
     "output_type": "execute_result"
    }
   ],
   "source": [
    "0.807967880821992*v1 +  0.5841389408645483*v2 + c"
   ]
  },
  {
   "cell_type": "code",
   "execution_count": 74,
   "metadata": {},
   "outputs": [],
   "source": [
    "def two_layer_squash(w1, w2, b1, b2, v1, v2, c):\n",
    "    x_test = [-5 + i/10 for i in range(101)]\n",
    "    z1 = [(w1*x + b1, w2*x+ b2) for x in x_test]\n",
    "    z1_scalar = [squash(norm(z1[i])) for i in range(len(z1))]\n",
    "    x1 = [(z1_scalar[i]*z1[i][0], z1_scalar[i]*z1[i][1]) for i in range(len(z1)) ]\n",
    "    z2 = [v1*x[0] + v2*x[1]+ c for x in x1]\n",
    "    plt.plot(x_test, z2)\n",
    "    return\n"
   ]
  },
  {
   "cell_type": "code",
   "execution_count": 75,
   "metadata": {},
   "outputs": [
    {
     "data": {
      "image/png": "[encoded data removed]",
      "text/plain": [
       "<Figure size 432x288 with 1 Axes>"
      ]
     },
     "metadata": {
      "needs_background": "light"
     },
     "output_type": "display_data"
    }
   ],
   "source": [
    "two_layer_squash(w1=3, w2=1, b1=-2, b2=0, v1=10, v2=10, c=0)"
   ]
  },
  {
   "cell_type": "markdown",
   "metadata": {},
   "source": [
    "### Approximate pointwise sigmoid"
   ]
  },
  {
   "cell_type": "code",
   "execution_count": 76,
   "metadata": {},
   "outputs": [],
   "source": [
    "## code goes here ..."
   ]
  },
  {
   "cell_type": "code",
   "execution_count": null,
   "metadata": {},
   "outputs": [],
   "source": []
  },
  {
   "cell_type": "code",
   "execution_count": null,
   "metadata": {},
   "outputs": [],
   "source": []
  },
  {
   "cell_type": "code",
   "execution_count": null,
   "metadata": {},
   "outputs": [],
   "source": []
  },
  {
   "cell_type": "markdown",
   "metadata": {},
   "source": [
    "### Different versions of the nn.Module for radial neural networks"
   ]
  },
  {
   "cell_type": "code",
   "execution_count": 77,
   "metadata": {},
   "outputs": [],
   "source": [
    "## Specified version\n",
    "\n",
    "class RadAct_SpecifiedBias(nn.Module):\n",
    "    def __init__(self, bias=0, eta = F.relu, epsilon = 1e-6):\n",
    "        super().__init__()\n",
    "        self.bias = torch.nn.parameter.Parameter(bias)\n",
    "        self.eta = eta\n",
    "        self.epsilon = epsilon\n",
    "        \n",
    "    def forward(self,x):\n",
    "        # x: [Batch x Channel]\n",
    "        r = torch.linalg.norm(x, dim=-1) + self.epsilon\n",
    "        scalar = self.eta(r + self.bias) / r\n",
    "        return x * scalar.unsqueeze(-1) "
   ]
  },
  {
   "cell_type": "code",
   "execution_count": 78,
   "metadata": {},
   "outputs": [],
   "source": [
    "## Specified version\n",
    "\n",
    "class RadNet_SpecifiedParameters(nn.Module):\n",
    "    \n",
    "    def __init__(self, eta, W, biases):\n",
    "        super(RadNet, self).__init__()\n",
    "        self.eta = eta\n",
    "        self.depth = len(W)\n",
    "        self.dims = [W[0].shape[1]-1] + [w.shape[0] for w in W]\n",
    "        self.hidden_layers = nn.ModuleList([nn.Linear(self.dims[i], self.dims[i+1]) for i in range(len(self.dims)-2)])\n",
    "        self.output_layer = nn.Linear(self.dims[-2],self.dims[-1])\n",
    "        \n",
    "        with torch.no_grad():\n",
    "            for hl,w in zip(self.hidden_layers, W[:-1]):\n",
    "                hl.weight = torch.nn.parameter.Parameter(torch.tensor(w[:,1:]))\n",
    "                hl.bias = torch.nn.parameter.Parameter(torch.tensor(w[:,0]))\n",
    "            self.output_layer.weight = torch.nn.parameter.Parameter(torch.tensor(W[-1][:,1:]))\n",
    "            self.output_layer.bias = torch.nn.parameter.Parameter(torch.tensor(W[-1][:,0]))\n",
    "        \n",
    "        assert len(biases) == self.depth -1\n",
    "        self.act_fn =nn.ModuleList([RadAct(self.eta, biases[d]) for d in range(1,self.depth)])\n",
    "        \n",
    "    def forward(self, x):\n",
    "        h = x\n",
    "        for lin,act in zip(self.hidden_layers, self.act_fn):\n",
    "            h = act(lin(h))\n",
    "        return self.output_layer(h)\n",
    "    \n",
    "    def export_W(self):\n",
    "        W = []\n",
    "        for hl in self.hidden_layers:\n",
    "            A = hl.weight.detach().cpu().numpy()\n",
    "            b = hl.bias.detach().cpu().numpy()\n",
    "            W.append(np.concatenate((np.expand_dims(b, 1), A), axis =1))\n",
    "        A = self.output_layer.weight.detach().cpu().numpy()\n",
    "        b = self.output_layer.bias.detach().cpu().numpy()\n",
    "        W.append(np.concatenate((np.expand_dims(b, 1), A), axis =1))\n",
    "        return W\n",
    "        # We may want to return a representation object"
   ]
  },
  {
   "cell_type": "code",
   "execution_count": 79,
   "metadata": {},
   "outputs": [],
   "source": [
    "## Modifiable version\n",
    "\n",
    "class RadAct_Modifiable(nn.Module):\n",
    "    def __init__(self, eta = F.relu, random_bias=True, epsilon = 1e-6):\n",
    "        super().__init__()\n",
    "        self.epsilon = epsilon\n",
    "        if self.random_bias:\n",
    "            bias = -1*torch.rand(1)\n",
    "            self.bias = torch.nn.parameter.Parameter(bias)\n",
    "        else:\n",
    "            self.bias = 0\n",
    "        self.eta = eta\n",
    "    \n",
    "    def set_bias(self, bias):\n",
    "        self.bias = bias\n",
    "        \n",
    "    def forward(self,x):\n",
    "        # x: [Batch x Channel]\n",
    "        r = torch.linalg.norm(x, dim=-1) + self.epsilon\n",
    "        scalar = self.eta(r + self.bias) / r\n",
    "        return x * scalar.unsqueeze(-1)  "
   ]
  },
  {
   "cell_type": "code",
   "execution_count": 80,
   "metadata": {},
   "outputs": [],
   "source": [
    "## Modifiable version\n",
    "\n",
    "class RadNet_Modifiable(nn.Module):\n",
    "    \n",
    "    def __init__(self, eta, depth, random_bias=True):\n",
    "        # Two cases: (1) weights are initialized randomly, and (2) weights are provided\n",
    "        # Idea: make random initialization the default, but add a method for overwriting\n",
    "        super(RadNet, self).__init__()\n",
    "        self.eta = eta\n",
    "        self.depth = depth\n",
    "        self.hidden_layers = nn.ModuleList([nn.Linear(d, d+1) for d in range(1,self.depth)])\n",
    "        self.output_layer = nn.Linear(self.depth,1)\n",
    "        self.act_fn =nn.ModuleList([RadAct_Modifiable(self.eta, random_bias) for d in range(1,self.depth)])\n",
    "    \n",
    "    def set_weights(self, W):\n",
    "        assert len(W) == self.depth\n",
    "        self.dims = [W[0].shape[1]-1] + [w.shape[0] for w in W]\n",
    "        self.hidden_layers = nn.ModuleList([nn.Linear(self.dims[i], self.dims[i+1]) for i in range(len(self.dims)-2)])\n",
    "        self.output_layer = nn.Linear(self.dims[-2],self.dims[-1])\n",
    "        with torch.no_grad():\n",
    "            for hl,w in zip(self.hidden_layers, W[:-1]):\n",
    "                hl.weight = torch.nn.parameter.Parameter(torch.tensor(w[:,1:]))\n",
    "                hl.bias = torch.nn.parameter.Parameter(torch.tensor(w[:,0]))\n",
    "            self.output_layer.weight = torch.nn.parameter.Parameter(torch.tensor(W[-1][:,1:]))\n",
    "            self.output_layer.bias = torch.nn.parameter.Parameter(torch.tensor(W[-1][:,0]))\n",
    "            \n",
    "    def set_activation_biases(self, biases):\n",
    "        assert len(biases) == self.depth -1\n",
    "        self.act_fn =nn.ModuleList([RadAct_Modifiable(self.eta, biases[d]) for d in range(1,self.depth)])\n",
    "  \n",
    "    def forward(self, x):\n",
    "        h = x\n",
    "        for lin,act in zip(self.hidden_layers, self.act_fn):\n",
    "            h = act(lin(h))\n",
    "        return self.output_layer(h)\n",
    "    \n",
    "    def export_W(self):\n",
    "        W = []\n",
    "        for hl in self.hidden_layers:\n",
    "            A = hl.weight.detach().cpu().numpy()\n",
    "            b = hl.bias.detach().cpu().numpy()\n",
    "            W.append(np.concatenate((np.expand_dims(b, 1), A), axis =1))\n",
    "        A = self.output_layer.weight.detach().cpu().numpy()\n",
    "        b = self.output_layer.bias.detach().cpu().numpy()\n",
    "        W.append(np.concatenate((np.expand_dims(b, 1), A), axis =1))\n",
    "        return W\n",
    "        # We may want to return a representation object"
   ]
  },
  {
   "cell_type": "markdown",
   "metadata": {},
   "source": [
    "### Scraps"
   ]
  },
  {
   "cell_type": "code",
   "execution_count": 81,
   "metadata": {},
   "outputs": [
    {
     "data": {
      "text/plain": [
       "([array([[ 0.        ,  0.3489192 , -0.16436894],\n",
       "         [ 0.        , -0.10084303, -0.08635308],\n",
       "         [ 0.        , -0.14182298, -0.34288305]], dtype=float32),\n",
       "  array([[ 0.        ,  0.6188494 , -0.0567807 , -0.28235334],\n",
       "         [ 0.        , -0.27228287, -0.08092189, -0.61233014]],\n",
       "        dtype=float32)],\n",
       " [array([[ 1.        ,  0.        ,  0.        ],\n",
       "         [ 0.        , -0.57948995, -0.8149794 ],\n",
       "         [ 0.        , -0.8149794 ,  0.57948995]], dtype=float32)],\n",
       " [array([[ 0.        ,  0.3489192 , -0.16436894],\n",
       "         [ 0.        ,  0.17402032,  0.32948336],\n",
       "         [ 0.        ,  0.        , -0.1283213 ]], dtype=float32),\n",
       "  array([[ 0.        ,  0.6188494 ,  0.263016  , -0.11734582],\n",
       "         [ 0.        , -0.27228287,  0.54592985, -0.28888949]])],\n",
       " [array([[0., 0., 0.],\n",
       "         [0., 0., 0.],\n",
       "         [0., 0., 0.]]),\n",
       "  array([[0., 0., 0., 0.],\n",
       "         [0., 0., 0., 0.]])])"
      ]
     },
     "execution_count": 81,
     "metadata": {},
     "output_type": "execute_result"
    }
   ],
   "source": [
    "rep = representation(radnet.export_W())\n",
    "rep.QRDecomposition()\n",
    "W_red = rep.R[:]\n",
    "rep.W, rep.Q, rep.R, rep.U"
   ]
  },
  {
   "cell_type": "code",
   "execution_count": 82,
   "metadata": {},
   "outputs": [
    {
     "ename": "RuntimeError",
     "evalue": "shape '[2, 1]' is invalid for input of size 3",
     "output_type": "error",
     "traceback": [
      "\u001b[0;31m---------------------------------------------------------------------------\u001b[0m",
      "\u001b[0;31mRuntimeError\u001b[0m                              Traceback (most recent call last)",
      "\u001b[0;32m<ipython-input-82-a4e0a1023620>\u001b[0m in \u001b[0;36m<module>\u001b[0;34m\u001b[0m\n\u001b[0;32m----> 1\u001b[0;31m \u001b[0mlinear_weight1\u001b[0m \u001b[0;34m=\u001b[0m \u001b[0mtorch\u001b[0m\u001b[0;34m.\u001b[0m\u001b[0mtensor\u001b[0m\u001b[0;34m(\u001b[0m\u001b[0mW_red\u001b[0m\u001b[0;34m[\u001b[0m\u001b[0;36m0\u001b[0m\u001b[0;34m]\u001b[0m\u001b[0;34m[\u001b[0m\u001b[0;34m:\u001b[0m\u001b[0;34m,\u001b[0m\u001b[0;36m1\u001b[0m\u001b[0;34m]\u001b[0m\u001b[0;34m,\u001b[0m \u001b[0mdtype\u001b[0m\u001b[0;34m=\u001b[0m\u001b[0mtorch\u001b[0m\u001b[0;34m.\u001b[0m\u001b[0mfloat32\u001b[0m\u001b[0;34m)\u001b[0m\u001b[0;34m.\u001b[0m\u001b[0mreshape\u001b[0m\u001b[0;34m(\u001b[0m\u001b[0;36m2\u001b[0m\u001b[0;34m,\u001b[0m\u001b[0;36m1\u001b[0m\u001b[0;34m)\u001b[0m\u001b[0;34m\u001b[0m\u001b[0;34m\u001b[0m\u001b[0m\n\u001b[0m\u001b[1;32m      2\u001b[0m \u001b[0mprint\u001b[0m\u001b[0;34m(\u001b[0m\u001b[0mradnet_red\u001b[0m\u001b[0;34m.\u001b[0m\u001b[0mhidden_layers\u001b[0m\u001b[0;34m[\u001b[0m\u001b[0;36m0\u001b[0m\u001b[0;34m]\u001b[0m\u001b[0;34m.\u001b[0m\u001b[0mweight\u001b[0m\u001b[0;34m.\u001b[0m\u001b[0mshape\u001b[0m\u001b[0;34m)\u001b[0m\u001b[0;34m\u001b[0m\u001b[0;34m\u001b[0m\u001b[0m\n\u001b[1;32m      3\u001b[0m \u001b[0mradnet_red\u001b[0m\u001b[0;34m.\u001b[0m\u001b[0mhidden_layers\u001b[0m\u001b[0;34m[\u001b[0m\u001b[0;36m0\u001b[0m\u001b[0;34m]\u001b[0m\u001b[0;34m.\u001b[0m\u001b[0mweight\u001b[0m \u001b[0;34m=\u001b[0m \u001b[0mtorch\u001b[0m\u001b[0;34m.\u001b[0m\u001b[0mnn\u001b[0m\u001b[0;34m.\u001b[0m\u001b[0mparameter\u001b[0m\u001b[0;34m.\u001b[0m\u001b[0mParameter\u001b[0m\u001b[0;34m(\u001b[0m\u001b[0mlinear_weight1\u001b[0m\u001b[0;34m)\u001b[0m\u001b[0;34m\u001b[0m\u001b[0;34m\u001b[0m\u001b[0m\n\u001b[1;32m      4\u001b[0m \u001b[0mradnet_red\u001b[0m\u001b[0;34m.\u001b[0m\u001b[0mhidden_layers\u001b[0m\u001b[0;34m[\u001b[0m\u001b[0;36m0\u001b[0m\u001b[0;34m]\u001b[0m\u001b[0;34m.\u001b[0m\u001b[0mweight\u001b[0m\u001b[0;34m,\u001b[0m \u001b[0mradnet_red\u001b[0m\u001b[0;34m.\u001b[0m\u001b[0mhidden_layers\u001b[0m\u001b[0;34m[\u001b[0m\u001b[0;36m0\u001b[0m\u001b[0;34m]\u001b[0m\u001b[0;34m.\u001b[0m\u001b[0mweight\u001b[0m\u001b[0;34m.\u001b[0m\u001b[0mshape\u001b[0m\u001b[0;34m\u001b[0m\u001b[0;34m\u001b[0m\u001b[0m\n",
      "\u001b[0;31mRuntimeError\u001b[0m: shape '[2, 1]' is invalid for input of size 3"
     ]
    }
   ],
   "source": [
    "linear_weight1 = torch.tensor(W_red[0][:,1], dtype=torch.float32).reshape(2,1)\n",
    "print(radnet_red.hidden_layers[0].weight.shape)\n",
    "radnet_red.hidden_layers[0].weight = torch.nn.parameter.Parameter(linear_weight1)\n",
    "radnet_red.hidden_layers[0].weight, radnet_red.hidden_layers[0].weight.shape"
   ]
  },
  {
   "cell_type": "code",
   "execution_count": null,
   "metadata": {},
   "outputs": [],
   "source": [
    "linear_weight2 = torch.tensor(W_red[1][:,1:], dtype=torch.float32).reshape(1,2)\n",
    "print(radnet_red.output_layer.weight.shape)\n",
    "radnet_red.output_layer.weight = torch.nn.parameter.Parameter(linear_weight2)\n",
    "radnet_red.output_layer.weight, radnet_red.output_layer.weight.shape"
   ]
  },
  {
   "cell_type": "code",
   "execution_count": null,
   "metadata": {},
   "outputs": [],
   "source": [
    "linear_bias1 = torch.tensor(W_red[0][:,0], dtype=torch.float32)\n",
    "print(radnet_red.hidden_layers[0].bias.shape)\n",
    "radnet_red.hidden_layers[0].bias = torch.nn.parameter.Parameter(linear_bias1)\n",
    "radnet_red.hidden_layers[0].bias, radnet_red.hidden_layers[0].bias.shape"
   ]
  },
  {
   "cell_type": "code",
   "execution_count": null,
   "metadata": {
    "scrolled": true
   },
   "outputs": [],
   "source": [
    "linear_bias2 = torch.tensor(W_red[1][:,0], dtype=torch.float32)\n",
    "print(radnet_red.output_layer.bias.shape)\n",
    "radnet_red.output_layer.bias = torch.nn.parameter.Parameter(linear_bias2)\n",
    "radnet_red.output_layer.bias, radnet_red.output_layer.bias.shape"
   ]
  },
  {
   "cell_type": "code",
   "execution_count": null,
   "metadata": {},
   "outputs": [],
   "source": [
    "radnet_red.act_fn[0].bias = radnet.act_fn[0].bias"
   ]
  },
  {
   "cell_type": "code",
   "execution_count": null,
   "metadata": {},
   "outputs": [],
   "source": [
    "model_trained.export_W()\n",
    "radnet.export_W()"
   ]
  },
  {
   "cell_type": "code",
   "execution_count": null,
   "metadata": {},
   "outputs": [],
   "source": [
    "ex_rep_trained = representation(model_trained.export_W())\n",
    "ex_rep_trained.QRDecomposition()\n",
    "#ex_rep_trained.W, ex_rep_trained.Q, ex_rep_trained.R, ex_rep_trained.U"
   ]
  },
  {
   "cell_type": "code",
   "execution_count": null,
   "metadata": {},
   "outputs": [],
   "source": [
    "num_workers = 0\n",
    "batch_size = 16\n",
    "transform = transforms.ToTensor()\n",
    "data_path = '../data/mnist/'\n",
    "train_data = datasets.MNIST(data_path, train=True,\n",
    "                                   download=True, transform=transform)\n",
    "test_data = datasets.MNIST(data_path, train=False,\n",
    "                                  download=True, transform=transform)\n",
    "train_loader = torch.utils.data.DataLoader(train_data, batch_size=batch_size,\n",
    "    num_workers=num_workers)\n",
    "test_loader = torch.utils.data.DataLoader(test_data, batch_size=batch_size, \n",
    "    num_workers=num_workers)"
   ]
  },
  {
   "cell_type": "code",
   "execution_count": null,
   "metadata": {},
   "outputs": [],
   "source": [
    "dataiter = iter(train_loader)\n",
    "images, labels = dataiter.next()\n",
    "print(images.shape)\n",
    "print(labels.shape)\n",
    "images = images.numpy()\n",
    "fig = plt.figure(figsize=(25, 4))\n",
    "for idx in np.arange(16):\n",
    "    ax = fig.add_subplot(2, 16/2, idx+1, xticks=[], yticks=[])\n",
    "    ax.imshow(np.squeeze(images[idx]), cmap='gray')\n",
    "    ax.set_title(str(labels[idx].item()))"
   ]
  },
  {
   "cell_type": "code",
   "execution_count": null,
   "metadata": {},
   "outputs": [],
   "source": [
    "\n",
    "n_epochs = 5 \n",
    "radnet.train()\n",
    "\n",
    "for epoch in range(n_epochs):\n",
    "    train_loss = 0.0\n",
    "    \n",
    "    for data, target in train_loader:\n",
    "        data = data.to(device)\n",
    "        target = target.to(device)\n",
    "        optimizer.zero_grad()\n",
    "        output = radnet(data)\n",
    "        loss = criterion(output, target)\n",
    "        loss.backward()\n",
    "        optimizer.step()\n",
    "        train_loss += loss.item()*data.size(0)\n",
    "        \n",
    "    train_loss = train_loss/len(train_loader.dataset)\n",
    "\n",
    "    print('Epoch: {} \\tTraining Loss: {:.6f}'.format(\n",
    "        epoch+1, \n",
    "        train_loss\n",
    "        ))"
   ]
  },
  {
   "cell_type": "code",
   "execution_count": null,
   "metadata": {},
   "outputs": [],
   "source": []
  },
  {
   "cell_type": "markdown",
   "metadata": {},
   "source": [
    "### Scraps"
   ]
  },
  {
   "cell_type": "code",
   "execution_count": null,
   "metadata": {},
   "outputs": [],
   "source": [
    "A0 = radnet.hidden_layers[0].weight.detach().cpu().numpy()\n",
    "b0 = radnet.hidden_layers[0].bias.detach().cpu().numpy()\n",
    "W0 = np.concatenate((np.expand_dims(b0, 1), A0), axis =1)\n",
    "W0"
   ]
  },
  {
   "cell_type": "code",
   "execution_count": null,
   "metadata": {
    "scrolled": true
   },
   "outputs": [],
   "source": [
    "W = []\n",
    "for hl in radnet.hidden_layers:\n",
    "    A = hl.weight.detach().cpu().numpy()\n",
    "    b = hl.bias.detach().cpu().numpy()\n",
    "    W.append(np.concatenate((np.expand_dims(b, 1), A), axis =1))\n",
    "A = radnet.output_layer.weight.detach().cpu().numpy()\n",
    "b = radnet.output_layer.bias.detach().cpu().numpy()\n",
    "W.append(np.concatenate((np.expand_dims(b, 1), A), axis =1))\n",
    "    \n",
    "W    "
   ]
  },
  {
   "cell_type": "code",
   "execution_count": null,
   "metadata": {},
   "outputs": [],
   "source": [
    "A0 = radnet.hidden_layers[0].weight.detach().cpu().numpy()\n",
    "A0.shape"
   ]
  },
  {
   "cell_type": "code",
   "execution_count": null,
   "metadata": {
    "scrolled": true
   },
   "outputs": [],
   "source": [
    "b0 = radnet.hidden_layers[0].bias.detach().cpu().numpy()\n",
    "b0, b0.shape, np.expand_dims(b0, 1), np.expand_dims(b0, 1).shape"
   ]
  },
  {
   "cell_type": "code",
   "execution_count": null,
   "metadata": {},
   "outputs": [],
   "source": [
    "b0[:,np.newaxis]"
   ]
  },
  {
   "cell_type": "code",
   "execution_count": null,
   "metadata": {
    "ExecuteTime": {
     "end_time": "2021-03-31T15:44:36.269113Z",
     "start_time": "2021-03-31T15:44:36.263122Z"
    }
   },
   "outputs": [],
   "source": [
    "radact = RadAct()\n",
    "x = torch.tensor([[1.,2.,3.],\n",
    "                  [-1.,-1.,0.]])\n",
    "#Test\n",
    "print(radact.bias)\n",
    "print(torch.linalg.norm(x, dim=-1))\n",
    "print(radact(x))"
   ]
  },
  {
   "cell_type": "code",
   "execution_count": null,
   "metadata": {
    "ExecuteTime": {
     "end_time": "2021-03-31T15:45:04.706624Z",
     "start_time": "2021-03-31T15:45:04.699876Z"
    }
   },
   "outputs": [],
   "source": [
    "radact = RadAct(eta = lambda x : x**2/(1+x**2), has_bias= False)\n",
    "x = torch.tensor([[1.,2.,3.],\n",
    "                  [-1.,-1.,0.]])\n",
    "#Test\n",
    "print(torch.linalg.norm(x, dim=-1))\n",
    "print(radact(x))"
   ]
  },
  {
   "cell_type": "code",
   "execution_count": null,
   "metadata": {
    "ExecuteTime": {
     "end_time": "2021-03-31T16:00:07.640978Z",
     "start_time": "2021-03-31T16:00:05.127087Z"
    },
    "scrolled": false
   },
   "outputs": [],
   "source": [
    "radnet = RadNet(depth=2,eta =torch.atan)\n",
    "radnet = radnet.to(device)\n",
    "print(radnet)"
   ]
  }
 ],
 "metadata": {
  "kernelspec": {
   "display_name": "Python 3",
   "language": "python",
   "name": "python3"
  },
  "language_info": {
   "codemirror_mode": {
    "name": "ipython",
    "version": 3
   },
   "file_extension": ".py",
   "mimetype": "text/x-python",
   "name": "python",
   "nbconvert_exporter": "python",
   "pygments_lexer": "ipython3",
   "version": "3.8.2"
  }
 },
 "nbformat": 4,
 "nbformat_minor": 2
}
