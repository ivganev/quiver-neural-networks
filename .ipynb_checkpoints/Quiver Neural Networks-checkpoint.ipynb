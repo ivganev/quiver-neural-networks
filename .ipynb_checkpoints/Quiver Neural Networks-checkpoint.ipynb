{
 "cells": [
  {
   "cell_type": "code",
   "execution_count": 1,
   "id": "martial-irish",
   "metadata": {},
   "outputs": [
    {
     "name": "stdout",
     "output_type": "stream",
     "text": [
      "Running on: cpu\n"
     ]
    }
   ],
   "source": [
    "from typing import List, Dict\n",
    "import torch\n",
    "import torch.nn as nn\n",
    "import torch.nn.functional as F\n",
    "import matplotlib.pyplot as plt\n",
    "%matplotlib inline\n",
    "from torchvision import datasets\n",
    "import torchvision.transforms as transforms\n",
    "import numpy as np\n",
    "dev = 'cpu'\n",
    "if torch.cuda.is_available():\n",
    "    dev = 'cuda:0'\n",
    "print(\"Running on:\",dev)\n",
    "device = torch.device(dev)"
   ]
  },
  {
   "cell_type": "markdown",
   "id": "discrete-gossip",
   "metadata": {},
   "source": [
    "# Quivers and quiver representations"
   ]
  },
  {
   "cell_type": "code",
   "execution_count": 2,
   "id": "allied-salad",
   "metadata": {},
   "outputs": [],
   "source": [
    "class quiver:\n",
    "    def __init__(self, vertices : List, edges : List):\n",
    "        self.vertices = vertices\n",
    "        # Add assert to check no repeated vertices\n",
    "        # E.g. assert len(set(vertices)) == len(vertices)\n",
    "        \n",
    "        self.edges = edges\n",
    "        # Add assert to check that edges is a list of pairs\n",
    "        # First entry of the pair is the sourse, second is the target\n",
    "        # Source and target of each edge should be in the vertex set      \n",
    "        # Separate class for edges? vertices?\n",
    "        \n",
    "    def check_acyclic(self):\n",
    "        None\n",
    "        # One way: find all sources, do depth-first search\n",
    "    \n",
    "    def get_incoming(self, vertex):\n",
    "        assert vertex in self.vertices, \"No such vertex found\"\n",
    "        return [e for e in self.edges if e[1] == vertex]\n",
    "        # Can get the incoming neighbors as [e[1] for e in self.get_incoming(vertex)]\n",
    "        "
   ]
  },
  {
   "cell_type": "code",
   "execution_count": 3,
   "id": "armed-graduate",
   "metadata": {},
   "outputs": [],
   "source": [
    "class quiver_rep:\n",
    "    def __init__(self, quiver: quiver, dims: Dict, matrices: Dict):\n",
    "        self.Q = quiver\n",
    "        self.dims = dims\n",
    "        self.matrices = matrices\n",
    "        \n",
    "        # Check the dimension vector\n",
    "        assert len(dims) == len(Q.vertices), \"Inappropriate dimension vector\"\n",
    "        for v in dims:\n",
    "            assert v in Q.vertices, \"Inappropriate dim vector\"\n",
    "            assert isinstance(dims[v], int) and dims[v] >=0, \"Inappropriate dim vector\"\n",
    "            \n",
    "        # Check the matrices\n",
    "        assert len(matrices) == len(Q.edges), \"Matrices error\"\n",
    "        for e in matrices:\n",
    "            assert e in Q.edges, \"Matrices error\"\n",
    "            assert isinstance(matrices[e], np.ndarray), \"Matrices error\" # May need fixing\n",
    "            assert np.shape(matrices[e]) == (dims[e[1]], dims[e[0]]), \"Dimension error\"\n",
    "            \n",
    "            \n",
    "    def compute_reduced_rep(self):\n",
    "        None\n",
    "        "
   ]
  },
  {
   "cell_type": "code",
   "execution_count": 4,
   "id": "israeli-feeling",
   "metadata": {},
   "outputs": [],
   "source": [
    "# EXAMPLE\n",
    "# Quiver with skip connections and no bias\n",
    "\n",
    "vertex_list = ['a', 'b', 'c']\n",
    "edge_list = [('a', 'b'), ('a','c'), ('b','c')]\n",
    "\n",
    "Q = quiver(vertex_list, edge_list)\n",
    "# print(Q.vertices, Q.edges)"
   ]
  },
  {
   "cell_type": "code",
   "execution_count": 5,
   "id": "dependent-patio",
   "metadata": {},
   "outputs": [],
   "source": [
    "# Representation of this quiver\n",
    "\n",
    "dim_vector = {'a': 2, 'b': 4, 'c':2 }\n",
    "\n",
    "maps = {('a', 'b') : np.random.rand(4, 2), \n",
    "        ('a','c') : np.random.rand(2, 2), \n",
    "        ('b','c') : np.random.rand(2, 4)}\n",
    "\n",
    "ex_rep = quiver_rep(Q, dim_vector, maps)"
   ]
  },
  {
   "cell_type": "code",
   "execution_count": null,
   "id": "indie-louisiana",
   "metadata": {},
   "outputs": [],
   "source": []
  },
  {
   "cell_type": "code",
   "execution_count": 6,
   "id": "plain-owner",
   "metadata": {},
   "outputs": [
    {
     "name": "stdout",
     "output_type": "stream",
     "text": [
      "<class 'numpy.ndarray'>\n",
      "True\n"
     ]
    }
   ],
   "source": [
    "# Troubleshooting\n",
    "\n",
    "W1 = np.random.rand(4, 2)\n",
    "print(type(W1))\n",
    "print(isinstance(W1, np.ndarray))"
   ]
  },
  {
   "cell_type": "code",
   "execution_count": null,
   "id": "prime-burlington",
   "metadata": {},
   "outputs": [],
   "source": []
  },
  {
   "cell_type": "code",
   "execution_count": null,
   "id": "fitted-smile",
   "metadata": {},
   "outputs": [],
   "source": []
  },
  {
   "cell_type": "markdown",
   "id": "north-simpson",
   "metadata": {},
   "source": [
    "# Dimensional reduction algorithm"
   ]
  },
  {
   "cell_type": "code",
   "execution_count": 7,
   "id": "laughing-windsor",
   "metadata": {},
   "outputs": [],
   "source": [
    "# This will eventually be incorporated in the quiver_rep class\n",
    "\n",
    "def QRDimRed(W : quiver_rep) -> quiver_rep:\n",
    "    dims = W.dims\n",
    "    matrices = W.matrices\n",
    "    quiver = W.Q\n",
    "    vertices = quiver.vertices\n",
    "    edges = quiver.edges\n",
    "    \n",
    "    Q = []\n",
    "    V = []\n",
    "    \n",
    "    print(quiver.edges)\n",
    "    print(quiver.vertices)\n",
    "    \n",
    "    for i in vertices:\n",
    "        incoming = quiver.get_incoming(i)\n",
    "        \n",
    "        if incoming == []:\n",
    "            print(i, \" is a source vertex\")\n",
    "            # Append identity matrix to Q\n",
    "            \n",
    "        else:\n",
    "            M = []\n",
    "            # Transform weights on incoming edges\n",
    "            # Extend M\n",
    "            \n",
    "            if True: \n",
    "                # if the reduced dimension vector is less than the original\n",
    "                # QR decomposition, mode = complete\n",
    "                None\n",
    "                \n",
    "            elif False:\n",
    "                # if i is not a sink\n",
    "                # QR decomposition\n",
    "                None\n",
    "                \n",
    "            else:\n",
    "                # Q = identity matrix\n",
    "                # R = M\n",
    "                None\n",
    "                \n",
    "            # Append Q_i to Q\n",
    "            # Extract V_e from R_i for all incoming edges e\n",
    "                \n",
    "    # return Q, V\n",
    "    \n",
    "    None\n"
   ]
  },
  {
   "cell_type": "code",
   "execution_count": 8,
   "id": "prime-hobby",
   "metadata": {},
   "outputs": [
    {
     "name": "stdout",
     "output_type": "stream",
     "text": [
      "[('a', 'b'), ('a', 'c'), ('b', 'c')]\n",
      "['a', 'b', 'c']\n",
      "a  is a source vertex\n"
     ]
    }
   ],
   "source": [
    "# Back to the running example\n",
    "\n",
    "QRDimRed(ex_rep)"
   ]
  },
  {
   "cell_type": "code",
   "execution_count": null,
   "id": "electronic-vaccine",
   "metadata": {},
   "outputs": [],
   "source": []
  },
  {
   "cell_type": "code",
   "execution_count": null,
   "id": "available-possible",
   "metadata": {},
   "outputs": [],
   "source": []
  },
  {
   "cell_type": "markdown",
   "id": "educated-beijing",
   "metadata": {},
   "source": [
    "# Quiver Neural Networks"
   ]
  },
  {
   "cell_type": "code",
   "execution_count": 9,
   "id": "united-finance",
   "metadata": {},
   "outputs": [],
   "source": [
    "class RadAct(nn.Module):\n",
    "    def __init__(self, eta = F.relu):\n",
    "        super().__init__()\n",
    "        self.eta = eta\n",
    "        self.shift = 0 \n",
    "        # Add internal bias/shift later\n",
    "        \n",
    "    def forward(self,x):\n",
    "        # x: [Batch x Channel]\n",
    "        r = torch.linalg.norm(x, dim=-1) \n",
    "        if torch.min(r) < 1e-6:\n",
    "            r += 1e-6\n",
    "        scalar = self.eta(r + self.shift) / r\n",
    "        return x * scalar.unsqueeze(-1)   "
   ]
  },
  {
   "cell_type": "code",
   "execution_count": 10,
   "id": "willing-potential",
   "metadata": {},
   "outputs": [],
   "source": [
    "class QuiverNN(nn.Module):\n",
    "    \n",
    "    def __init__(self, eta:float , Q: quiver, dims: Dict ):\n",
    "        super().__init__()\n",
    "        self.eta = eta\n",
    "        self.Q = Q\n",
    "        sefl.dims = dims\n",
    "        # Assert statement to check that dims is a dimension vector for Q\n",
    "        \n",
    "        # Reduced dimension vector\n",
    "        # self.dims_red = [self.dims[0]]\n",
    "\n",
    "\n",
    "    def forward(self, x):\n",
    "        h = x\n",
    "        for lin,act in zip(self.layers[:-1], self.act_fns):\n",
    "            h = act(lin(h))\n",
    "        return self.output_layer(h)\n",
    "    \n",
    "    def set_weights(self, new_weights: quiver_rep):\n",
    "        None \n",
    "    \n",
    "    def set_activation_biases(self, new_biases: List[float]):    \n",
    "        None\n",
    "\n",
    "    def export_weights(self) -> quiver_rep:\n",
    "        None\n",
    "    \n",
    "    def export_activation_biases(self) -> List[float]:\n",
    "        None\n",
    "    \n",
    "    def export_reduced_weights(self) -> quiver_rep:\n",
    "        None\n",
    "    \n",
    "    def transformed_network(self):\n",
    "        None\n",
    "        \n",
    "    def reduced_network(self):\n",
    "        None"
   ]
  },
  {
   "cell_type": "code",
   "execution_count": null,
   "id": "therapeutic-census",
   "metadata": {},
   "outputs": [],
   "source": []
  },
  {
   "cell_type": "code",
   "execution_count": null,
   "id": "documentary-triumph",
   "metadata": {},
   "outputs": [],
   "source": []
  },
  {
   "cell_type": "code",
   "execution_count": null,
   "id": "thermal-scanner",
   "metadata": {},
   "outputs": [],
   "source": []
  },
  {
   "cell_type": "code",
   "execution_count": null,
   "id": "sexual-supplier",
   "metadata": {},
   "outputs": [],
   "source": []
  },
  {
   "cell_type": "markdown",
   "id": "sapphire-stanley",
   "metadata": {},
   "source": [
    "# Scraps"
   ]
  },
  {
   "cell_type": "code",
   "execution_count": 11,
   "id": "fifteen-disaster",
   "metadata": {},
   "outputs": [],
   "source": [
    "class vertex:\n",
    "    def __init__(self):\n",
    "        None"
   ]
  },
  {
   "cell_type": "code",
   "execution_count": 12,
   "id": "pleased-hindu",
   "metadata": {},
   "outputs": [],
   "source": [
    "a = vertex()"
   ]
  }
 ],
 "metadata": {
  "kernelspec": {
   "display_name": "Python 3",
   "language": "python",
   "name": "python3"
  },
  "language_info": {
   "codemirror_mode": {
    "name": "ipython",
    "version": 3
   },
   "file_extension": ".py",
   "mimetype": "text/x-python",
   "name": "python",
   "nbconvert_exporter": "python",
   "pygments_lexer": "ipython3",
   "version": "3.8.2"
  }
 },
 "nbformat": 4,
 "nbformat_minor": 5
}
